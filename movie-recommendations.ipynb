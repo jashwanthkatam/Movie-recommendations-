{
 "cells": [
  {
   "cell_type": "code",
   "execution_count": 1,
   "id": "d9f7557c",
   "metadata": {
    "_cell_guid": "b1076dfc-b9ad-4769-8c92-a6c4dae69d19",
    "_uuid": "8f2839f25d086af736a60e9eeb907d3b93b6e0e5",
    "execution": {
     "iopub.execute_input": "2025-05-22T06:16:48.823133Z",
     "iopub.status.busy": "2025-05-22T06:16:48.822887Z",
     "iopub.status.idle": "2025-05-22T06:16:50.183559Z",
     "shell.execute_reply": "2025-05-22T06:16:50.182682Z"
    },
    "papermill": {
     "duration": 1.371153,
     "end_time": "2025-05-22T06:16:50.185179",
     "exception": false,
     "start_time": "2025-05-22T06:16:48.814026",
     "status": "completed"
    },
    "tags": []
   },
   "outputs": [
    {
     "name": "stdout",
     "output_type": "stream",
     "text": [
      "/kaggle/input/tmdb-movie-metadata/tmdb_5000_movies.csv\n",
      "/kaggle/input/tmdb-movie-metadata/tmdb_5000_credits.csv\n",
      "/kaggle/input/the-movies-dataset/ratings.csv\n",
      "/kaggle/input/the-movies-dataset/links_small.csv\n",
      "/kaggle/input/the-movies-dataset/credits.csv\n",
      "/kaggle/input/the-movies-dataset/keywords.csv\n",
      "/kaggle/input/the-movies-dataset/movies_metadata.csv\n",
      "/kaggle/input/the-movies-dataset/ratings_small.csv\n",
      "/kaggle/input/the-movies-dataset/links.csv\n"
     ]
    }
   ],
   "source": [
    "# This Python 3 environment comes with many helpful analytics libraries installed\n",
    "# It is defined by the kaggle/python Docker image: https://github.com/kaggle/docker-python\n",
    "# For example, here's several helpful packages to load\n",
    "\n",
    "import numpy as np # linear algebra\n",
    "import pandas as pd # data processing, CSV file I/O (e.g. pd.read_csv)\n",
    "\n",
    "# Input data files are available in the read-only \"../input/\" directory\n",
    "# For example, running this (by clicking run or pressing Shift+Enter) will list all files under the input directory\n",
    "\n",
    "import os\n",
    "for dirname, _, filenames in os.walk('/kaggle/input'):\n",
    "    for filename in filenames:\n",
    "        print(os.path.join(dirname, filename))\n",
    "\n",
    "# You can write up to 20GB to the current directory (/kaggle/working/) that gets preserved as output when you create a version using \"Save & Run All\" \n",
    "# You can also write temporary files to /kaggle/temp/, but they won't be saved outside of the current session"
   ]
  },
  {
   "cell_type": "code",
   "execution_count": 2,
   "id": "8942150d",
   "metadata": {
    "execution": {
     "iopub.execute_input": "2025-05-22T06:16:50.201108Z",
     "iopub.status.busy": "2025-05-22T06:16:50.200689Z",
     "iopub.status.idle": "2025-05-22T06:16:51.235869Z",
     "shell.execute_reply": "2025-05-22T06:16:51.235238Z"
    },
    "papermill": {
     "duration": 1.044194,
     "end_time": "2025-05-22T06:16:51.237166",
     "exception": false,
     "start_time": "2025-05-22T06:16:50.192972",
     "status": "completed"
    },
    "tags": []
   },
   "outputs": [],
   "source": [
    "movies=pd.read_csv(\"../input/tmdb-movie-metadata/tmdb_5000_movies.csv\")\n",
    "credits=pd.read_csv(\"../input/tmdb-movie-metadata/tmdb_5000_credits.csv\")"
   ]
  },
  {
   "cell_type": "code",
   "execution_count": 3,
   "id": "d9761c5b",
   "metadata": {
    "execution": {
     "iopub.execute_input": "2025-05-22T06:16:51.252225Z",
     "iopub.status.busy": "2025-05-22T06:16:51.252011Z",
     "iopub.status.idle": "2025-05-22T06:16:51.280035Z",
     "shell.execute_reply": "2025-05-22T06:16:51.279342Z"
    },
    "papermill": {
     "duration": 0.036664,
     "end_time": "2025-05-22T06:16:51.281210",
     "exception": false,
     "start_time": "2025-05-22T06:16:51.244546",
     "status": "completed"
    },
    "tags": []
   },
   "outputs": [
    {
     "data": {
      "text/html": [
       "<div>\n",
       "<style scoped>\n",
       "    .dataframe tbody tr th:only-of-type {\n",
       "        vertical-align: middle;\n",
       "    }\n",
       "\n",
       "    .dataframe tbody tr th {\n",
       "        vertical-align: top;\n",
       "    }\n",
       "\n",
       "    .dataframe thead th {\n",
       "        text-align: right;\n",
       "    }\n",
       "</style>\n",
       "<table border=\"1\" class=\"dataframe\">\n",
       "  <thead>\n",
       "    <tr style=\"text-align: right;\">\n",
       "      <th></th>\n",
       "      <th>budget</th>\n",
       "      <th>genres</th>\n",
       "      <th>homepage</th>\n",
       "      <th>id</th>\n",
       "      <th>keywords</th>\n",
       "      <th>original_language</th>\n",
       "      <th>original_title</th>\n",
       "      <th>overview</th>\n",
       "      <th>popularity</th>\n",
       "      <th>production_companies</th>\n",
       "      <th>production_countries</th>\n",
       "      <th>release_date</th>\n",
       "      <th>revenue</th>\n",
       "      <th>runtime</th>\n",
       "      <th>spoken_languages</th>\n",
       "      <th>status</th>\n",
       "      <th>tagline</th>\n",
       "      <th>title</th>\n",
       "      <th>vote_average</th>\n",
       "      <th>vote_count</th>\n",
       "    </tr>\n",
       "  </thead>\n",
       "  <tbody>\n",
       "    <tr>\n",
       "      <th>0</th>\n",
       "      <td>237000000</td>\n",
       "      <td>[{\"id\": 28, \"name\": \"Action\"}, {\"id\": 12, \"nam...</td>\n",
       "      <td>http://www.avatarmovie.com/</td>\n",
       "      <td>19995</td>\n",
       "      <td>[{\"id\": 1463, \"name\": \"culture clash\"}, {\"id\":...</td>\n",
       "      <td>en</td>\n",
       "      <td>Avatar</td>\n",
       "      <td>In the 22nd century, a paraplegic Marine is di...</td>\n",
       "      <td>150.437577</td>\n",
       "      <td>[{\"name\": \"Ingenious Film Partners\", \"id\": 289...</td>\n",
       "      <td>[{\"iso_3166_1\": \"US\", \"name\": \"United States o...</td>\n",
       "      <td>2009-12-10</td>\n",
       "      <td>2787965087</td>\n",
       "      <td>162.0</td>\n",
       "      <td>[{\"iso_639_1\": \"en\", \"name\": \"English\"}, {\"iso...</td>\n",
       "      <td>Released</td>\n",
       "      <td>Enter the World of Pandora.</td>\n",
       "      <td>Avatar</td>\n",
       "      <td>7.2</td>\n",
       "      <td>11800</td>\n",
       "    </tr>\n",
       "    <tr>\n",
       "      <th>1</th>\n",
       "      <td>300000000</td>\n",
       "      <td>[{\"id\": 12, \"name\": \"Adventure\"}, {\"id\": 14, \"...</td>\n",
       "      <td>http://disney.go.com/disneypictures/pirates/</td>\n",
       "      <td>285</td>\n",
       "      <td>[{\"id\": 270, \"name\": \"ocean\"}, {\"id\": 726, \"na...</td>\n",
       "      <td>en</td>\n",
       "      <td>Pirates of the Caribbean: At World's End</td>\n",
       "      <td>Captain Barbossa, long believed to be dead, ha...</td>\n",
       "      <td>139.082615</td>\n",
       "      <td>[{\"name\": \"Walt Disney Pictures\", \"id\": 2}, {\"...</td>\n",
       "      <td>[{\"iso_3166_1\": \"US\", \"name\": \"United States o...</td>\n",
       "      <td>2007-05-19</td>\n",
       "      <td>961000000</td>\n",
       "      <td>169.0</td>\n",
       "      <td>[{\"iso_639_1\": \"en\", \"name\": \"English\"}]</td>\n",
       "      <td>Released</td>\n",
       "      <td>At the end of the world, the adventure begins.</td>\n",
       "      <td>Pirates of the Caribbean: At World's End</td>\n",
       "      <td>6.9</td>\n",
       "      <td>4500</td>\n",
       "    </tr>\n",
       "    <tr>\n",
       "      <th>2</th>\n",
       "      <td>245000000</td>\n",
       "      <td>[{\"id\": 28, \"name\": \"Action\"}, {\"id\": 12, \"nam...</td>\n",
       "      <td>http://www.sonypictures.com/movies/spectre/</td>\n",
       "      <td>206647</td>\n",
       "      <td>[{\"id\": 470, \"name\": \"spy\"}, {\"id\": 818, \"name...</td>\n",
       "      <td>en</td>\n",
       "      <td>Spectre</td>\n",
       "      <td>A cryptic message from Bond’s past sends him o...</td>\n",
       "      <td>107.376788</td>\n",
       "      <td>[{\"name\": \"Columbia Pictures\", \"id\": 5}, {\"nam...</td>\n",
       "      <td>[{\"iso_3166_1\": \"GB\", \"name\": \"United Kingdom\"...</td>\n",
       "      <td>2015-10-26</td>\n",
       "      <td>880674609</td>\n",
       "      <td>148.0</td>\n",
       "      <td>[{\"iso_639_1\": \"fr\", \"name\": \"Fran\\u00e7ais\"},...</td>\n",
       "      <td>Released</td>\n",
       "      <td>A Plan No One Escapes</td>\n",
       "      <td>Spectre</td>\n",
       "      <td>6.3</td>\n",
       "      <td>4466</td>\n",
       "    </tr>\n",
       "    <tr>\n",
       "      <th>3</th>\n",
       "      <td>250000000</td>\n",
       "      <td>[{\"id\": 28, \"name\": \"Action\"}, {\"id\": 80, \"nam...</td>\n",
       "      <td>http://www.thedarkknightrises.com/</td>\n",
       "      <td>49026</td>\n",
       "      <td>[{\"id\": 849, \"name\": \"dc comics\"}, {\"id\": 853,...</td>\n",
       "      <td>en</td>\n",
       "      <td>The Dark Knight Rises</td>\n",
       "      <td>Following the death of District Attorney Harve...</td>\n",
       "      <td>112.312950</td>\n",
       "      <td>[{\"name\": \"Legendary Pictures\", \"id\": 923}, {\"...</td>\n",
       "      <td>[{\"iso_3166_1\": \"US\", \"name\": \"United States o...</td>\n",
       "      <td>2012-07-16</td>\n",
       "      <td>1084939099</td>\n",
       "      <td>165.0</td>\n",
       "      <td>[{\"iso_639_1\": \"en\", \"name\": \"English\"}]</td>\n",
       "      <td>Released</td>\n",
       "      <td>The Legend Ends</td>\n",
       "      <td>The Dark Knight Rises</td>\n",
       "      <td>7.6</td>\n",
       "      <td>9106</td>\n",
       "    </tr>\n",
       "    <tr>\n",
       "      <th>4</th>\n",
       "      <td>260000000</td>\n",
       "      <td>[{\"id\": 28, \"name\": \"Action\"}, {\"id\": 12, \"nam...</td>\n",
       "      <td>http://movies.disney.com/john-carter</td>\n",
       "      <td>49529</td>\n",
       "      <td>[{\"id\": 818, \"name\": \"based on novel\"}, {\"id\":...</td>\n",
       "      <td>en</td>\n",
       "      <td>John Carter</td>\n",
       "      <td>John Carter is a war-weary, former military ca...</td>\n",
       "      <td>43.926995</td>\n",
       "      <td>[{\"name\": \"Walt Disney Pictures\", \"id\": 2}]</td>\n",
       "      <td>[{\"iso_3166_1\": \"US\", \"name\": \"United States o...</td>\n",
       "      <td>2012-03-07</td>\n",
       "      <td>284139100</td>\n",
       "      <td>132.0</td>\n",
       "      <td>[{\"iso_639_1\": \"en\", \"name\": \"English\"}]</td>\n",
       "      <td>Released</td>\n",
       "      <td>Lost in our world, found in another.</td>\n",
       "      <td>John Carter</td>\n",
       "      <td>6.1</td>\n",
       "      <td>2124</td>\n",
       "    </tr>\n",
       "    <tr>\n",
       "      <th>5</th>\n",
       "      <td>258000000</td>\n",
       "      <td>[{\"id\": 14, \"name\": \"Fantasy\"}, {\"id\": 28, \"na...</td>\n",
       "      <td>http://www.sonypictures.com/movies/spider-man3/</td>\n",
       "      <td>559</td>\n",
       "      <td>[{\"id\": 851, \"name\": \"dual identity\"}, {\"id\": ...</td>\n",
       "      <td>en</td>\n",
       "      <td>Spider-Man 3</td>\n",
       "      <td>The seemingly invincible Spider-Man goes up ag...</td>\n",
       "      <td>115.699814</td>\n",
       "      <td>[{\"name\": \"Columbia Pictures\", \"id\": 5}, {\"nam...</td>\n",
       "      <td>[{\"iso_3166_1\": \"US\", \"name\": \"United States o...</td>\n",
       "      <td>2007-05-01</td>\n",
       "      <td>890871626</td>\n",
       "      <td>139.0</td>\n",
       "      <td>[{\"iso_639_1\": \"en\", \"name\": \"English\"}, {\"iso...</td>\n",
       "      <td>Released</td>\n",
       "      <td>The battle within.</td>\n",
       "      <td>Spider-Man 3</td>\n",
       "      <td>5.9</td>\n",
       "      <td>3576</td>\n",
       "    </tr>\n",
       "    <tr>\n",
       "      <th>6</th>\n",
       "      <td>260000000</td>\n",
       "      <td>[{\"id\": 16, \"name\": \"Animation\"}, {\"id\": 10751...</td>\n",
       "      <td>http://disney.go.com/disneypictures/tangled/</td>\n",
       "      <td>38757</td>\n",
       "      <td>[{\"id\": 1562, \"name\": \"hostage\"}, {\"id\": 2343,...</td>\n",
       "      <td>en</td>\n",
       "      <td>Tangled</td>\n",
       "      <td>When the kingdom's most wanted-and most charmi...</td>\n",
       "      <td>48.681969</td>\n",
       "      <td>[{\"name\": \"Walt Disney Pictures\", \"id\": 2}, {\"...</td>\n",
       "      <td>[{\"iso_3166_1\": \"US\", \"name\": \"United States o...</td>\n",
       "      <td>2010-11-24</td>\n",
       "      <td>591794936</td>\n",
       "      <td>100.0</td>\n",
       "      <td>[{\"iso_639_1\": \"en\", \"name\": \"English\"}]</td>\n",
       "      <td>Released</td>\n",
       "      <td>They're taking adventure to new lengths.</td>\n",
       "      <td>Tangled</td>\n",
       "      <td>7.4</td>\n",
       "      <td>3330</td>\n",
       "    </tr>\n",
       "    <tr>\n",
       "      <th>7</th>\n",
       "      <td>280000000</td>\n",
       "      <td>[{\"id\": 28, \"name\": \"Action\"}, {\"id\": 12, \"nam...</td>\n",
       "      <td>http://marvel.com/movies/movie/193/avengers_ag...</td>\n",
       "      <td>99861</td>\n",
       "      <td>[{\"id\": 8828, \"name\": \"marvel comic\"}, {\"id\": ...</td>\n",
       "      <td>en</td>\n",
       "      <td>Avengers: Age of Ultron</td>\n",
       "      <td>When Tony Stark tries to jumpstart a dormant p...</td>\n",
       "      <td>134.279229</td>\n",
       "      <td>[{\"name\": \"Marvel Studios\", \"id\": 420}, {\"name...</td>\n",
       "      <td>[{\"iso_3166_1\": \"US\", \"name\": \"United States o...</td>\n",
       "      <td>2015-04-22</td>\n",
       "      <td>1405403694</td>\n",
       "      <td>141.0</td>\n",
       "      <td>[{\"iso_639_1\": \"en\", \"name\": \"English\"}]</td>\n",
       "      <td>Released</td>\n",
       "      <td>A New Age Has Come.</td>\n",
       "      <td>Avengers: Age of Ultron</td>\n",
       "      <td>7.3</td>\n",
       "      <td>6767</td>\n",
       "    </tr>\n",
       "    <tr>\n",
       "      <th>8</th>\n",
       "      <td>250000000</td>\n",
       "      <td>[{\"id\": 12, \"name\": \"Adventure\"}, {\"id\": 14, \"...</td>\n",
       "      <td>http://harrypotter.warnerbros.com/harrypottera...</td>\n",
       "      <td>767</td>\n",
       "      <td>[{\"id\": 616, \"name\": \"witch\"}, {\"id\": 2343, \"n...</td>\n",
       "      <td>en</td>\n",
       "      <td>Harry Potter and the Half-Blood Prince</td>\n",
       "      <td>As Harry begins his sixth year at Hogwarts, he...</td>\n",
       "      <td>98.885637</td>\n",
       "      <td>[{\"name\": \"Warner Bros.\", \"id\": 6194}, {\"name\"...</td>\n",
       "      <td>[{\"iso_3166_1\": \"GB\", \"name\": \"United Kingdom\"...</td>\n",
       "      <td>2009-07-07</td>\n",
       "      <td>933959197</td>\n",
       "      <td>153.0</td>\n",
       "      <td>[{\"iso_639_1\": \"en\", \"name\": \"English\"}]</td>\n",
       "      <td>Released</td>\n",
       "      <td>Dark Secrets Revealed</td>\n",
       "      <td>Harry Potter and the Half-Blood Prince</td>\n",
       "      <td>7.4</td>\n",
       "      <td>5293</td>\n",
       "    </tr>\n",
       "    <tr>\n",
       "      <th>9</th>\n",
       "      <td>250000000</td>\n",
       "      <td>[{\"id\": 28, \"name\": \"Action\"}, {\"id\": 12, \"nam...</td>\n",
       "      <td>http://www.batmanvsupermandawnofjustice.com/</td>\n",
       "      <td>209112</td>\n",
       "      <td>[{\"id\": 849, \"name\": \"dc comics\"}, {\"id\": 7002...</td>\n",
       "      <td>en</td>\n",
       "      <td>Batman v Superman: Dawn of Justice</td>\n",
       "      <td>Fearing the actions of a god-like Super Hero l...</td>\n",
       "      <td>155.790452</td>\n",
       "      <td>[{\"name\": \"DC Comics\", \"id\": 429}, {\"name\": \"A...</td>\n",
       "      <td>[{\"iso_3166_1\": \"US\", \"name\": \"United States o...</td>\n",
       "      <td>2016-03-23</td>\n",
       "      <td>873260194</td>\n",
       "      <td>151.0</td>\n",
       "      <td>[{\"iso_639_1\": \"en\", \"name\": \"English\"}]</td>\n",
       "      <td>Released</td>\n",
       "      <td>Justice or revenge</td>\n",
       "      <td>Batman v Superman: Dawn of Justice</td>\n",
       "      <td>5.7</td>\n",
       "      <td>7004</td>\n",
       "    </tr>\n",
       "  </tbody>\n",
       "</table>\n",
       "</div>"
      ],
      "text/plain": [
       "      budget                                             genres  \\\n",
       "0  237000000  [{\"id\": 28, \"name\": \"Action\"}, {\"id\": 12, \"nam...   \n",
       "1  300000000  [{\"id\": 12, \"name\": \"Adventure\"}, {\"id\": 14, \"...   \n",
       "2  245000000  [{\"id\": 28, \"name\": \"Action\"}, {\"id\": 12, \"nam...   \n",
       "3  250000000  [{\"id\": 28, \"name\": \"Action\"}, {\"id\": 80, \"nam...   \n",
       "4  260000000  [{\"id\": 28, \"name\": \"Action\"}, {\"id\": 12, \"nam...   \n",
       "5  258000000  [{\"id\": 14, \"name\": \"Fantasy\"}, {\"id\": 28, \"na...   \n",
       "6  260000000  [{\"id\": 16, \"name\": \"Animation\"}, {\"id\": 10751...   \n",
       "7  280000000  [{\"id\": 28, \"name\": \"Action\"}, {\"id\": 12, \"nam...   \n",
       "8  250000000  [{\"id\": 12, \"name\": \"Adventure\"}, {\"id\": 14, \"...   \n",
       "9  250000000  [{\"id\": 28, \"name\": \"Action\"}, {\"id\": 12, \"nam...   \n",
       "\n",
       "                                            homepage      id  \\\n",
       "0                        http://www.avatarmovie.com/   19995   \n",
       "1       http://disney.go.com/disneypictures/pirates/     285   \n",
       "2        http://www.sonypictures.com/movies/spectre/  206647   \n",
       "3                 http://www.thedarkknightrises.com/   49026   \n",
       "4               http://movies.disney.com/john-carter   49529   \n",
       "5    http://www.sonypictures.com/movies/spider-man3/     559   \n",
       "6       http://disney.go.com/disneypictures/tangled/   38757   \n",
       "7  http://marvel.com/movies/movie/193/avengers_ag...   99861   \n",
       "8  http://harrypotter.warnerbros.com/harrypottera...     767   \n",
       "9       http://www.batmanvsupermandawnofjustice.com/  209112   \n",
       "\n",
       "                                            keywords original_language  \\\n",
       "0  [{\"id\": 1463, \"name\": \"culture clash\"}, {\"id\":...                en   \n",
       "1  [{\"id\": 270, \"name\": \"ocean\"}, {\"id\": 726, \"na...                en   \n",
       "2  [{\"id\": 470, \"name\": \"spy\"}, {\"id\": 818, \"name...                en   \n",
       "3  [{\"id\": 849, \"name\": \"dc comics\"}, {\"id\": 853,...                en   \n",
       "4  [{\"id\": 818, \"name\": \"based on novel\"}, {\"id\":...                en   \n",
       "5  [{\"id\": 851, \"name\": \"dual identity\"}, {\"id\": ...                en   \n",
       "6  [{\"id\": 1562, \"name\": \"hostage\"}, {\"id\": 2343,...                en   \n",
       "7  [{\"id\": 8828, \"name\": \"marvel comic\"}, {\"id\": ...                en   \n",
       "8  [{\"id\": 616, \"name\": \"witch\"}, {\"id\": 2343, \"n...                en   \n",
       "9  [{\"id\": 849, \"name\": \"dc comics\"}, {\"id\": 7002...                en   \n",
       "\n",
       "                             original_title  \\\n",
       "0                                    Avatar   \n",
       "1  Pirates of the Caribbean: At World's End   \n",
       "2                                   Spectre   \n",
       "3                     The Dark Knight Rises   \n",
       "4                               John Carter   \n",
       "5                              Spider-Man 3   \n",
       "6                                   Tangled   \n",
       "7                   Avengers: Age of Ultron   \n",
       "8    Harry Potter and the Half-Blood Prince   \n",
       "9        Batman v Superman: Dawn of Justice   \n",
       "\n",
       "                                            overview  popularity  \\\n",
       "0  In the 22nd century, a paraplegic Marine is di...  150.437577   \n",
       "1  Captain Barbossa, long believed to be dead, ha...  139.082615   \n",
       "2  A cryptic message from Bond’s past sends him o...  107.376788   \n",
       "3  Following the death of District Attorney Harve...  112.312950   \n",
       "4  John Carter is a war-weary, former military ca...   43.926995   \n",
       "5  The seemingly invincible Spider-Man goes up ag...  115.699814   \n",
       "6  When the kingdom's most wanted-and most charmi...   48.681969   \n",
       "7  When Tony Stark tries to jumpstart a dormant p...  134.279229   \n",
       "8  As Harry begins his sixth year at Hogwarts, he...   98.885637   \n",
       "9  Fearing the actions of a god-like Super Hero l...  155.790452   \n",
       "\n",
       "                                production_companies  \\\n",
       "0  [{\"name\": \"Ingenious Film Partners\", \"id\": 289...   \n",
       "1  [{\"name\": \"Walt Disney Pictures\", \"id\": 2}, {\"...   \n",
       "2  [{\"name\": \"Columbia Pictures\", \"id\": 5}, {\"nam...   \n",
       "3  [{\"name\": \"Legendary Pictures\", \"id\": 923}, {\"...   \n",
       "4        [{\"name\": \"Walt Disney Pictures\", \"id\": 2}]   \n",
       "5  [{\"name\": \"Columbia Pictures\", \"id\": 5}, {\"nam...   \n",
       "6  [{\"name\": \"Walt Disney Pictures\", \"id\": 2}, {\"...   \n",
       "7  [{\"name\": \"Marvel Studios\", \"id\": 420}, {\"name...   \n",
       "8  [{\"name\": \"Warner Bros.\", \"id\": 6194}, {\"name\"...   \n",
       "9  [{\"name\": \"DC Comics\", \"id\": 429}, {\"name\": \"A...   \n",
       "\n",
       "                                production_countries release_date     revenue  \\\n",
       "0  [{\"iso_3166_1\": \"US\", \"name\": \"United States o...   2009-12-10  2787965087   \n",
       "1  [{\"iso_3166_1\": \"US\", \"name\": \"United States o...   2007-05-19   961000000   \n",
       "2  [{\"iso_3166_1\": \"GB\", \"name\": \"United Kingdom\"...   2015-10-26   880674609   \n",
       "3  [{\"iso_3166_1\": \"US\", \"name\": \"United States o...   2012-07-16  1084939099   \n",
       "4  [{\"iso_3166_1\": \"US\", \"name\": \"United States o...   2012-03-07   284139100   \n",
       "5  [{\"iso_3166_1\": \"US\", \"name\": \"United States o...   2007-05-01   890871626   \n",
       "6  [{\"iso_3166_1\": \"US\", \"name\": \"United States o...   2010-11-24   591794936   \n",
       "7  [{\"iso_3166_1\": \"US\", \"name\": \"United States o...   2015-04-22  1405403694   \n",
       "8  [{\"iso_3166_1\": \"GB\", \"name\": \"United Kingdom\"...   2009-07-07   933959197   \n",
       "9  [{\"iso_3166_1\": \"US\", \"name\": \"United States o...   2016-03-23   873260194   \n",
       "\n",
       "   runtime                                   spoken_languages    status  \\\n",
       "0    162.0  [{\"iso_639_1\": \"en\", \"name\": \"English\"}, {\"iso...  Released   \n",
       "1    169.0           [{\"iso_639_1\": \"en\", \"name\": \"English\"}]  Released   \n",
       "2    148.0  [{\"iso_639_1\": \"fr\", \"name\": \"Fran\\u00e7ais\"},...  Released   \n",
       "3    165.0           [{\"iso_639_1\": \"en\", \"name\": \"English\"}]  Released   \n",
       "4    132.0           [{\"iso_639_1\": \"en\", \"name\": \"English\"}]  Released   \n",
       "5    139.0  [{\"iso_639_1\": \"en\", \"name\": \"English\"}, {\"iso...  Released   \n",
       "6    100.0           [{\"iso_639_1\": \"en\", \"name\": \"English\"}]  Released   \n",
       "7    141.0           [{\"iso_639_1\": \"en\", \"name\": \"English\"}]  Released   \n",
       "8    153.0           [{\"iso_639_1\": \"en\", \"name\": \"English\"}]  Released   \n",
       "9    151.0           [{\"iso_639_1\": \"en\", \"name\": \"English\"}]  Released   \n",
       "\n",
       "                                          tagline  \\\n",
       "0                     Enter the World of Pandora.   \n",
       "1  At the end of the world, the adventure begins.   \n",
       "2                           A Plan No One Escapes   \n",
       "3                                 The Legend Ends   \n",
       "4            Lost in our world, found in another.   \n",
       "5                              The battle within.   \n",
       "6        They're taking adventure to new lengths.   \n",
       "7                             A New Age Has Come.   \n",
       "8                           Dark Secrets Revealed   \n",
       "9                              Justice or revenge   \n",
       "\n",
       "                                      title  vote_average  vote_count  \n",
       "0                                    Avatar           7.2       11800  \n",
       "1  Pirates of the Caribbean: At World's End           6.9        4500  \n",
       "2                                   Spectre           6.3        4466  \n",
       "3                     The Dark Knight Rises           7.6        9106  \n",
       "4                               John Carter           6.1        2124  \n",
       "5                              Spider-Man 3           5.9        3576  \n",
       "6                                   Tangled           7.4        3330  \n",
       "7                   Avengers: Age of Ultron           7.3        6767  \n",
       "8    Harry Potter and the Half-Blood Prince           7.4        5293  \n",
       "9        Batman v Superman: Dawn of Justice           5.7        7004  "
      ]
     },
     "execution_count": 3,
     "metadata": {},
     "output_type": "execute_result"
    }
   ],
   "source": [
    "movies.head(10)"
   ]
  },
  {
   "cell_type": "code",
   "execution_count": 4,
   "id": "5ac2a6bc",
   "metadata": {
    "execution": {
     "iopub.execute_input": "2025-05-22T06:16:51.297645Z",
     "iopub.status.busy": "2025-05-22T06:16:51.297407Z",
     "iopub.status.idle": "2025-05-22T06:16:51.303376Z",
     "shell.execute_reply": "2025-05-22T06:16:51.302561Z"
    },
    "papermill": {
     "duration": 0.015252,
     "end_time": "2025-05-22T06:16:51.304450",
     "exception": false,
     "start_time": "2025-05-22T06:16:51.289198",
     "status": "completed"
    },
    "tags": []
   },
   "outputs": [
    {
     "data": {
      "text/plain": [
       "array(['[{\"id\": 1463, \"name\": \"culture clash\"}, {\"id\": 2964, \"name\": \"future\"}, {\"id\": 3386, \"name\": \"space war\"}, {\"id\": 3388, \"name\": \"space colony\"}, {\"id\": 3679, \"name\": \"society\"}, {\"id\": 3801, \"name\": \"space travel\"}, {\"id\": 9685, \"name\": \"futuristic\"}, {\"id\": 9840, \"name\": \"romance\"}, {\"id\": 9882, \"name\": \"space\"}, {\"id\": 9951, \"name\": \"alien\"}, {\"id\": 10148, \"name\": \"tribe\"}, {\"id\": 10158, \"name\": \"alien planet\"}, {\"id\": 10987, \"name\": \"cgi\"}, {\"id\": 11399, \"name\": \"marine\"}, {\"id\": 13065, \"name\": \"soldier\"}, {\"id\": 14643, \"name\": \"battle\"}, {\"id\": 14720, \"name\": \"love affair\"}, {\"id\": 165431, \"name\": \"anti war\"}, {\"id\": 193554, \"name\": \"power relations\"}, {\"id\": 206690, \"name\": \"mind and soul\"}, {\"id\": 209714, \"name\": \"3d\"}]'],\n",
       "      dtype=object)"
      ]
     },
     "execution_count": 4,
     "metadata": {},
     "output_type": "execute_result"
    }
   ],
   "source": [
    "movies.head(1)[\"keywords\"].values #keyword of avtar movie"
   ]
  },
  {
   "cell_type": "code",
   "execution_count": 5,
   "id": "703db084",
   "metadata": {
    "execution": {
     "iopub.execute_input": "2025-05-22T06:16:51.321054Z",
     "iopub.status.busy": "2025-05-22T06:16:51.320839Z",
     "iopub.status.idle": "2025-05-22T06:16:51.328806Z",
     "shell.execute_reply": "2025-05-22T06:16:51.328214Z"
    },
    "papermill": {
     "duration": 0.017286,
     "end_time": "2025-05-22T06:16:51.329764",
     "exception": false,
     "start_time": "2025-05-22T06:16:51.312478",
     "status": "completed"
    },
    "tags": []
   },
   "outputs": [
    {
     "data": {
      "text/html": [
       "<div>\n",
       "<style scoped>\n",
       "    .dataframe tbody tr th:only-of-type {\n",
       "        vertical-align: middle;\n",
       "    }\n",
       "\n",
       "    .dataframe tbody tr th {\n",
       "        vertical-align: top;\n",
       "    }\n",
       "\n",
       "    .dataframe thead th {\n",
       "        text-align: right;\n",
       "    }\n",
       "</style>\n",
       "<table border=\"1\" class=\"dataframe\">\n",
       "  <thead>\n",
       "    <tr style=\"text-align: right;\">\n",
       "      <th></th>\n",
       "      <th>movie_id</th>\n",
       "      <th>title</th>\n",
       "      <th>cast</th>\n",
       "      <th>crew</th>\n",
       "    </tr>\n",
       "  </thead>\n",
       "  <tbody>\n",
       "    <tr>\n",
       "      <th>0</th>\n",
       "      <td>19995</td>\n",
       "      <td>Avatar</td>\n",
       "      <td>[{\"cast_id\": 242, \"character\": \"Jake Sully\", \"...</td>\n",
       "      <td>[{\"credit_id\": \"52fe48009251416c750aca23\", \"de...</td>\n",
       "    </tr>\n",
       "    <tr>\n",
       "      <th>1</th>\n",
       "      <td>285</td>\n",
       "      <td>Pirates of the Caribbean: At World's End</td>\n",
       "      <td>[{\"cast_id\": 4, \"character\": \"Captain Jack Spa...</td>\n",
       "      <td>[{\"credit_id\": \"52fe4232c3a36847f800b579\", \"de...</td>\n",
       "    </tr>\n",
       "    <tr>\n",
       "      <th>2</th>\n",
       "      <td>206647</td>\n",
       "      <td>Spectre</td>\n",
       "      <td>[{\"cast_id\": 1, \"character\": \"James Bond\", \"cr...</td>\n",
       "      <td>[{\"credit_id\": \"54805967c3a36829b5002c41\", \"de...</td>\n",
       "    </tr>\n",
       "    <tr>\n",
       "      <th>3</th>\n",
       "      <td>49026</td>\n",
       "      <td>The Dark Knight Rises</td>\n",
       "      <td>[{\"cast_id\": 2, \"character\": \"Bruce Wayne / Ba...</td>\n",
       "      <td>[{\"credit_id\": \"52fe4781c3a36847f81398c3\", \"de...</td>\n",
       "    </tr>\n",
       "    <tr>\n",
       "      <th>4</th>\n",
       "      <td>49529</td>\n",
       "      <td>John Carter</td>\n",
       "      <td>[{\"cast_id\": 5, \"character\": \"John Carter\", \"c...</td>\n",
       "      <td>[{\"credit_id\": \"52fe479ac3a36847f813eaa3\", \"de...</td>\n",
       "    </tr>\n",
       "  </tbody>\n",
       "</table>\n",
       "</div>"
      ],
      "text/plain": [
       "   movie_id                                     title  \\\n",
       "0     19995                                    Avatar   \n",
       "1       285  Pirates of the Caribbean: At World's End   \n",
       "2    206647                                   Spectre   \n",
       "3     49026                     The Dark Knight Rises   \n",
       "4     49529                               John Carter   \n",
       "\n",
       "                                                cast  \\\n",
       "0  [{\"cast_id\": 242, \"character\": \"Jake Sully\", \"...   \n",
       "1  [{\"cast_id\": 4, \"character\": \"Captain Jack Spa...   \n",
       "2  [{\"cast_id\": 1, \"character\": \"James Bond\", \"cr...   \n",
       "3  [{\"cast_id\": 2, \"character\": \"Bruce Wayne / Ba...   \n",
       "4  [{\"cast_id\": 5, \"character\": \"John Carter\", \"c...   \n",
       "\n",
       "                                                crew  \n",
       "0  [{\"credit_id\": \"52fe48009251416c750aca23\", \"de...  \n",
       "1  [{\"credit_id\": \"52fe4232c3a36847f800b579\", \"de...  \n",
       "2  [{\"credit_id\": \"54805967c3a36829b5002c41\", \"de...  \n",
       "3  [{\"credit_id\": \"52fe4781c3a36847f81398c3\", \"de...  \n",
       "4  [{\"credit_id\": \"52fe479ac3a36847f813eaa3\", \"de...  "
      ]
     },
     "execution_count": 5,
     "metadata": {},
     "output_type": "execute_result"
    }
   ],
   "source": [
    "credits.head()"
   ]
  },
  {
   "cell_type": "code",
   "execution_count": 6,
   "id": "f7a19505",
   "metadata": {
    "execution": {
     "iopub.execute_input": "2025-05-22T06:16:51.345930Z",
     "iopub.status.busy": "2025-05-22T06:16:51.345725Z",
     "iopub.status.idle": "2025-05-22T06:16:51.350458Z",
     "shell.execute_reply": "2025-05-22T06:16:51.349856Z"
    },
    "papermill": {
     "duration": 0.01415,
     "end_time": "2025-05-22T06:16:51.351581",
     "exception": false,
     "start_time": "2025-05-22T06:16:51.337431",
     "status": "completed"
    },
    "tags": []
   },
   "outputs": [
    {
     "data": {
      "text/plain": [
       "array(['[{\"cast_id\": 242, \"character\": \"Jake Sully\", \"credit_id\": \"5602a8a7c3a3685532001c9a\", \"gender\": 2, \"id\": 65731, \"name\": \"Sam Worthington\", \"order\": 0}, {\"cast_id\": 3, \"character\": \"Neytiri\", \"credit_id\": \"52fe48009251416c750ac9cb\", \"gender\": 1, \"id\": 8691, \"name\": \"Zoe Saldana\", \"order\": 1}, {\"cast_id\": 25, \"character\": \"Dr. Grace Augustine\", \"credit_id\": \"52fe48009251416c750aca39\", \"gender\": 1, \"id\": 10205, \"name\": \"Sigourney Weaver\", \"order\": 2}, {\"cast_id\": 4, \"character\": \"Col. Quaritch\", \"credit_id\": \"52fe48009251416c750ac9cf\", \"gender\": 2, \"id\": 32747, \"name\": \"Stephen Lang\", \"order\": 3}, {\"cast_id\": 5, \"character\": \"Trudy Chacon\", \"credit_id\": \"52fe48009251416c750ac9d3\", \"gender\": 1, \"id\": 17647, \"name\": \"Michelle Rodriguez\", \"order\": 4}, {\"cast_id\": 8, \"character\": \"Selfridge\", \"credit_id\": \"52fe48009251416c750ac9e1\", \"gender\": 2, \"id\": 1771, \"name\": \"Giovanni Ribisi\", \"order\": 5}, {\"cast_id\": 7, \"character\": \"Norm Spellman\", \"credit_id\": \"52fe48009251416c750ac9dd\", \"gender\": 2, \"id\": 59231, \"name\": \"Joel David Moore\", \"order\": 6}, {\"cast_id\": 9, \"character\": \"Moat\", \"credit_id\": \"52fe48009251416c750ac9e5\", \"gender\": 1, \"id\": 30485, \"name\": \"CCH Pounder\", \"order\": 7}, {\"cast_id\": 11, \"character\": \"Eytukan\", \"credit_id\": \"52fe48009251416c750ac9ed\", \"gender\": 2, \"id\": 15853, \"name\": \"Wes Studi\", \"order\": 8}, {\"cast_id\": 10, \"character\": \"Tsu\\'Tey\", \"credit_id\": \"52fe48009251416c750ac9e9\", \"gender\": 2, \"id\": 10964, \"name\": \"Laz Alonso\", \"order\": 9}, {\"cast_id\": 12, \"character\": \"Dr. Max Patel\", \"credit_id\": \"52fe48009251416c750ac9f1\", \"gender\": 2, \"id\": 95697, \"name\": \"Dileep Rao\", \"order\": 10}, {\"cast_id\": 13, \"character\": \"Lyle Wainfleet\", \"credit_id\": \"52fe48009251416c750ac9f5\", \"gender\": 2, \"id\": 98215, \"name\": \"Matt Gerald\", \"order\": 11}, {\"cast_id\": 32, \"character\": \"Private Fike\", \"credit_id\": \"52fe48009251416c750aca5b\", \"gender\": 2, \"id\": 154153, \"name\": \"Sean Anthony Moran\", \"order\": 12}, {\"cast_id\": 33, \"character\": \"Cryo Vault Med Tech\", \"credit_id\": \"52fe48009251416c750aca5f\", \"gender\": 2, \"id\": 397312, \"name\": \"Jason Whyte\", \"order\": 13}, {\"cast_id\": 34, \"character\": \"Venture Star Crew Chief\", \"credit_id\": \"52fe48009251416c750aca63\", \"gender\": 2, \"id\": 42317, \"name\": \"Scott Lawrence\", \"order\": 14}, {\"cast_id\": 35, \"character\": \"Lock Up Trooper\", \"credit_id\": \"52fe48009251416c750aca67\", \"gender\": 2, \"id\": 986734, \"name\": \"Kelly Kilgour\", \"order\": 15}, {\"cast_id\": 36, \"character\": \"Shuttle Pilot\", \"credit_id\": \"52fe48009251416c750aca6b\", \"gender\": 0, \"id\": 1207227, \"name\": \"James Patrick Pitt\", \"order\": 16}, {\"cast_id\": 37, \"character\": \"Shuttle Co-Pilot\", \"credit_id\": \"52fe48009251416c750aca6f\", \"gender\": 0, \"id\": 1180936, \"name\": \"Sean Patrick Murphy\", \"order\": 17}, {\"cast_id\": 38, \"character\": \"Shuttle Crew Chief\", \"credit_id\": \"52fe48009251416c750aca73\", \"gender\": 2, \"id\": 1019578, \"name\": \"Peter Dillon\", \"order\": 18}, {\"cast_id\": 39, \"character\": \"Tractor Operator / Troupe\", \"credit_id\": \"52fe48009251416c750aca77\", \"gender\": 0, \"id\": 91443, \"name\": \"Kevin Dorman\", \"order\": 19}, {\"cast_id\": 40, \"character\": \"Dragon Gunship Pilot\", \"credit_id\": \"52fe48009251416c750aca7b\", \"gender\": 2, \"id\": 173391, \"name\": \"Kelson Henderson\", \"order\": 20}, {\"cast_id\": 41, \"character\": \"Dragon Gunship Gunner\", \"credit_id\": \"52fe48009251416c750aca7f\", \"gender\": 0, \"id\": 1207236, \"name\": \"David Van Horn\", \"order\": 21}, {\"cast_id\": 42, \"character\": \"Dragon Gunship Navigator\", \"credit_id\": \"52fe48009251416c750aca83\", \"gender\": 0, \"id\": 215913, \"name\": \"Jacob Tomuri\", \"order\": 22}, {\"cast_id\": 43, \"character\": \"Suit #1\", \"credit_id\": \"52fe48009251416c750aca87\", \"gender\": 0, \"id\": 143206, \"name\": \"Michael Blain-Rozgay\", \"order\": 23}, {\"cast_id\": 44, \"character\": \"Suit #2\", \"credit_id\": \"52fe48009251416c750aca8b\", \"gender\": 2, \"id\": 169676, \"name\": \"Jon Curry\", \"order\": 24}, {\"cast_id\": 46, \"character\": \"Ambient Room Tech\", \"credit_id\": \"52fe48009251416c750aca8f\", \"gender\": 0, \"id\": 1048610, \"name\": \"Luke Hawker\", \"order\": 25}, {\"cast_id\": 47, \"character\": \"Ambient Room Tech / Troupe\", \"credit_id\": \"52fe48009251416c750aca93\", \"gender\": 0, \"id\": 42288, \"name\": \"Woody Schultz\", \"order\": 26}, {\"cast_id\": 48, \"character\": \"Horse Clan Leader\", \"credit_id\": \"52fe48009251416c750aca97\", \"gender\": 2, \"id\": 68278, \"name\": \"Peter Mensah\", \"order\": 27}, {\"cast_id\": 49, \"character\": \"Link Room Tech\", \"credit_id\": \"52fe48009251416c750aca9b\", \"gender\": 0, \"id\": 1207247, \"name\": \"Sonia Yee\", \"order\": 28}, {\"cast_id\": 50, \"character\": \"Basketball Avatar / Troupe\", \"credit_id\": \"52fe48009251416c750aca9f\", \"gender\": 1, \"id\": 1207248, \"name\": \"Jahnel Curfman\", \"order\": 29}, {\"cast_id\": 51, \"character\": \"Basketball Avatar\", \"credit_id\": \"52fe48009251416c750acaa3\", \"gender\": 0, \"id\": 89714, \"name\": \"Ilram Choi\", \"order\": 30}, {\"cast_id\": 52, \"character\": \"Na\\'vi Child\", \"credit_id\": \"52fe48009251416c750acaa7\", \"gender\": 0, \"id\": 1207249, \"name\": \"Kyla Warren\", \"order\": 31}, {\"cast_id\": 53, \"character\": \"Troupe\", \"credit_id\": \"52fe48009251416c750acaab\", \"gender\": 0, \"id\": 1207250, \"name\": \"Lisa Roumain\", \"order\": 32}, {\"cast_id\": 54, \"character\": \"Troupe\", \"credit_id\": \"52fe48009251416c750acaaf\", \"gender\": 1, \"id\": 83105, \"name\": \"Debra Wilson\", \"order\": 33}, {\"cast_id\": 57, \"character\": \"Troupe\", \"credit_id\": \"52fe48009251416c750acabb\", \"gender\": 0, \"id\": 1207253, \"name\": \"Chris Mala\", \"order\": 34}, {\"cast_id\": 55, \"character\": \"Troupe\", \"credit_id\": \"52fe48009251416c750acab3\", \"gender\": 0, \"id\": 1207251, \"name\": \"Taylor Kibby\", \"order\": 35}, {\"cast_id\": 56, \"character\": \"Troupe\", \"credit_id\": \"52fe48009251416c750acab7\", \"gender\": 0, \"id\": 1207252, \"name\": \"Jodie Landau\", \"order\": 36}, {\"cast_id\": 58, \"character\": \"Troupe\", \"credit_id\": \"52fe48009251416c750acabf\", \"gender\": 0, \"id\": 1207254, \"name\": \"Julie Lamm\", \"order\": 37}, {\"cast_id\": 59, \"character\": \"Troupe\", \"credit_id\": \"52fe48009251416c750acac3\", \"gender\": 0, \"id\": 1207257, \"name\": \"Cullen B. Madden\", \"order\": 38}, {\"cast_id\": 60, \"character\": \"Troupe\", \"credit_id\": \"52fe48009251416c750acac7\", \"gender\": 0, \"id\": 1207259, \"name\": \"Joseph Brady Madden\", \"order\": 39}, {\"cast_id\": 61, \"character\": \"Troupe\", \"credit_id\": \"52fe48009251416c750acacb\", \"gender\": 0, \"id\": 1207262, \"name\": \"Frankie Torres\", \"order\": 40}, {\"cast_id\": 62, \"character\": \"Troupe\", \"credit_id\": \"52fe48009251416c750acacf\", \"gender\": 1, \"id\": 1158600, \"name\": \"Austin Wilson\", \"order\": 41}, {\"cast_id\": 63, \"character\": \"Troupe\", \"credit_id\": \"52fe48019251416c750acad3\", \"gender\": 1, \"id\": 983705, \"name\": \"Sara Wilson\", \"order\": 42}, {\"cast_id\": 64, \"character\": \"Troupe\", \"credit_id\": \"52fe48019251416c750acad7\", \"gender\": 0, \"id\": 1207263, \"name\": \"Tamica Washington-Miller\", \"order\": 43}, {\"cast_id\": 65, \"character\": \"Op Center Staff\", \"credit_id\": \"52fe48019251416c750acadb\", \"gender\": 1, \"id\": 1145098, \"name\": \"Lucy Briant\", \"order\": 44}, {\"cast_id\": 66, \"character\": \"Op Center Staff\", \"credit_id\": \"52fe48019251416c750acadf\", \"gender\": 2, \"id\": 33305, \"name\": \"Nathan Meister\", \"order\": 45}, {\"cast_id\": 67, \"character\": \"Op Center Staff\", \"credit_id\": \"52fe48019251416c750acae3\", \"gender\": 0, \"id\": 1207264, \"name\": \"Gerry Blair\", \"order\": 46}, {\"cast_id\": 68, \"character\": \"Op Center Staff\", \"credit_id\": \"52fe48019251416c750acae7\", \"gender\": 2, \"id\": 33311, \"name\": \"Matthew Chamberlain\", \"order\": 47}, {\"cast_id\": 69, \"character\": \"Op Center Staff\", \"credit_id\": \"52fe48019251416c750acaeb\", \"gender\": 0, \"id\": 1207265, \"name\": \"Paul Yates\", \"order\": 48}, {\"cast_id\": 70, \"character\": \"Op Center Duty Officer\", \"credit_id\": \"52fe48019251416c750acaef\", \"gender\": 0, \"id\": 1207266, \"name\": \"Wray Wilson\", \"order\": 49}, {\"cast_id\": 71, \"character\": \"Op Center Staff\", \"credit_id\": \"52fe48019251416c750acaf3\", \"gender\": 2, \"id\": 54492, \"name\": \"James Gaylyn\", \"order\": 50}, {\"cast_id\": 72, \"character\": \"Dancer\", \"credit_id\": \"52fe48019251416c750acaf7\", \"gender\": 0, \"id\": 1207267, \"name\": \"Melvin Leno Clark III\", \"order\": 51}, {\"cast_id\": 73, \"character\": \"Dancer\", \"credit_id\": \"52fe48019251416c750acafb\", \"gender\": 0, \"id\": 1207268, \"name\": \"Carvon Futrell\", \"order\": 52}, {\"cast_id\": 74, \"character\": \"Dancer\", \"credit_id\": \"52fe48019251416c750acaff\", \"gender\": 0, \"id\": 1207269, \"name\": \"Brandon Jelkes\", \"order\": 53}, {\"cast_id\": 75, \"character\": \"Dancer\", \"credit_id\": \"52fe48019251416c750acb03\", \"gender\": 0, \"id\": 1207270, \"name\": \"Micah Moch\", \"order\": 54}, {\"cast_id\": 76, \"character\": \"Dancer\", \"credit_id\": \"52fe48019251416c750acb07\", \"gender\": 0, \"id\": 1207271, \"name\": \"Hanniyah Muhammad\", \"order\": 55}, {\"cast_id\": 77, \"character\": \"Dancer\", \"credit_id\": \"52fe48019251416c750acb0b\", \"gender\": 0, \"id\": 1207272, \"name\": \"Christopher Nolen\", \"order\": 56}, {\"cast_id\": 78, \"character\": \"Dancer\", \"credit_id\": \"52fe48019251416c750acb0f\", \"gender\": 0, \"id\": 1207273, \"name\": \"Christa Oliver\", \"order\": 57}, {\"cast_id\": 79, \"character\": \"Dancer\", \"credit_id\": \"52fe48019251416c750acb13\", \"gender\": 0, \"id\": 1207274, \"name\": \"April Marie Thomas\", \"order\": 58}, {\"cast_id\": 80, \"character\": \"Dancer\", \"credit_id\": \"52fe48019251416c750acb17\", \"gender\": 0, \"id\": 1207275, \"name\": \"Bravita A. Threatt\", \"order\": 59}, {\"cast_id\": 81, \"character\": \"Mining Chief (uncredited)\", \"credit_id\": \"52fe48019251416c750acb1b\", \"gender\": 0, \"id\": 1207276, \"name\": \"Colin Bleasdale\", \"order\": 60}, {\"cast_id\": 82, \"character\": \"Veteran Miner (uncredited)\", \"credit_id\": \"52fe48019251416c750acb1f\", \"gender\": 0, \"id\": 107969, \"name\": \"Mike Bodnar\", \"order\": 61}, {\"cast_id\": 83, \"character\": \"Richard (uncredited)\", \"credit_id\": \"52fe48019251416c750acb23\", \"gender\": 0, \"id\": 1207278, \"name\": \"Matt Clayton\", \"order\": 62}, {\"cast_id\": 84, \"character\": \"Nav\\'i (uncredited)\", \"credit_id\": \"52fe48019251416c750acb27\", \"gender\": 1, \"id\": 147898, \"name\": \"Nicole Dionne\", \"order\": 63}, {\"cast_id\": 85, \"character\": \"Trooper (uncredited)\", \"credit_id\": \"52fe48019251416c750acb2b\", \"gender\": 0, \"id\": 1207280, \"name\": \"Jamie Harrison\", \"order\": 64}, {\"cast_id\": 86, \"character\": \"Trooper (uncredited)\", \"credit_id\": \"52fe48019251416c750acb2f\", \"gender\": 0, \"id\": 1207281, \"name\": \"Allan Henry\", \"order\": 65}, {\"cast_id\": 87, \"character\": \"Ground Technician (uncredited)\", \"credit_id\": \"52fe48019251416c750acb33\", \"gender\": 2, \"id\": 1207282, \"name\": \"Anthony Ingruber\", \"order\": 66}, {\"cast_id\": 88, \"character\": \"Flight Crew Mechanic (uncredited)\", \"credit_id\": \"52fe48019251416c750acb37\", \"gender\": 0, \"id\": 1207283, \"name\": \"Ashley Jeffery\", \"order\": 67}, {\"cast_id\": 14, \"character\": \"Samson Pilot\", \"credit_id\": \"52fe48009251416c750ac9f9\", \"gender\": 0, \"id\": 98216, \"name\": \"Dean Knowsley\", \"order\": 68}, {\"cast_id\": 89, \"character\": \"Trooper (uncredited)\", \"credit_id\": \"52fe48019251416c750acb3b\", \"gender\": 0, \"id\": 1201399, \"name\": \"Joseph Mika-Hunt\", \"order\": 69}, {\"cast_id\": 90, \"character\": \"Banshee (uncredited)\", \"credit_id\": \"52fe48019251416c750acb3f\", \"gender\": 0, \"id\": 236696, \"name\": \"Terry Notary\", \"order\": 70}, {\"cast_id\": 91, \"character\": \"Soldier (uncredited)\", \"credit_id\": \"52fe48019251416c750acb43\", \"gender\": 0, \"id\": 1207287, \"name\": \"Kai Pantano\", \"order\": 71}, {\"cast_id\": 92, \"character\": \"Blast Technician (uncredited)\", \"credit_id\": \"52fe48019251416c750acb47\", \"gender\": 0, \"id\": 1207288, \"name\": \"Logan Pithyou\", \"order\": 72}, {\"cast_id\": 93, \"character\": \"Vindum Raah (uncredited)\", \"credit_id\": \"52fe48019251416c750acb4b\", \"gender\": 0, \"id\": 1207289, \"name\": \"Stuart Pollock\", \"order\": 73}, {\"cast_id\": 94, \"character\": \"Hero (uncredited)\", \"credit_id\": \"52fe48019251416c750acb4f\", \"gender\": 0, \"id\": 584868, \"name\": \"Raja\", \"order\": 74}, {\"cast_id\": 95, \"character\": \"Ops Centreworker (uncredited)\", \"credit_id\": \"52fe48019251416c750acb53\", \"gender\": 0, \"id\": 1207290, \"name\": \"Gareth Ruck\", \"order\": 75}, {\"cast_id\": 96, \"character\": \"Engineer (uncredited)\", \"credit_id\": \"52fe48019251416c750acb57\", \"gender\": 0, \"id\": 1062463, \"name\": \"Rhian Sheehan\", \"order\": 76}, {\"cast_id\": 97, \"character\": \"Col. Quaritch\\'s Mech Suit (uncredited)\", \"credit_id\": \"52fe48019251416c750acb5b\", \"gender\": 0, \"id\": 60656, \"name\": \"T. J. Storm\", \"order\": 77}, {\"cast_id\": 98, \"character\": \"Female Marine (uncredited)\", \"credit_id\": \"52fe48019251416c750acb5f\", \"gender\": 0, \"id\": 1207291, \"name\": \"Jodie Taylor\", \"order\": 78}, {\"cast_id\": 99, \"character\": \"Ikran Clan Leader (uncredited)\", \"credit_id\": \"52fe48019251416c750acb63\", \"gender\": 1, \"id\": 1186027, \"name\": \"Alicia Vela-Bailey\", \"order\": 79}, {\"cast_id\": 100, \"character\": \"Geologist (uncredited)\", \"credit_id\": \"52fe48019251416c750acb67\", \"gender\": 0, \"id\": 1207292, \"name\": \"Richard Whiteside\", \"order\": 80}, {\"cast_id\": 101, \"character\": \"Na\\'vi (uncredited)\", \"credit_id\": \"52fe48019251416c750acb6b\", \"gender\": 0, \"id\": 103259, \"name\": \"Nikie Zambo\", \"order\": 81}, {\"cast_id\": 102, \"character\": \"Ambient Room Tech / Troupe\", \"credit_id\": \"52fe48019251416c750acb6f\", \"gender\": 1, \"id\": 42286, \"name\": \"Julene Renee\", \"order\": 82}]'],\n",
       "      dtype=object)"
      ]
     },
     "execution_count": 6,
     "metadata": {},
     "output_type": "execute_result"
    }
   ],
   "source": [
    "credits.head(1)[\"cast\"].values"
   ]
  },
  {
   "cell_type": "code",
   "execution_count": 7,
   "id": "eccc240b",
   "metadata": {
    "execution": {
     "iopub.execute_input": "2025-05-22T06:16:51.368339Z",
     "iopub.status.busy": "2025-05-22T06:16:51.368139Z",
     "iopub.status.idle": "2025-05-22T06:16:51.388642Z",
     "shell.execute_reply": "2025-05-22T06:16:51.387803Z"
    },
    "papermill": {
     "duration": 0.030265,
     "end_time": "2025-05-22T06:16:51.389936",
     "exception": false,
     "start_time": "2025-05-22T06:16:51.359671",
     "status": "completed"
    },
    "tags": []
   },
   "outputs": [],
   "source": [
    "movies=movies.merge(credits,on=\"title\")"
   ]
  },
  {
   "cell_type": "code",
   "execution_count": 8,
   "id": "26ce8f49",
   "metadata": {
    "execution": {
     "iopub.execute_input": "2025-05-22T06:16:51.408592Z",
     "iopub.status.busy": "2025-05-22T06:16:51.408324Z",
     "iopub.status.idle": "2025-05-22T06:16:51.426370Z",
     "shell.execute_reply": "2025-05-22T06:16:51.425702Z"
    },
    "papermill": {
     "duration": 0.028776,
     "end_time": "2025-05-22T06:16:51.427407",
     "exception": false,
     "start_time": "2025-05-22T06:16:51.398631",
     "status": "completed"
    },
    "tags": []
   },
   "outputs": [
    {
     "data": {
      "text/html": [
       "<div>\n",
       "<style scoped>\n",
       "    .dataframe tbody tr th:only-of-type {\n",
       "        vertical-align: middle;\n",
       "    }\n",
       "\n",
       "    .dataframe tbody tr th {\n",
       "        vertical-align: top;\n",
       "    }\n",
       "\n",
       "    .dataframe thead th {\n",
       "        text-align: right;\n",
       "    }\n",
       "</style>\n",
       "<table border=\"1\" class=\"dataframe\">\n",
       "  <thead>\n",
       "    <tr style=\"text-align: right;\">\n",
       "      <th></th>\n",
       "      <th>budget</th>\n",
       "      <th>genres</th>\n",
       "      <th>homepage</th>\n",
       "      <th>id</th>\n",
       "      <th>keywords</th>\n",
       "      <th>original_language</th>\n",
       "      <th>original_title</th>\n",
       "      <th>overview</th>\n",
       "      <th>popularity</th>\n",
       "      <th>production_companies</th>\n",
       "      <th>...</th>\n",
       "      <th>runtime</th>\n",
       "      <th>spoken_languages</th>\n",
       "      <th>status</th>\n",
       "      <th>tagline</th>\n",
       "      <th>title</th>\n",
       "      <th>vote_average</th>\n",
       "      <th>vote_count</th>\n",
       "      <th>movie_id</th>\n",
       "      <th>cast</th>\n",
       "      <th>crew</th>\n",
       "    </tr>\n",
       "  </thead>\n",
       "  <tbody>\n",
       "    <tr>\n",
       "      <th>0</th>\n",
       "      <td>237000000</td>\n",
       "      <td>[{\"id\": 28, \"name\": \"Action\"}, {\"id\": 12, \"nam...</td>\n",
       "      <td>http://www.avatarmovie.com/</td>\n",
       "      <td>19995</td>\n",
       "      <td>[{\"id\": 1463, \"name\": \"culture clash\"}, {\"id\":...</td>\n",
       "      <td>en</td>\n",
       "      <td>Avatar</td>\n",
       "      <td>In the 22nd century, a paraplegic Marine is di...</td>\n",
       "      <td>150.437577</td>\n",
       "      <td>[{\"name\": \"Ingenious Film Partners\", \"id\": 289...</td>\n",
       "      <td>...</td>\n",
       "      <td>162.0</td>\n",
       "      <td>[{\"iso_639_1\": \"en\", \"name\": \"English\"}, {\"iso...</td>\n",
       "      <td>Released</td>\n",
       "      <td>Enter the World of Pandora.</td>\n",
       "      <td>Avatar</td>\n",
       "      <td>7.2</td>\n",
       "      <td>11800</td>\n",
       "      <td>19995</td>\n",
       "      <td>[{\"cast_id\": 242, \"character\": \"Jake Sully\", \"...</td>\n",
       "      <td>[{\"credit_id\": \"52fe48009251416c750aca23\", \"de...</td>\n",
       "    </tr>\n",
       "    <tr>\n",
       "      <th>1</th>\n",
       "      <td>300000000</td>\n",
       "      <td>[{\"id\": 12, \"name\": \"Adventure\"}, {\"id\": 14, \"...</td>\n",
       "      <td>http://disney.go.com/disneypictures/pirates/</td>\n",
       "      <td>285</td>\n",
       "      <td>[{\"id\": 270, \"name\": \"ocean\"}, {\"id\": 726, \"na...</td>\n",
       "      <td>en</td>\n",
       "      <td>Pirates of the Caribbean: At World's End</td>\n",
       "      <td>Captain Barbossa, long believed to be dead, ha...</td>\n",
       "      <td>139.082615</td>\n",
       "      <td>[{\"name\": \"Walt Disney Pictures\", \"id\": 2}, {\"...</td>\n",
       "      <td>...</td>\n",
       "      <td>169.0</td>\n",
       "      <td>[{\"iso_639_1\": \"en\", \"name\": \"English\"}]</td>\n",
       "      <td>Released</td>\n",
       "      <td>At the end of the world, the adventure begins.</td>\n",
       "      <td>Pirates of the Caribbean: At World's End</td>\n",
       "      <td>6.9</td>\n",
       "      <td>4500</td>\n",
       "      <td>285</td>\n",
       "      <td>[{\"cast_id\": 4, \"character\": \"Captain Jack Spa...</td>\n",
       "      <td>[{\"credit_id\": \"52fe4232c3a36847f800b579\", \"de...</td>\n",
       "    </tr>\n",
       "    <tr>\n",
       "      <th>2</th>\n",
       "      <td>245000000</td>\n",
       "      <td>[{\"id\": 28, \"name\": \"Action\"}, {\"id\": 12, \"nam...</td>\n",
       "      <td>http://www.sonypictures.com/movies/spectre/</td>\n",
       "      <td>206647</td>\n",
       "      <td>[{\"id\": 470, \"name\": \"spy\"}, {\"id\": 818, \"name...</td>\n",
       "      <td>en</td>\n",
       "      <td>Spectre</td>\n",
       "      <td>A cryptic message from Bond’s past sends him o...</td>\n",
       "      <td>107.376788</td>\n",
       "      <td>[{\"name\": \"Columbia Pictures\", \"id\": 5}, {\"nam...</td>\n",
       "      <td>...</td>\n",
       "      <td>148.0</td>\n",
       "      <td>[{\"iso_639_1\": \"fr\", \"name\": \"Fran\\u00e7ais\"},...</td>\n",
       "      <td>Released</td>\n",
       "      <td>A Plan No One Escapes</td>\n",
       "      <td>Spectre</td>\n",
       "      <td>6.3</td>\n",
       "      <td>4466</td>\n",
       "      <td>206647</td>\n",
       "      <td>[{\"cast_id\": 1, \"character\": \"James Bond\", \"cr...</td>\n",
       "      <td>[{\"credit_id\": \"54805967c3a36829b5002c41\", \"de...</td>\n",
       "    </tr>\n",
       "    <tr>\n",
       "      <th>3</th>\n",
       "      <td>250000000</td>\n",
       "      <td>[{\"id\": 28, \"name\": \"Action\"}, {\"id\": 80, \"nam...</td>\n",
       "      <td>http://www.thedarkknightrises.com/</td>\n",
       "      <td>49026</td>\n",
       "      <td>[{\"id\": 849, \"name\": \"dc comics\"}, {\"id\": 853,...</td>\n",
       "      <td>en</td>\n",
       "      <td>The Dark Knight Rises</td>\n",
       "      <td>Following the death of District Attorney Harve...</td>\n",
       "      <td>112.312950</td>\n",
       "      <td>[{\"name\": \"Legendary Pictures\", \"id\": 923}, {\"...</td>\n",
       "      <td>...</td>\n",
       "      <td>165.0</td>\n",
       "      <td>[{\"iso_639_1\": \"en\", \"name\": \"English\"}]</td>\n",
       "      <td>Released</td>\n",
       "      <td>The Legend Ends</td>\n",
       "      <td>The Dark Knight Rises</td>\n",
       "      <td>7.6</td>\n",
       "      <td>9106</td>\n",
       "      <td>49026</td>\n",
       "      <td>[{\"cast_id\": 2, \"character\": \"Bruce Wayne / Ba...</td>\n",
       "      <td>[{\"credit_id\": \"52fe4781c3a36847f81398c3\", \"de...</td>\n",
       "    </tr>\n",
       "    <tr>\n",
       "      <th>4</th>\n",
       "      <td>260000000</td>\n",
       "      <td>[{\"id\": 28, \"name\": \"Action\"}, {\"id\": 12, \"nam...</td>\n",
       "      <td>http://movies.disney.com/john-carter</td>\n",
       "      <td>49529</td>\n",
       "      <td>[{\"id\": 818, \"name\": \"based on novel\"}, {\"id\":...</td>\n",
       "      <td>en</td>\n",
       "      <td>John Carter</td>\n",
       "      <td>John Carter is a war-weary, former military ca...</td>\n",
       "      <td>43.926995</td>\n",
       "      <td>[{\"name\": \"Walt Disney Pictures\", \"id\": 2}]</td>\n",
       "      <td>...</td>\n",
       "      <td>132.0</td>\n",
       "      <td>[{\"iso_639_1\": \"en\", \"name\": \"English\"}]</td>\n",
       "      <td>Released</td>\n",
       "      <td>Lost in our world, found in another.</td>\n",
       "      <td>John Carter</td>\n",
       "      <td>6.1</td>\n",
       "      <td>2124</td>\n",
       "      <td>49529</td>\n",
       "      <td>[{\"cast_id\": 5, \"character\": \"John Carter\", \"c...</td>\n",
       "      <td>[{\"credit_id\": \"52fe479ac3a36847f813eaa3\", \"de...</td>\n",
       "    </tr>\n",
       "  </tbody>\n",
       "</table>\n",
       "<p>5 rows × 23 columns</p>\n",
       "</div>"
      ],
      "text/plain": [
       "      budget                                             genres  \\\n",
       "0  237000000  [{\"id\": 28, \"name\": \"Action\"}, {\"id\": 12, \"nam...   \n",
       "1  300000000  [{\"id\": 12, \"name\": \"Adventure\"}, {\"id\": 14, \"...   \n",
       "2  245000000  [{\"id\": 28, \"name\": \"Action\"}, {\"id\": 12, \"nam...   \n",
       "3  250000000  [{\"id\": 28, \"name\": \"Action\"}, {\"id\": 80, \"nam...   \n",
       "4  260000000  [{\"id\": 28, \"name\": \"Action\"}, {\"id\": 12, \"nam...   \n",
       "\n",
       "                                       homepage      id  \\\n",
       "0                   http://www.avatarmovie.com/   19995   \n",
       "1  http://disney.go.com/disneypictures/pirates/     285   \n",
       "2   http://www.sonypictures.com/movies/spectre/  206647   \n",
       "3            http://www.thedarkknightrises.com/   49026   \n",
       "4          http://movies.disney.com/john-carter   49529   \n",
       "\n",
       "                                            keywords original_language  \\\n",
       "0  [{\"id\": 1463, \"name\": \"culture clash\"}, {\"id\":...                en   \n",
       "1  [{\"id\": 270, \"name\": \"ocean\"}, {\"id\": 726, \"na...                en   \n",
       "2  [{\"id\": 470, \"name\": \"spy\"}, {\"id\": 818, \"name...                en   \n",
       "3  [{\"id\": 849, \"name\": \"dc comics\"}, {\"id\": 853,...                en   \n",
       "4  [{\"id\": 818, \"name\": \"based on novel\"}, {\"id\":...                en   \n",
       "\n",
       "                             original_title  \\\n",
       "0                                    Avatar   \n",
       "1  Pirates of the Caribbean: At World's End   \n",
       "2                                   Spectre   \n",
       "3                     The Dark Knight Rises   \n",
       "4                               John Carter   \n",
       "\n",
       "                                            overview  popularity  \\\n",
       "0  In the 22nd century, a paraplegic Marine is di...  150.437577   \n",
       "1  Captain Barbossa, long believed to be dead, ha...  139.082615   \n",
       "2  A cryptic message from Bond’s past sends him o...  107.376788   \n",
       "3  Following the death of District Attorney Harve...  112.312950   \n",
       "4  John Carter is a war-weary, former military ca...   43.926995   \n",
       "\n",
       "                                production_companies  ... runtime  \\\n",
       "0  [{\"name\": \"Ingenious Film Partners\", \"id\": 289...  ...   162.0   \n",
       "1  [{\"name\": \"Walt Disney Pictures\", \"id\": 2}, {\"...  ...   169.0   \n",
       "2  [{\"name\": \"Columbia Pictures\", \"id\": 5}, {\"nam...  ...   148.0   \n",
       "3  [{\"name\": \"Legendary Pictures\", \"id\": 923}, {\"...  ...   165.0   \n",
       "4        [{\"name\": \"Walt Disney Pictures\", \"id\": 2}]  ...   132.0   \n",
       "\n",
       "                                    spoken_languages    status  \\\n",
       "0  [{\"iso_639_1\": \"en\", \"name\": \"English\"}, {\"iso...  Released   \n",
       "1           [{\"iso_639_1\": \"en\", \"name\": \"English\"}]  Released   \n",
       "2  [{\"iso_639_1\": \"fr\", \"name\": \"Fran\\u00e7ais\"},...  Released   \n",
       "3           [{\"iso_639_1\": \"en\", \"name\": \"English\"}]  Released   \n",
       "4           [{\"iso_639_1\": \"en\", \"name\": \"English\"}]  Released   \n",
       "\n",
       "                                          tagline  \\\n",
       "0                     Enter the World of Pandora.   \n",
       "1  At the end of the world, the adventure begins.   \n",
       "2                           A Plan No One Escapes   \n",
       "3                                 The Legend Ends   \n",
       "4            Lost in our world, found in another.   \n",
       "\n",
       "                                      title vote_average vote_count movie_id  \\\n",
       "0                                    Avatar          7.2      11800    19995   \n",
       "1  Pirates of the Caribbean: At World's End          6.9       4500      285   \n",
       "2                                   Spectre          6.3       4466   206647   \n",
       "3                     The Dark Knight Rises          7.6       9106    49026   \n",
       "4                               John Carter          6.1       2124    49529   \n",
       "\n",
       "                                                cast  \\\n",
       "0  [{\"cast_id\": 242, \"character\": \"Jake Sully\", \"...   \n",
       "1  [{\"cast_id\": 4, \"character\": \"Captain Jack Spa...   \n",
       "2  [{\"cast_id\": 1, \"character\": \"James Bond\", \"cr...   \n",
       "3  [{\"cast_id\": 2, \"character\": \"Bruce Wayne / Ba...   \n",
       "4  [{\"cast_id\": 5, \"character\": \"John Carter\", \"c...   \n",
       "\n",
       "                                                crew  \n",
       "0  [{\"credit_id\": \"52fe48009251416c750aca23\", \"de...  \n",
       "1  [{\"credit_id\": \"52fe4232c3a36847f800b579\", \"de...  \n",
       "2  [{\"credit_id\": \"54805967c3a36829b5002c41\", \"de...  \n",
       "3  [{\"credit_id\": \"52fe4781c3a36847f81398c3\", \"de...  \n",
       "4  [{\"credit_id\": \"52fe479ac3a36847f813eaa3\", \"de...  \n",
       "\n",
       "[5 rows x 23 columns]"
      ]
     },
     "execution_count": 8,
     "metadata": {},
     "output_type": "execute_result"
    }
   ],
   "source": [
    "movies.head()"
   ]
  },
  {
   "cell_type": "code",
   "execution_count": 9,
   "id": "fb5fd321",
   "metadata": {
    "execution": {
     "iopub.execute_input": "2025-05-22T06:16:51.446010Z",
     "iopub.status.busy": "2025-05-22T06:16:51.445804Z",
     "iopub.status.idle": "2025-05-22T06:16:51.449869Z",
     "shell.execute_reply": "2025-05-22T06:16:51.449318Z"
    },
    "papermill": {
     "duration": 0.014409,
     "end_time": "2025-05-22T06:16:51.450861",
     "exception": false,
     "start_time": "2025-05-22T06:16:51.436452",
     "status": "completed"
    },
    "tags": []
   },
   "outputs": [
    {
     "data": {
      "text/plain": [
       "(4809, 23)"
      ]
     },
     "execution_count": 9,
     "metadata": {},
     "output_type": "execute_result"
    }
   ],
   "source": [
    "movies.shape"
   ]
  },
  {
   "cell_type": "code",
   "execution_count": 10,
   "id": "0d600e49",
   "metadata": {
    "execution": {
     "iopub.execute_input": "2025-05-22T06:16:51.468064Z",
     "iopub.status.busy": "2025-05-22T06:16:51.467870Z",
     "iopub.status.idle": "2025-05-22T06:16:51.486844Z",
     "shell.execute_reply": "2025-05-22T06:16:51.486024Z"
    },
    "papermill": {
     "duration": 0.028773,
     "end_time": "2025-05-22T06:16:51.487986",
     "exception": false,
     "start_time": "2025-05-22T06:16:51.459213",
     "status": "completed"
    },
    "tags": []
   },
   "outputs": [
    {
     "name": "stdout",
     "output_type": "stream",
     "text": [
      "<class 'pandas.core.frame.DataFrame'>\n",
      "RangeIndex: 4809 entries, 0 to 4808\n",
      "Data columns (total 23 columns):\n",
      " #   Column                Non-Null Count  Dtype  \n",
      "---  ------                --------------  -----  \n",
      " 0   budget                4809 non-null   int64  \n",
      " 1   genres                4809 non-null   object \n",
      " 2   homepage              1713 non-null   object \n",
      " 3   id                    4809 non-null   int64  \n",
      " 4   keywords              4809 non-null   object \n",
      " 5   original_language     4809 non-null   object \n",
      " 6   original_title        4809 non-null   object \n",
      " 7   overview              4806 non-null   object \n",
      " 8   popularity            4809 non-null   float64\n",
      " 9   production_companies  4809 non-null   object \n",
      " 10  production_countries  4809 non-null   object \n",
      " 11  release_date          4808 non-null   object \n",
      " 12  revenue               4809 non-null   int64  \n",
      " 13  runtime               4807 non-null   float64\n",
      " 14  spoken_languages      4809 non-null   object \n",
      " 15  status                4809 non-null   object \n",
      " 16  tagline               3965 non-null   object \n",
      " 17  title                 4809 non-null   object \n",
      " 18  vote_average          4809 non-null   float64\n",
      " 19  vote_count            4809 non-null   int64  \n",
      " 20  movie_id              4809 non-null   int64  \n",
      " 21  cast                  4809 non-null   object \n",
      " 22  crew                  4809 non-null   object \n",
      "dtypes: float64(3), int64(5), object(15)\n",
      "memory usage: 864.2+ KB\n"
     ]
    }
   ],
   "source": [
    "movies.info()"
   ]
  },
  {
   "cell_type": "code",
   "execution_count": 11,
   "id": "fe269873",
   "metadata": {
    "execution": {
     "iopub.execute_input": "2025-05-22T06:16:51.504854Z",
     "iopub.status.busy": "2025-05-22T06:16:51.504658Z",
     "iopub.status.idle": "2025-05-22T06:16:51.509298Z",
     "shell.execute_reply": "2025-05-22T06:16:51.508670Z"
    },
    "papermill": {
     "duration": 0.014119,
     "end_time": "2025-05-22T06:16:51.510280",
     "exception": false,
     "start_time": "2025-05-22T06:16:51.496161",
     "status": "completed"
    },
    "tags": []
   },
   "outputs": [],
   "source": [
    "#necessary attribute\n",
    "# id\n",
    "# genres\n",
    "# keyword\n",
    "# overview\n",
    "# title\n",
    "# cast\n",
    "# crew\n",
    "\n",
    "movies = movies[['movie_id','title','overview','genres','keywords','cast','crew']]"
   ]
  },
  {
   "cell_type": "code",
   "execution_count": 12,
   "id": "88ee59ed",
   "metadata": {
    "execution": {
     "iopub.execute_input": "2025-05-22T06:16:51.527777Z",
     "iopub.status.busy": "2025-05-22T06:16:51.527361Z",
     "iopub.status.idle": "2025-05-22T06:16:51.536139Z",
     "shell.execute_reply": "2025-05-22T06:16:51.535560Z"
    },
    "papermill": {
     "duration": 0.018478,
     "end_time": "2025-05-22T06:16:51.537143",
     "exception": false,
     "start_time": "2025-05-22T06:16:51.518665",
     "status": "completed"
    },
    "tags": []
   },
   "outputs": [
    {
     "data": {
      "text/html": [
       "<div>\n",
       "<style scoped>\n",
       "    .dataframe tbody tr th:only-of-type {\n",
       "        vertical-align: middle;\n",
       "    }\n",
       "\n",
       "    .dataframe tbody tr th {\n",
       "        vertical-align: top;\n",
       "    }\n",
       "\n",
       "    .dataframe thead th {\n",
       "        text-align: right;\n",
       "    }\n",
       "</style>\n",
       "<table border=\"1\" class=\"dataframe\">\n",
       "  <thead>\n",
       "    <tr style=\"text-align: right;\">\n",
       "      <th></th>\n",
       "      <th>movie_id</th>\n",
       "      <th>title</th>\n",
       "      <th>overview</th>\n",
       "      <th>genres</th>\n",
       "      <th>keywords</th>\n",
       "      <th>cast</th>\n",
       "      <th>crew</th>\n",
       "    </tr>\n",
       "  </thead>\n",
       "  <tbody>\n",
       "    <tr>\n",
       "      <th>0</th>\n",
       "      <td>19995</td>\n",
       "      <td>Avatar</td>\n",
       "      <td>In the 22nd century, a paraplegic Marine is di...</td>\n",
       "      <td>[{\"id\": 28, \"name\": \"Action\"}, {\"id\": 12, \"nam...</td>\n",
       "      <td>[{\"id\": 1463, \"name\": \"culture clash\"}, {\"id\":...</td>\n",
       "      <td>[{\"cast_id\": 242, \"character\": \"Jake Sully\", \"...</td>\n",
       "      <td>[{\"credit_id\": \"52fe48009251416c750aca23\", \"de...</td>\n",
       "    </tr>\n",
       "    <tr>\n",
       "      <th>1</th>\n",
       "      <td>285</td>\n",
       "      <td>Pirates of the Caribbean: At World's End</td>\n",
       "      <td>Captain Barbossa, long believed to be dead, ha...</td>\n",
       "      <td>[{\"id\": 12, \"name\": \"Adventure\"}, {\"id\": 14, \"...</td>\n",
       "      <td>[{\"id\": 270, \"name\": \"ocean\"}, {\"id\": 726, \"na...</td>\n",
       "      <td>[{\"cast_id\": 4, \"character\": \"Captain Jack Spa...</td>\n",
       "      <td>[{\"credit_id\": \"52fe4232c3a36847f800b579\", \"de...</td>\n",
       "    </tr>\n",
       "    <tr>\n",
       "      <th>2</th>\n",
       "      <td>206647</td>\n",
       "      <td>Spectre</td>\n",
       "      <td>A cryptic message from Bond’s past sends him o...</td>\n",
       "      <td>[{\"id\": 28, \"name\": \"Action\"}, {\"id\": 12, \"nam...</td>\n",
       "      <td>[{\"id\": 470, \"name\": \"spy\"}, {\"id\": 818, \"name...</td>\n",
       "      <td>[{\"cast_id\": 1, \"character\": \"James Bond\", \"cr...</td>\n",
       "      <td>[{\"credit_id\": \"54805967c3a36829b5002c41\", \"de...</td>\n",
       "    </tr>\n",
       "    <tr>\n",
       "      <th>3</th>\n",
       "      <td>49026</td>\n",
       "      <td>The Dark Knight Rises</td>\n",
       "      <td>Following the death of District Attorney Harve...</td>\n",
       "      <td>[{\"id\": 28, \"name\": \"Action\"}, {\"id\": 80, \"nam...</td>\n",
       "      <td>[{\"id\": 849, \"name\": \"dc comics\"}, {\"id\": 853,...</td>\n",
       "      <td>[{\"cast_id\": 2, \"character\": \"Bruce Wayne / Ba...</td>\n",
       "      <td>[{\"credit_id\": \"52fe4781c3a36847f81398c3\", \"de...</td>\n",
       "    </tr>\n",
       "    <tr>\n",
       "      <th>4</th>\n",
       "      <td>49529</td>\n",
       "      <td>John Carter</td>\n",
       "      <td>John Carter is a war-weary, former military ca...</td>\n",
       "      <td>[{\"id\": 28, \"name\": \"Action\"}, {\"id\": 12, \"nam...</td>\n",
       "      <td>[{\"id\": 818, \"name\": \"based on novel\"}, {\"id\":...</td>\n",
       "      <td>[{\"cast_id\": 5, \"character\": \"John Carter\", \"c...</td>\n",
       "      <td>[{\"credit_id\": \"52fe479ac3a36847f813eaa3\", \"de...</td>\n",
       "    </tr>\n",
       "  </tbody>\n",
       "</table>\n",
       "</div>"
      ],
      "text/plain": [
       "   movie_id                                     title  \\\n",
       "0     19995                                    Avatar   \n",
       "1       285  Pirates of the Caribbean: At World's End   \n",
       "2    206647                                   Spectre   \n",
       "3     49026                     The Dark Knight Rises   \n",
       "4     49529                               John Carter   \n",
       "\n",
       "                                            overview  \\\n",
       "0  In the 22nd century, a paraplegic Marine is di...   \n",
       "1  Captain Barbossa, long believed to be dead, ha...   \n",
       "2  A cryptic message from Bond’s past sends him o...   \n",
       "3  Following the death of District Attorney Harve...   \n",
       "4  John Carter is a war-weary, former military ca...   \n",
       "\n",
       "                                              genres  \\\n",
       "0  [{\"id\": 28, \"name\": \"Action\"}, {\"id\": 12, \"nam...   \n",
       "1  [{\"id\": 12, \"name\": \"Adventure\"}, {\"id\": 14, \"...   \n",
       "2  [{\"id\": 28, \"name\": \"Action\"}, {\"id\": 12, \"nam...   \n",
       "3  [{\"id\": 28, \"name\": \"Action\"}, {\"id\": 80, \"nam...   \n",
       "4  [{\"id\": 28, \"name\": \"Action\"}, {\"id\": 12, \"nam...   \n",
       "\n",
       "                                            keywords  \\\n",
       "0  [{\"id\": 1463, \"name\": \"culture clash\"}, {\"id\":...   \n",
       "1  [{\"id\": 270, \"name\": \"ocean\"}, {\"id\": 726, \"na...   \n",
       "2  [{\"id\": 470, \"name\": \"spy\"}, {\"id\": 818, \"name...   \n",
       "3  [{\"id\": 849, \"name\": \"dc comics\"}, {\"id\": 853,...   \n",
       "4  [{\"id\": 818, \"name\": \"based on novel\"}, {\"id\":...   \n",
       "\n",
       "                                                cast  \\\n",
       "0  [{\"cast_id\": 242, \"character\": \"Jake Sully\", \"...   \n",
       "1  [{\"cast_id\": 4, \"character\": \"Captain Jack Spa...   \n",
       "2  [{\"cast_id\": 1, \"character\": \"James Bond\", \"cr...   \n",
       "3  [{\"cast_id\": 2, \"character\": \"Bruce Wayne / Ba...   \n",
       "4  [{\"cast_id\": 5, \"character\": \"John Carter\", \"c...   \n",
       "\n",
       "                                                crew  \n",
       "0  [{\"credit_id\": \"52fe48009251416c750aca23\", \"de...  \n",
       "1  [{\"credit_id\": \"52fe4232c3a36847f800b579\", \"de...  \n",
       "2  [{\"credit_id\": \"54805967c3a36829b5002c41\", \"de...  \n",
       "3  [{\"credit_id\": \"52fe4781c3a36847f81398c3\", \"de...  \n",
       "4  [{\"credit_id\": \"52fe479ac3a36847f813eaa3\", \"de...  "
      ]
     },
     "execution_count": 12,
     "metadata": {},
     "output_type": "execute_result"
    }
   ],
   "source": [
    "movies.head()"
   ]
  },
  {
   "cell_type": "code",
   "execution_count": 13,
   "id": "00f09fe5",
   "metadata": {
    "execution": {
     "iopub.execute_input": "2025-05-22T06:16:51.554609Z",
     "iopub.status.busy": "2025-05-22T06:16:51.554412Z",
     "iopub.status.idle": "2025-05-22T06:16:51.561161Z",
     "shell.execute_reply": "2025-05-22T06:16:51.560505Z"
    },
    "papermill": {
     "duration": 0.01669,
     "end_time": "2025-05-22T06:16:51.562234",
     "exception": false,
     "start_time": "2025-05-22T06:16:51.545544",
     "status": "completed"
    },
    "tags": []
   },
   "outputs": [
    {
     "data": {
      "text/plain": [
       "movie_id    0\n",
       "title       0\n",
       "overview    3\n",
       "genres      0\n",
       "keywords    0\n",
       "cast        0\n",
       "crew        0\n",
       "dtype: int64"
      ]
     },
     "execution_count": 13,
     "metadata": {},
     "output_type": "execute_result"
    }
   ],
   "source": [
    "movies.isnull().sum()"
   ]
  },
  {
   "cell_type": "code",
   "execution_count": 14,
   "id": "be7ceaca",
   "metadata": {
    "execution": {
     "iopub.execute_input": "2025-05-22T06:16:51.579606Z",
     "iopub.status.busy": "2025-05-22T06:16:51.579376Z",
     "iopub.status.idle": "2025-05-22T06:16:51.586245Z",
     "shell.execute_reply": "2025-05-22T06:16:51.585537Z"
    },
    "papermill": {
     "duration": 0.016821,
     "end_time": "2025-05-22T06:16:51.587346",
     "exception": false,
     "start_time": "2025-05-22T06:16:51.570525",
     "status": "completed"
    },
    "tags": []
   },
   "outputs": [],
   "source": [
    "movies.dropna(inplace=True)"
   ]
  },
  {
   "cell_type": "code",
   "execution_count": 15,
   "id": "9e089bea",
   "metadata": {
    "execution": {
     "iopub.execute_input": "2025-05-22T06:16:51.604775Z",
     "iopub.status.busy": "2025-05-22T06:16:51.604573Z",
     "iopub.status.idle": "2025-05-22T06:16:51.611405Z",
     "shell.execute_reply": "2025-05-22T06:16:51.610751Z"
    },
    "papermill": {
     "duration": 0.016709,
     "end_time": "2025-05-22T06:16:51.612390",
     "exception": false,
     "start_time": "2025-05-22T06:16:51.595681",
     "status": "completed"
    },
    "tags": []
   },
   "outputs": [
    {
     "data": {
      "text/plain": [
       "movie_id    0\n",
       "title       0\n",
       "overview    0\n",
       "genres      0\n",
       "keywords    0\n",
       "cast        0\n",
       "crew        0\n",
       "dtype: int64"
      ]
     },
     "execution_count": 15,
     "metadata": {},
     "output_type": "execute_result"
    }
   ],
   "source": [
    "movies.isnull().sum()"
   ]
  },
  {
   "cell_type": "code",
   "execution_count": 16,
   "id": "bb1dd4a6",
   "metadata": {
    "execution": {
     "iopub.execute_input": "2025-05-22T06:16:51.630488Z",
     "iopub.status.busy": "2025-05-22T06:16:51.629846Z",
     "iopub.status.idle": "2025-05-22T06:16:51.714231Z",
     "shell.execute_reply": "2025-05-22T06:16:51.713657Z"
    },
    "papermill": {
     "duration": 0.094657,
     "end_time": "2025-05-22T06:16:51.715467",
     "exception": false,
     "start_time": "2025-05-22T06:16:51.620810",
     "status": "completed"
    },
    "tags": []
   },
   "outputs": [
    {
     "data": {
      "text/plain": [
       "0"
      ]
     },
     "execution_count": 16,
     "metadata": {},
     "output_type": "execute_result"
    }
   ],
   "source": [
    "movies.duplicated().sum()"
   ]
  },
  {
   "cell_type": "code",
   "execution_count": 17,
   "id": "716fa9d3",
   "metadata": {
    "execution": {
     "iopub.execute_input": "2025-05-22T06:16:51.776849Z",
     "iopub.status.busy": "2025-05-22T06:16:51.776351Z",
     "iopub.status.idle": "2025-05-22T06:16:51.781223Z",
     "shell.execute_reply": "2025-05-22T06:16:51.780537Z"
    },
    "papermill": {
     "duration": 0.057885,
     "end_time": "2025-05-22T06:16:51.782368",
     "exception": false,
     "start_time": "2025-05-22T06:16:51.724483",
     "status": "completed"
    },
    "tags": []
   },
   "outputs": [
    {
     "data": {
      "text/plain": [
       "'[{\"id\": 28, \"name\": \"Action\"}, {\"id\": 12, \"name\": \"Adventure\"}, {\"id\": 14, \"name\": \"Fantasy\"}, {\"id\": 878, \"name\": \"Science Fiction\"}]'"
      ]
     },
     "execution_count": 17,
     "metadata": {},
     "output_type": "execute_result"
    }
   ],
   "source": [
    "movies.iloc[0].genres"
   ]
  },
  {
   "cell_type": "code",
   "execution_count": 18,
   "id": "bb45f186",
   "metadata": {
    "execution": {
     "iopub.execute_input": "2025-05-22T06:16:51.800569Z",
     "iopub.status.busy": "2025-05-22T06:16:51.800189Z",
     "iopub.status.idle": "2025-05-22T06:16:51.803377Z",
     "shell.execute_reply": "2025-05-22T06:16:51.802723Z"
    },
    "papermill": {
     "duration": 0.013504,
     "end_time": "2025-05-22T06:16:51.804706",
     "exception": false,
     "start_time": "2025-05-22T06:16:51.791202",
     "status": "completed"
    },
    "tags": []
   },
   "outputs": [],
   "source": [
    "#make tag using genres,keyword,cast,crew,overview\n",
    "import ast"
   ]
  },
  {
   "cell_type": "code",
   "execution_count": 19,
   "id": "8f5b0ec2",
   "metadata": {
    "execution": {
     "iopub.execute_input": "2025-05-22T06:16:51.822601Z",
     "iopub.status.busy": "2025-05-22T06:16:51.822396Z",
     "iopub.status.idle": "2025-05-22T06:16:51.825822Z",
     "shell.execute_reply": "2025-05-22T06:16:51.825285Z"
    },
    "papermill": {
     "duration": 0.013665,
     "end_time": "2025-05-22T06:16:51.826902",
     "exception": false,
     "start_time": "2025-05-22T06:16:51.813237",
     "status": "completed"
    },
    "tags": []
   },
   "outputs": [],
   "source": [
    "def convert(text):\n",
    "    L = []\n",
    "    for i in ast.literal_eval(text):\n",
    "        L.append(i['name']) \n",
    "    return L "
   ]
  },
  {
   "cell_type": "code",
   "execution_count": 20,
   "id": "552c5cfa",
   "metadata": {
    "execution": {
     "iopub.execute_input": "2025-05-22T06:16:51.844805Z",
     "iopub.status.busy": "2025-05-22T06:16:51.844624Z",
     "iopub.status.idle": "2025-05-22T06:16:52.017901Z",
     "shell.execute_reply": "2025-05-22T06:16:52.017328Z"
    },
    "papermill": {
     "duration": 0.183644,
     "end_time": "2025-05-22T06:16:52.019151",
     "exception": false,
     "start_time": "2025-05-22T06:16:51.835507",
     "status": "completed"
    },
    "tags": []
   },
   "outputs": [],
   "source": [
    "movies['genres']=movies['genres'].apply(convert)"
   ]
  },
  {
   "cell_type": "code",
   "execution_count": 21,
   "id": "0b06aaa7",
   "metadata": {
    "execution": {
     "iopub.execute_input": "2025-05-22T06:16:52.038422Z",
     "iopub.status.busy": "2025-05-22T06:16:52.038223Z",
     "iopub.status.idle": "2025-05-22T06:16:52.048936Z",
     "shell.execute_reply": "2025-05-22T06:16:52.048325Z"
    },
    "papermill": {
     "duration": 0.021441,
     "end_time": "2025-05-22T06:16:52.050023",
     "exception": false,
     "start_time": "2025-05-22T06:16:52.028582",
     "status": "completed"
    },
    "tags": []
   },
   "outputs": [
    {
     "data": {
      "text/html": [
       "<div>\n",
       "<style scoped>\n",
       "    .dataframe tbody tr th:only-of-type {\n",
       "        vertical-align: middle;\n",
       "    }\n",
       "\n",
       "    .dataframe tbody tr th {\n",
       "        vertical-align: top;\n",
       "    }\n",
       "\n",
       "    .dataframe thead th {\n",
       "        text-align: right;\n",
       "    }\n",
       "</style>\n",
       "<table border=\"1\" class=\"dataframe\">\n",
       "  <thead>\n",
       "    <tr style=\"text-align: right;\">\n",
       "      <th></th>\n",
       "      <th>movie_id</th>\n",
       "      <th>title</th>\n",
       "      <th>overview</th>\n",
       "      <th>genres</th>\n",
       "      <th>keywords</th>\n",
       "      <th>cast</th>\n",
       "      <th>crew</th>\n",
       "    </tr>\n",
       "  </thead>\n",
       "  <tbody>\n",
       "    <tr>\n",
       "      <th>0</th>\n",
       "      <td>19995</td>\n",
       "      <td>Avatar</td>\n",
       "      <td>In the 22nd century, a paraplegic Marine is di...</td>\n",
       "      <td>[Action, Adventure, Fantasy, Science Fiction]</td>\n",
       "      <td>[{\"id\": 1463, \"name\": \"culture clash\"}, {\"id\":...</td>\n",
       "      <td>[{\"cast_id\": 242, \"character\": \"Jake Sully\", \"...</td>\n",
       "      <td>[{\"credit_id\": \"52fe48009251416c750aca23\", \"de...</td>\n",
       "    </tr>\n",
       "    <tr>\n",
       "      <th>1</th>\n",
       "      <td>285</td>\n",
       "      <td>Pirates of the Caribbean: At World's End</td>\n",
       "      <td>Captain Barbossa, long believed to be dead, ha...</td>\n",
       "      <td>[Adventure, Fantasy, Action]</td>\n",
       "      <td>[{\"id\": 270, \"name\": \"ocean\"}, {\"id\": 726, \"na...</td>\n",
       "      <td>[{\"cast_id\": 4, \"character\": \"Captain Jack Spa...</td>\n",
       "      <td>[{\"credit_id\": \"52fe4232c3a36847f800b579\", \"de...</td>\n",
       "    </tr>\n",
       "    <tr>\n",
       "      <th>2</th>\n",
       "      <td>206647</td>\n",
       "      <td>Spectre</td>\n",
       "      <td>A cryptic message from Bond’s past sends him o...</td>\n",
       "      <td>[Action, Adventure, Crime]</td>\n",
       "      <td>[{\"id\": 470, \"name\": \"spy\"}, {\"id\": 818, \"name...</td>\n",
       "      <td>[{\"cast_id\": 1, \"character\": \"James Bond\", \"cr...</td>\n",
       "      <td>[{\"credit_id\": \"54805967c3a36829b5002c41\", \"de...</td>\n",
       "    </tr>\n",
       "    <tr>\n",
       "      <th>3</th>\n",
       "      <td>49026</td>\n",
       "      <td>The Dark Knight Rises</td>\n",
       "      <td>Following the death of District Attorney Harve...</td>\n",
       "      <td>[Action, Crime, Drama, Thriller]</td>\n",
       "      <td>[{\"id\": 849, \"name\": \"dc comics\"}, {\"id\": 853,...</td>\n",
       "      <td>[{\"cast_id\": 2, \"character\": \"Bruce Wayne / Ba...</td>\n",
       "      <td>[{\"credit_id\": \"52fe4781c3a36847f81398c3\", \"de...</td>\n",
       "    </tr>\n",
       "    <tr>\n",
       "      <th>4</th>\n",
       "      <td>49529</td>\n",
       "      <td>John Carter</td>\n",
       "      <td>John Carter is a war-weary, former military ca...</td>\n",
       "      <td>[Action, Adventure, Science Fiction]</td>\n",
       "      <td>[{\"id\": 818, \"name\": \"based on novel\"}, {\"id\":...</td>\n",
       "      <td>[{\"cast_id\": 5, \"character\": \"John Carter\", \"c...</td>\n",
       "      <td>[{\"credit_id\": \"52fe479ac3a36847f813eaa3\", \"de...</td>\n",
       "    </tr>\n",
       "  </tbody>\n",
       "</table>\n",
       "</div>"
      ],
      "text/plain": [
       "   movie_id                                     title  \\\n",
       "0     19995                                    Avatar   \n",
       "1       285  Pirates of the Caribbean: At World's End   \n",
       "2    206647                                   Spectre   \n",
       "3     49026                     The Dark Knight Rises   \n",
       "4     49529                               John Carter   \n",
       "\n",
       "                                            overview  \\\n",
       "0  In the 22nd century, a paraplegic Marine is di...   \n",
       "1  Captain Barbossa, long believed to be dead, ha...   \n",
       "2  A cryptic message from Bond’s past sends him o...   \n",
       "3  Following the death of District Attorney Harve...   \n",
       "4  John Carter is a war-weary, former military ca...   \n",
       "\n",
       "                                          genres  \\\n",
       "0  [Action, Adventure, Fantasy, Science Fiction]   \n",
       "1                   [Adventure, Fantasy, Action]   \n",
       "2                     [Action, Adventure, Crime]   \n",
       "3               [Action, Crime, Drama, Thriller]   \n",
       "4           [Action, Adventure, Science Fiction]   \n",
       "\n",
       "                                            keywords  \\\n",
       "0  [{\"id\": 1463, \"name\": \"culture clash\"}, {\"id\":...   \n",
       "1  [{\"id\": 270, \"name\": \"ocean\"}, {\"id\": 726, \"na...   \n",
       "2  [{\"id\": 470, \"name\": \"spy\"}, {\"id\": 818, \"name...   \n",
       "3  [{\"id\": 849, \"name\": \"dc comics\"}, {\"id\": 853,...   \n",
       "4  [{\"id\": 818, \"name\": \"based on novel\"}, {\"id\":...   \n",
       "\n",
       "                                                cast  \\\n",
       "0  [{\"cast_id\": 242, \"character\": \"Jake Sully\", \"...   \n",
       "1  [{\"cast_id\": 4, \"character\": \"Captain Jack Spa...   \n",
       "2  [{\"cast_id\": 1, \"character\": \"James Bond\", \"cr...   \n",
       "3  [{\"cast_id\": 2, \"character\": \"Bruce Wayne / Ba...   \n",
       "4  [{\"cast_id\": 5, \"character\": \"John Carter\", \"c...   \n",
       "\n",
       "                                                crew  \n",
       "0  [{\"credit_id\": \"52fe48009251416c750aca23\", \"de...  \n",
       "1  [{\"credit_id\": \"52fe4232c3a36847f800b579\", \"de...  \n",
       "2  [{\"credit_id\": \"54805967c3a36829b5002c41\", \"de...  \n",
       "3  [{\"credit_id\": \"52fe4781c3a36847f81398c3\", \"de...  \n",
       "4  [{\"credit_id\": \"52fe479ac3a36847f813eaa3\", \"de...  "
      ]
     },
     "execution_count": 21,
     "metadata": {},
     "output_type": "execute_result"
    }
   ],
   "source": [
    "movies.head()"
   ]
  },
  {
   "cell_type": "code",
   "execution_count": 22,
   "id": "ec5b8639",
   "metadata": {
    "execution": {
     "iopub.execute_input": "2025-05-22T06:16:52.068419Z",
     "iopub.status.busy": "2025-05-22T06:16:52.068246Z",
     "iopub.status.idle": "2025-05-22T06:16:52.392080Z",
     "shell.execute_reply": "2025-05-22T06:16:52.391549Z"
    },
    "papermill": {
     "duration": 0.334251,
     "end_time": "2025-05-22T06:16:52.393252",
     "exception": false,
     "start_time": "2025-05-22T06:16:52.059001",
     "status": "completed"
    },
    "tags": []
   },
   "outputs": [],
   "source": [
    "movies[\"keywords\"]=movies[\"keywords\"].apply(convert)"
   ]
  },
  {
   "cell_type": "code",
   "execution_count": 23,
   "id": "fd4b20fd",
   "metadata": {
    "execution": {
     "iopub.execute_input": "2025-05-22T06:16:52.411898Z",
     "iopub.status.busy": "2025-05-22T06:16:52.411663Z",
     "iopub.status.idle": "2025-05-22T06:16:52.424113Z",
     "shell.execute_reply": "2025-05-22T06:16:52.423385Z"
    },
    "papermill": {
     "duration": 0.022975,
     "end_time": "2025-05-22T06:16:52.425230",
     "exception": false,
     "start_time": "2025-05-22T06:16:52.402255",
     "status": "completed"
    },
    "tags": []
   },
   "outputs": [
    {
     "data": {
      "text/html": [
       "<div>\n",
       "<style scoped>\n",
       "    .dataframe tbody tr th:only-of-type {\n",
       "        vertical-align: middle;\n",
       "    }\n",
       "\n",
       "    .dataframe tbody tr th {\n",
       "        vertical-align: top;\n",
       "    }\n",
       "\n",
       "    .dataframe thead th {\n",
       "        text-align: right;\n",
       "    }\n",
       "</style>\n",
       "<table border=\"1\" class=\"dataframe\">\n",
       "  <thead>\n",
       "    <tr style=\"text-align: right;\">\n",
       "      <th></th>\n",
       "      <th>movie_id</th>\n",
       "      <th>title</th>\n",
       "      <th>overview</th>\n",
       "      <th>genres</th>\n",
       "      <th>keywords</th>\n",
       "      <th>cast</th>\n",
       "      <th>crew</th>\n",
       "    </tr>\n",
       "  </thead>\n",
       "  <tbody>\n",
       "    <tr>\n",
       "      <th>0</th>\n",
       "      <td>19995</td>\n",
       "      <td>Avatar</td>\n",
       "      <td>In the 22nd century, a paraplegic Marine is di...</td>\n",
       "      <td>[Action, Adventure, Fantasy, Science Fiction]</td>\n",
       "      <td>[culture clash, future, space war, space colon...</td>\n",
       "      <td>[{\"cast_id\": 242, \"character\": \"Jake Sully\", \"...</td>\n",
       "      <td>[{\"credit_id\": \"52fe48009251416c750aca23\", \"de...</td>\n",
       "    </tr>\n",
       "    <tr>\n",
       "      <th>1</th>\n",
       "      <td>285</td>\n",
       "      <td>Pirates of the Caribbean: At World's End</td>\n",
       "      <td>Captain Barbossa, long believed to be dead, ha...</td>\n",
       "      <td>[Adventure, Fantasy, Action]</td>\n",
       "      <td>[ocean, drug abuse, exotic island, east india ...</td>\n",
       "      <td>[{\"cast_id\": 4, \"character\": \"Captain Jack Spa...</td>\n",
       "      <td>[{\"credit_id\": \"52fe4232c3a36847f800b579\", \"de...</td>\n",
       "    </tr>\n",
       "    <tr>\n",
       "      <th>2</th>\n",
       "      <td>206647</td>\n",
       "      <td>Spectre</td>\n",
       "      <td>A cryptic message from Bond’s past sends him o...</td>\n",
       "      <td>[Action, Adventure, Crime]</td>\n",
       "      <td>[spy, based on novel, secret agent, sequel, mi...</td>\n",
       "      <td>[{\"cast_id\": 1, \"character\": \"James Bond\", \"cr...</td>\n",
       "      <td>[{\"credit_id\": \"54805967c3a36829b5002c41\", \"de...</td>\n",
       "    </tr>\n",
       "    <tr>\n",
       "      <th>3</th>\n",
       "      <td>49026</td>\n",
       "      <td>The Dark Knight Rises</td>\n",
       "      <td>Following the death of District Attorney Harve...</td>\n",
       "      <td>[Action, Crime, Drama, Thriller]</td>\n",
       "      <td>[dc comics, crime fighter, terrorist, secret i...</td>\n",
       "      <td>[{\"cast_id\": 2, \"character\": \"Bruce Wayne / Ba...</td>\n",
       "      <td>[{\"credit_id\": \"52fe4781c3a36847f81398c3\", \"de...</td>\n",
       "    </tr>\n",
       "    <tr>\n",
       "      <th>4</th>\n",
       "      <td>49529</td>\n",
       "      <td>John Carter</td>\n",
       "      <td>John Carter is a war-weary, former military ca...</td>\n",
       "      <td>[Action, Adventure, Science Fiction]</td>\n",
       "      <td>[based on novel, mars, medallion, space travel...</td>\n",
       "      <td>[{\"cast_id\": 5, \"character\": \"John Carter\", \"c...</td>\n",
       "      <td>[{\"credit_id\": \"52fe479ac3a36847f813eaa3\", \"de...</td>\n",
       "    </tr>\n",
       "  </tbody>\n",
       "</table>\n",
       "</div>"
      ],
      "text/plain": [
       "   movie_id                                     title  \\\n",
       "0     19995                                    Avatar   \n",
       "1       285  Pirates of the Caribbean: At World's End   \n",
       "2    206647                                   Spectre   \n",
       "3     49026                     The Dark Knight Rises   \n",
       "4     49529                               John Carter   \n",
       "\n",
       "                                            overview  \\\n",
       "0  In the 22nd century, a paraplegic Marine is di...   \n",
       "1  Captain Barbossa, long believed to be dead, ha...   \n",
       "2  A cryptic message from Bond’s past sends him o...   \n",
       "3  Following the death of District Attorney Harve...   \n",
       "4  John Carter is a war-weary, former military ca...   \n",
       "\n",
       "                                          genres  \\\n",
       "0  [Action, Adventure, Fantasy, Science Fiction]   \n",
       "1                   [Adventure, Fantasy, Action]   \n",
       "2                     [Action, Adventure, Crime]   \n",
       "3               [Action, Crime, Drama, Thriller]   \n",
       "4           [Action, Adventure, Science Fiction]   \n",
       "\n",
       "                                            keywords  \\\n",
       "0  [culture clash, future, space war, space colon...   \n",
       "1  [ocean, drug abuse, exotic island, east india ...   \n",
       "2  [spy, based on novel, secret agent, sequel, mi...   \n",
       "3  [dc comics, crime fighter, terrorist, secret i...   \n",
       "4  [based on novel, mars, medallion, space travel...   \n",
       "\n",
       "                                                cast  \\\n",
       "0  [{\"cast_id\": 242, \"character\": \"Jake Sully\", \"...   \n",
       "1  [{\"cast_id\": 4, \"character\": \"Captain Jack Spa...   \n",
       "2  [{\"cast_id\": 1, \"character\": \"James Bond\", \"cr...   \n",
       "3  [{\"cast_id\": 2, \"character\": \"Bruce Wayne / Ba...   \n",
       "4  [{\"cast_id\": 5, \"character\": \"John Carter\", \"c...   \n",
       "\n",
       "                                                crew  \n",
       "0  [{\"credit_id\": \"52fe48009251416c750aca23\", \"de...  \n",
       "1  [{\"credit_id\": \"52fe4232c3a36847f800b579\", \"de...  \n",
       "2  [{\"credit_id\": \"54805967c3a36829b5002c41\", \"de...  \n",
       "3  [{\"credit_id\": \"52fe4781c3a36847f81398c3\", \"de...  \n",
       "4  [{\"credit_id\": \"52fe479ac3a36847f813eaa3\", \"de...  "
      ]
     },
     "execution_count": 23,
     "metadata": {},
     "output_type": "execute_result"
    }
   ],
   "source": [
    "movies.head()"
   ]
  },
  {
   "cell_type": "code",
   "execution_count": 24,
   "id": "81d3ba8e",
   "metadata": {
    "execution": {
     "iopub.execute_input": "2025-05-22T06:16:52.444272Z",
     "iopub.status.busy": "2025-05-22T06:16:52.444071Z",
     "iopub.status.idle": "2025-05-22T06:16:52.447747Z",
     "shell.execute_reply": "2025-05-22T06:16:52.447218Z"
    },
    "papermill": {
     "duration": 0.014645,
     "end_time": "2025-05-22T06:16:52.448871",
     "exception": false,
     "start_time": "2025-05-22T06:16:52.434226",
     "status": "completed"
    },
    "tags": []
   },
   "outputs": [],
   "source": [
    "def convert3(text):\n",
    "    L = []\n",
    "    count=0\n",
    "    for i in ast.literal_eval(text):\n",
    "        if count<3:\n",
    "            L.append(i['name']) \n",
    "            count+=1\n",
    "        else:\n",
    "            return L\n",
    "    return L "
   ]
  },
  {
   "cell_type": "code",
   "execution_count": 25,
   "id": "a856829c",
   "metadata": {
    "execution": {
     "iopub.execute_input": "2025-05-22T06:16:52.468310Z",
     "iopub.status.busy": "2025-05-22T06:16:52.468115Z",
     "iopub.status.idle": "2025-05-22T06:16:55.216475Z",
     "shell.execute_reply": "2025-05-22T06:16:55.215925Z"
    },
    "papermill": {
     "duration": 2.759515,
     "end_time": "2025-05-22T06:16:55.217798",
     "exception": false,
     "start_time": "2025-05-22T06:16:52.458283",
     "status": "completed"
    },
    "tags": []
   },
   "outputs": [],
   "source": [
    "movies[\"cast\"]=movies[\"cast\"].apply(convert3)"
   ]
  },
  {
   "cell_type": "code",
   "execution_count": 26,
   "id": "ecfed0f4",
   "metadata": {
    "execution": {
     "iopub.execute_input": "2025-05-22T06:16:55.238290Z",
     "iopub.status.busy": "2025-05-22T06:16:55.238098Z",
     "iopub.status.idle": "2025-05-22T06:16:55.249888Z",
     "shell.execute_reply": "2025-05-22T06:16:55.249289Z"
    },
    "papermill": {
     "duration": 0.023415,
     "end_time": "2025-05-22T06:16:55.250989",
     "exception": false,
     "start_time": "2025-05-22T06:16:55.227574",
     "status": "completed"
    },
    "tags": []
   },
   "outputs": [
    {
     "data": {
      "text/html": [
       "<div>\n",
       "<style scoped>\n",
       "    .dataframe tbody tr th:only-of-type {\n",
       "        vertical-align: middle;\n",
       "    }\n",
       "\n",
       "    .dataframe tbody tr th {\n",
       "        vertical-align: top;\n",
       "    }\n",
       "\n",
       "    .dataframe thead th {\n",
       "        text-align: right;\n",
       "    }\n",
       "</style>\n",
       "<table border=\"1\" class=\"dataframe\">\n",
       "  <thead>\n",
       "    <tr style=\"text-align: right;\">\n",
       "      <th></th>\n",
       "      <th>movie_id</th>\n",
       "      <th>title</th>\n",
       "      <th>overview</th>\n",
       "      <th>genres</th>\n",
       "      <th>keywords</th>\n",
       "      <th>cast</th>\n",
       "      <th>crew</th>\n",
       "    </tr>\n",
       "  </thead>\n",
       "  <tbody>\n",
       "    <tr>\n",
       "      <th>0</th>\n",
       "      <td>19995</td>\n",
       "      <td>Avatar</td>\n",
       "      <td>In the 22nd century, a paraplegic Marine is di...</td>\n",
       "      <td>[Action, Adventure, Fantasy, Science Fiction]</td>\n",
       "      <td>[culture clash, future, space war, space colon...</td>\n",
       "      <td>[Sam Worthington, Zoe Saldana, Sigourney Weaver]</td>\n",
       "      <td>[{\"credit_id\": \"52fe48009251416c750aca23\", \"de...</td>\n",
       "    </tr>\n",
       "    <tr>\n",
       "      <th>1</th>\n",
       "      <td>285</td>\n",
       "      <td>Pirates of the Caribbean: At World's End</td>\n",
       "      <td>Captain Barbossa, long believed to be dead, ha...</td>\n",
       "      <td>[Adventure, Fantasy, Action]</td>\n",
       "      <td>[ocean, drug abuse, exotic island, east india ...</td>\n",
       "      <td>[Johnny Depp, Orlando Bloom, Keira Knightley]</td>\n",
       "      <td>[{\"credit_id\": \"52fe4232c3a36847f800b579\", \"de...</td>\n",
       "    </tr>\n",
       "    <tr>\n",
       "      <th>2</th>\n",
       "      <td>206647</td>\n",
       "      <td>Spectre</td>\n",
       "      <td>A cryptic message from Bond’s past sends him o...</td>\n",
       "      <td>[Action, Adventure, Crime]</td>\n",
       "      <td>[spy, based on novel, secret agent, sequel, mi...</td>\n",
       "      <td>[Daniel Craig, Christoph Waltz, Léa Seydoux]</td>\n",
       "      <td>[{\"credit_id\": \"54805967c3a36829b5002c41\", \"de...</td>\n",
       "    </tr>\n",
       "    <tr>\n",
       "      <th>3</th>\n",
       "      <td>49026</td>\n",
       "      <td>The Dark Knight Rises</td>\n",
       "      <td>Following the death of District Attorney Harve...</td>\n",
       "      <td>[Action, Crime, Drama, Thriller]</td>\n",
       "      <td>[dc comics, crime fighter, terrorist, secret i...</td>\n",
       "      <td>[Christian Bale, Michael Caine, Gary Oldman]</td>\n",
       "      <td>[{\"credit_id\": \"52fe4781c3a36847f81398c3\", \"de...</td>\n",
       "    </tr>\n",
       "    <tr>\n",
       "      <th>4</th>\n",
       "      <td>49529</td>\n",
       "      <td>John Carter</td>\n",
       "      <td>John Carter is a war-weary, former military ca...</td>\n",
       "      <td>[Action, Adventure, Science Fiction]</td>\n",
       "      <td>[based on novel, mars, medallion, space travel...</td>\n",
       "      <td>[Taylor Kitsch, Lynn Collins, Samantha Morton]</td>\n",
       "      <td>[{\"credit_id\": \"52fe479ac3a36847f813eaa3\", \"de...</td>\n",
       "    </tr>\n",
       "  </tbody>\n",
       "</table>\n",
       "</div>"
      ],
      "text/plain": [
       "   movie_id                                     title  \\\n",
       "0     19995                                    Avatar   \n",
       "1       285  Pirates of the Caribbean: At World's End   \n",
       "2    206647                                   Spectre   \n",
       "3     49026                     The Dark Knight Rises   \n",
       "4     49529                               John Carter   \n",
       "\n",
       "                                            overview  \\\n",
       "0  In the 22nd century, a paraplegic Marine is di...   \n",
       "1  Captain Barbossa, long believed to be dead, ha...   \n",
       "2  A cryptic message from Bond’s past sends him o...   \n",
       "3  Following the death of District Attorney Harve...   \n",
       "4  John Carter is a war-weary, former military ca...   \n",
       "\n",
       "                                          genres  \\\n",
       "0  [Action, Adventure, Fantasy, Science Fiction]   \n",
       "1                   [Adventure, Fantasy, Action]   \n",
       "2                     [Action, Adventure, Crime]   \n",
       "3               [Action, Crime, Drama, Thriller]   \n",
       "4           [Action, Adventure, Science Fiction]   \n",
       "\n",
       "                                            keywords  \\\n",
       "0  [culture clash, future, space war, space colon...   \n",
       "1  [ocean, drug abuse, exotic island, east india ...   \n",
       "2  [spy, based on novel, secret agent, sequel, mi...   \n",
       "3  [dc comics, crime fighter, terrorist, secret i...   \n",
       "4  [based on novel, mars, medallion, space travel...   \n",
       "\n",
       "                                               cast  \\\n",
       "0  [Sam Worthington, Zoe Saldana, Sigourney Weaver]   \n",
       "1     [Johnny Depp, Orlando Bloom, Keira Knightley]   \n",
       "2      [Daniel Craig, Christoph Waltz, Léa Seydoux]   \n",
       "3      [Christian Bale, Michael Caine, Gary Oldman]   \n",
       "4    [Taylor Kitsch, Lynn Collins, Samantha Morton]   \n",
       "\n",
       "                                                crew  \n",
       "0  [{\"credit_id\": \"52fe48009251416c750aca23\", \"de...  \n",
       "1  [{\"credit_id\": \"52fe4232c3a36847f800b579\", \"de...  \n",
       "2  [{\"credit_id\": \"54805967c3a36829b5002c41\", \"de...  \n",
       "3  [{\"credit_id\": \"52fe4781c3a36847f81398c3\", \"de...  \n",
       "4  [{\"credit_id\": \"52fe479ac3a36847f813eaa3\", \"de...  "
      ]
     },
     "execution_count": 26,
     "metadata": {},
     "output_type": "execute_result"
    }
   ],
   "source": [
    "movies.head()"
   ]
  },
  {
   "cell_type": "code",
   "execution_count": 27,
   "id": "44c52512",
   "metadata": {
    "execution": {
     "iopub.execute_input": "2025-05-22T06:16:55.270503Z",
     "iopub.status.busy": "2025-05-22T06:16:55.270309Z",
     "iopub.status.idle": "2025-05-22T06:16:55.275792Z",
     "shell.execute_reply": "2025-05-22T06:16:55.275147Z"
    },
    "papermill": {
     "duration": 0.016874,
     "end_time": "2025-05-22T06:16:55.277690",
     "exception": false,
     "start_time": "2025-05-22T06:16:55.260816",
     "status": "completed"
    },
    "tags": []
   },
   "outputs": [
    {
     "data": {
      "text/plain": [
       "array(['[{\"credit_id\": \"52fe48009251416c750aca23\", \"department\": \"Editing\", \"gender\": 0, \"id\": 1721, \"job\": \"Editor\", \"name\": \"Stephen E. Rivkin\"}, {\"credit_id\": \"539c47ecc3a36810e3001f87\", \"department\": \"Art\", \"gender\": 2, \"id\": 496, \"job\": \"Production Design\", \"name\": \"Rick Carter\"}, {\"credit_id\": \"54491c89c3a3680fb4001cf7\", \"department\": \"Sound\", \"gender\": 0, \"id\": 900, \"job\": \"Sound Designer\", \"name\": \"Christopher Boyes\"}, {\"credit_id\": \"54491cb70e0a267480001bd0\", \"department\": \"Sound\", \"gender\": 0, \"id\": 900, \"job\": \"Supervising Sound Editor\", \"name\": \"Christopher Boyes\"}, {\"credit_id\": \"539c4a4cc3a36810c9002101\", \"department\": \"Production\", \"gender\": 1, \"id\": 1262, \"job\": \"Casting\", \"name\": \"Mali Finn\"}, {\"credit_id\": \"5544ee3b925141499f0008fc\", \"department\": \"Sound\", \"gender\": 2, \"id\": 1729, \"job\": \"Original Music Composer\", \"name\": \"James Horner\"}, {\"credit_id\": \"52fe48009251416c750ac9c3\", \"department\": \"Directing\", \"gender\": 2, \"id\": 2710, \"job\": \"Director\", \"name\": \"James Cameron\"}, {\"credit_id\": \"52fe48009251416c750ac9d9\", \"department\": \"Writing\", \"gender\": 2, \"id\": 2710, \"job\": \"Writer\", \"name\": \"James Cameron\"}, {\"credit_id\": \"52fe48009251416c750aca17\", \"department\": \"Editing\", \"gender\": 2, \"id\": 2710, \"job\": \"Editor\", \"name\": \"James Cameron\"}, {\"credit_id\": \"52fe48009251416c750aca29\", \"department\": \"Production\", \"gender\": 2, \"id\": 2710, \"job\": \"Producer\", \"name\": \"James Cameron\"}, {\"credit_id\": \"52fe48009251416c750aca3f\", \"department\": \"Writing\", \"gender\": 2, \"id\": 2710, \"job\": \"Screenplay\", \"name\": \"James Cameron\"}, {\"credit_id\": \"539c4987c3a36810ba0021a4\", \"department\": \"Art\", \"gender\": 2, \"id\": 7236, \"job\": \"Art Direction\", \"name\": \"Andrew Menzies\"}, {\"credit_id\": \"549598c3c3a3686ae9004383\", \"department\": \"Visual Effects\", \"gender\": 0, \"id\": 6690, \"job\": \"Visual Effects Producer\", \"name\": \"Jill Brooks\"}, {\"credit_id\": \"52fe48009251416c750aca4b\", \"department\": \"Production\", \"gender\": 1, \"id\": 6347, \"job\": \"Casting\", \"name\": \"Margery Simkin\"}, {\"credit_id\": \"570b6f419251417da70032fe\", \"department\": \"Art\", \"gender\": 2, \"id\": 6878, \"job\": \"Supervising Art Director\", \"name\": \"Kevin Ishioka\"}, {\"credit_id\": \"5495a0fac3a3686ae9004468\", \"department\": \"Sound\", \"gender\": 0, \"id\": 6883, \"job\": \"Music Editor\", \"name\": \"Dick Bernstein\"}, {\"credit_id\": \"54959706c3a3686af3003e81\", \"department\": \"Sound\", \"gender\": 0, \"id\": 8159, \"job\": \"Sound Effects Editor\", \"name\": \"Shannon Mills\"}, {\"credit_id\": \"54491d58c3a3680fb1001ccb\", \"department\": \"Sound\", \"gender\": 0, \"id\": 8160, \"job\": \"Foley\", \"name\": \"Dennie Thorpe\"}, {\"credit_id\": \"54491d6cc3a3680fa5001b2c\", \"department\": \"Sound\", \"gender\": 0, \"id\": 8163, \"job\": \"Foley\", \"name\": \"Jana Vance\"}, {\"credit_id\": \"52fe48009251416c750aca57\", \"department\": \"Costume & Make-Up\", \"gender\": 1, \"id\": 8527, \"job\": \"Costume Design\", \"name\": \"Deborah Lynn Scott\"}, {\"credit_id\": \"52fe48009251416c750aca2f\", \"department\": \"Production\", \"gender\": 2, \"id\": 8529, \"job\": \"Producer\", \"name\": \"Jon Landau\"}, {\"credit_id\": \"539c4937c3a36810ba002194\", \"department\": \"Art\", \"gender\": 0, \"id\": 9618, \"job\": \"Art Direction\", \"name\": \"Sean Haworth\"}, {\"credit_id\": \"539c49b6c3a36810c10020e6\", \"department\": \"Art\", \"gender\": 1, \"id\": 12653, \"job\": \"Set Decoration\", \"name\": \"Kim Sinclair\"}, {\"credit_id\": \"570b6f2f9251413a0e00020d\", \"department\": \"Art\", \"gender\": 1, \"id\": 12653, \"job\": \"Supervising Art Director\", \"name\": \"Kim Sinclair\"}, {\"credit_id\": \"54491a6c0e0a26748c001b19\", \"department\": \"Art\", \"gender\": 2, \"id\": 14350, \"job\": \"Set Designer\", \"name\": \"Richard F. Mays\"}, {\"credit_id\": \"56928cf4c3a3684cff0025c4\", \"department\": \"Production\", \"gender\": 1, \"id\": 20294, \"job\": \"Executive Producer\", \"name\": \"Laeta Kalogridis\"}, {\"credit_id\": \"52fe48009251416c750aca51\", \"department\": \"Costume & Make-Up\", \"gender\": 0, \"id\": 17675, \"job\": \"Costume Design\", \"name\": \"Mayes C. Rubeo\"}, {\"credit_id\": \"52fe48009251416c750aca11\", \"department\": \"Camera\", \"gender\": 2, \"id\": 18265, \"job\": \"Director of Photography\", \"name\": \"Mauro Fiore\"}, {\"credit_id\": \"5449194d0e0a26748f001b39\", \"department\": \"Art\", \"gender\": 0, \"id\": 42281, \"job\": \"Set Designer\", \"name\": \"Scott Herbertson\"}, {\"credit_id\": \"52fe48009251416c750aca05\", \"department\": \"Crew\", \"gender\": 0, \"id\": 42288, \"job\": \"Stunts\", \"name\": \"Woody Schultz\"}, {\"credit_id\": \"5592aefb92514152de0010f5\", \"department\": \"Costume & Make-Up\", \"gender\": 0, \"id\": 29067, \"job\": \"Makeup Artist\", \"name\": \"Linda DeVetta\"}, {\"credit_id\": \"5592afa492514152de00112c\", \"department\": \"Costume & Make-Up\", \"gender\": 0, \"id\": 29067, \"job\": \"Hairstylist\", \"name\": \"Linda DeVetta\"}, {\"credit_id\": \"54959ed592514130fc002e5d\", \"department\": \"Camera\", \"gender\": 2, \"id\": 33302, \"job\": \"Camera Operator\", \"name\": \"Richard Bluck\"}, {\"credit_id\": \"539c4891c3a36810ba002147\", \"department\": \"Art\", \"gender\": 2, \"id\": 33303, \"job\": \"Art Direction\", \"name\": \"Simon Bright\"}, {\"credit_id\": \"54959c069251417a81001f3a\", \"department\": \"Visual Effects\", \"gender\": 0, \"id\": 113145, \"job\": \"Visual Effects Supervisor\", \"name\": \"Richard Martin\"}, {\"credit_id\": \"54959a0dc3a3680ff5002c8d\", \"department\": \"Crew\", \"gender\": 2, \"id\": 58188, \"job\": \"Visual Effects Editor\", \"name\": \"Steve R. Moore\"}, {\"credit_id\": \"52fe48009251416c750aca1d\", \"department\": \"Editing\", \"gender\": 2, \"id\": 58871, \"job\": \"Editor\", \"name\": \"John Refoua\"}, {\"credit_id\": \"54491a4dc3a3680fc30018ca\", \"department\": \"Art\", \"gender\": 0, \"id\": 92359, \"job\": \"Set Designer\", \"name\": \"Karl J. Martin\"}, {\"credit_id\": \"52fe48009251416c750aca35\", \"department\": \"Camera\", \"gender\": 1, \"id\": 72201, \"job\": \"Director of Photography\", \"name\": \"Chiling Lin\"}, {\"credit_id\": \"52fe48009251416c750ac9ff\", \"department\": \"Crew\", \"gender\": 0, \"id\": 89714, \"job\": \"Stunts\", \"name\": \"Ilram Choi\"}, {\"credit_id\": \"54959c529251416e2b004394\", \"department\": \"Visual Effects\", \"gender\": 2, \"id\": 93214, \"job\": \"Visual Effects Supervisor\", \"name\": \"Steven Quale\"}, {\"credit_id\": \"54491edf0e0a267489001c37\", \"department\": \"Crew\", \"gender\": 1, \"id\": 122607, \"job\": \"Dialect Coach\", \"name\": \"Carla Meyer\"}, {\"credit_id\": \"539c485bc3a368653d001a3a\", \"department\": \"Art\", \"gender\": 2, \"id\": 132585, \"job\": \"Art Direction\", \"name\": \"Nick Bassett\"}, {\"credit_id\": \"539c4903c3a368653d001a74\", \"department\": \"Art\", \"gender\": 0, \"id\": 132596, \"job\": \"Art Direction\", \"name\": \"Jill Cormack\"}, {\"credit_id\": \"539c4967c3a368653d001a94\", \"department\": \"Art\", \"gender\": 0, \"id\": 132604, \"job\": \"Art Direction\", \"name\": \"Andy McLaren\"}, {\"credit_id\": \"52fe48009251416c750aca45\", \"department\": \"Crew\", \"gender\": 0, \"id\": 236696, \"job\": \"Motion Capture Artist\", \"name\": \"Terry Notary\"}, {\"credit_id\": \"54959e02c3a3680fc60027d2\", \"department\": \"Crew\", \"gender\": 2, \"id\": 956198, \"job\": \"Stunt Coordinator\", \"name\": \"Garrett Warren\"}, {\"credit_id\": \"54959ca3c3a3686ae300438c\", \"department\": \"Visual Effects\", \"gender\": 2, \"id\": 957874, \"job\": \"Visual Effects Supervisor\", \"name\": \"Jonathan Rothbart\"}, {\"credit_id\": \"570b6f519251412c74001b2f\", \"department\": \"Art\", \"gender\": 0, \"id\": 957889, \"job\": \"Supervising Art Director\", \"name\": \"Stefan Dechant\"}, {\"credit_id\": \"570b6f62c3a3680b77007460\", \"department\": \"Art\", \"gender\": 2, \"id\": 959555, \"job\": \"Supervising Art Director\", \"name\": \"Todd Cherniawsky\"}, {\"credit_id\": \"539c4a3ac3a36810da0021cc\", \"department\": \"Production\", \"gender\": 0, \"id\": 1016177, \"job\": \"Casting\", \"name\": \"Miranda Rivers\"}, {\"credit_id\": \"539c482cc3a36810c1002062\", \"department\": \"Art\", \"gender\": 0, \"id\": 1032536, \"job\": \"Production Design\", \"name\": \"Robert Stromberg\"}, {\"credit_id\": \"539c4b65c3a36810c9002125\", \"department\": \"Costume & Make-Up\", \"gender\": 2, \"id\": 1071680, \"job\": \"Costume Design\", \"name\": \"John Harding\"}, {\"credit_id\": \"54959e6692514130fc002e4e\", \"department\": \"Camera\", \"gender\": 0, \"id\": 1177364, \"job\": \"Steadicam Operator\", \"name\": \"Roberto De Angelis\"}, {\"credit_id\": \"539c49f1c3a368653d001aac\", \"department\": \"Costume & Make-Up\", \"gender\": 2, \"id\": 1202850, \"job\": \"Makeup Department Head\", \"name\": \"Mike Smithson\"}, {\"credit_id\": \"5495999ec3a3686ae100460c\", \"department\": \"Visual Effects\", \"gender\": 0, \"id\": 1204668, \"job\": \"Visual Effects Producer\", \"name\": \"Alain Lalanne\"}, {\"credit_id\": \"54959cdfc3a3681153002729\", \"department\": \"Visual Effects\", \"gender\": 0, \"id\": 1206410, \"job\": \"Visual Effects Supervisor\", \"name\": \"Lucas Salton\"}, {\"credit_id\": \"549596239251417a81001eae\", \"department\": \"Crew\", \"gender\": 0, \"id\": 1234266, \"job\": \"Post Production Supervisor\", \"name\": \"Janace Tashjian\"}, {\"credit_id\": \"54959c859251416e1e003efe\", \"department\": \"Visual Effects\", \"gender\": 0, \"id\": 1271932, \"job\": \"Visual Effects Supervisor\", \"name\": \"Stephen Rosenbaum\"}, {\"credit_id\": \"5592af28c3a368775a00105f\", \"department\": \"Costume & Make-Up\", \"gender\": 0, \"id\": 1310064, \"job\": \"Makeup Artist\", \"name\": \"Frankie Karena\"}, {\"credit_id\": \"539c4adfc3a36810e300203b\", \"department\": \"Costume & Make-Up\", \"gender\": 1, \"id\": 1319844, \"job\": \"Costume Supervisor\", \"name\": \"Lisa Lovaas\"}, {\"credit_id\": \"54959b579251416e2b004371\", \"department\": \"Visual Effects\", \"gender\": 0, \"id\": 1327028, \"job\": \"Visual Effects Supervisor\", \"name\": \"Jonathan Fawkner\"}, {\"credit_id\": \"539c48a7c3a36810b5001fa7\", \"department\": \"Art\", \"gender\": 0, \"id\": 1330561, \"job\": \"Art Direction\", \"name\": \"Robert Bavin\"}, {\"credit_id\": \"539c4a71c3a36810da0021e0\", \"department\": \"Costume & Make-Up\", \"gender\": 0, \"id\": 1330567, \"job\": \"Costume Supervisor\", \"name\": \"Anthony Almaraz\"}, {\"credit_id\": \"539c4a8ac3a36810ba0021e4\", \"department\": \"Costume & Make-Up\", \"gender\": 0, \"id\": 1330570, \"job\": \"Costume Supervisor\", \"name\": \"Carolyn M. Fenton\"}, {\"credit_id\": \"539c4ab6c3a36810da0021f0\", \"department\": \"Costume & Make-Up\", \"gender\": 0, \"id\": 1330574, \"job\": \"Costume Supervisor\", \"name\": \"Beth Koenigsberg\"}, {\"credit_id\": \"54491ab70e0a267480001ba2\", \"department\": \"Art\", \"gender\": 0, \"id\": 1336191, \"job\": \"Set Designer\", \"name\": \"Sam Page\"}, {\"credit_id\": \"544919d9c3a3680fc30018bd\", \"department\": \"Art\", \"gender\": 0, \"id\": 1339441, \"job\": \"Set Designer\", \"name\": \"Tex Kadonaga\"}, {\"credit_id\": \"54491cf50e0a267483001b0c\", \"department\": \"Editing\", \"gender\": 0, \"id\": 1352422, \"job\": \"Dialogue Editor\", \"name\": \"Kim Foscato\"}, {\"credit_id\": \"544919f40e0a26748c001b09\", \"department\": \"Art\", \"gender\": 0, \"id\": 1352962, \"job\": \"Set Designer\", \"name\": \"Tammy S. Lee\"}, {\"credit_id\": \"5495a115c3a3680ff5002d71\", \"department\": \"Crew\", \"gender\": 0, \"id\": 1357070, \"job\": \"Transportation Coordinator\", \"name\": \"Denny Caira\"}, {\"credit_id\": \"5495a12f92514130fc002e94\", \"department\": \"Crew\", \"gender\": 0, \"id\": 1357071, \"job\": \"Transportation Coordinator\", \"name\": \"James Waitkus\"}, {\"credit_id\": \"5495976fc3a36811530026b0\", \"department\": \"Sound\", \"gender\": 0, \"id\": 1360103, \"job\": \"Supervising Sound Editor\", \"name\": \"Addison Teague\"}, {\"credit_id\": \"54491837c3a3680fb1001c5a\", \"department\": \"Art\", \"gender\": 2, \"id\": 1376887, \"job\": \"Set Designer\", \"name\": \"C. Scott Baker\"}, {\"credit_id\": \"54491878c3a3680fb4001c9d\", \"department\": \"Art\", \"gender\": 0, \"id\": 1376888, \"job\": \"Set Designer\", \"name\": \"Luke Caska\"}, {\"credit_id\": \"544918dac3a3680fa5001ae0\", \"department\": \"Art\", \"gender\": 0, \"id\": 1376889, \"job\": \"Set Designer\", \"name\": \"David Chow\"}, {\"credit_id\": \"544919110e0a267486001b68\", \"department\": \"Art\", \"gender\": 0, \"id\": 1376890, \"job\": \"Set Designer\", \"name\": \"Jonathan Dyer\"}, {\"credit_id\": \"54491967c3a3680faa001b5e\", \"department\": \"Art\", \"gender\": 0, \"id\": 1376891, \"job\": \"Set Designer\", \"name\": \"Joseph Hiura\"}, {\"credit_id\": \"54491997c3a3680fb1001c8a\", \"department\": \"Art\", \"gender\": 0, \"id\": 1376892, \"job\": \"Art Department Coordinator\", \"name\": \"Rebecca Jellie\"}, {\"credit_id\": \"544919ba0e0a26748f001b42\", \"department\": \"Art\", \"gender\": 0, \"id\": 1376893, \"job\": \"Set Designer\", \"name\": \"Robert Andrew Johnson\"}, {\"credit_id\": \"54491b1dc3a3680faa001b8c\", \"department\": \"Art\", \"gender\": 0, \"id\": 1376895, \"job\": \"Assistant Art Director\", \"name\": \"Mike Stassi\"}, {\"credit_id\": \"54491b79c3a3680fbb001826\", \"department\": \"Art\", \"gender\": 0, \"id\": 1376897, \"job\": \"Construction Coordinator\", \"name\": \"John Villarino\"}, {\"credit_id\": \"54491baec3a3680fb4001ce6\", \"department\": \"Art\", \"gender\": 2, \"id\": 1376898, \"job\": \"Assistant Art Director\", \"name\": \"Jeffrey Wisniewski\"}, {\"credit_id\": \"54491d2fc3a3680fb4001d07\", \"department\": \"Editing\", \"gender\": 0, \"id\": 1376899, \"job\": \"Dialogue Editor\", \"name\": \"Cheryl Nardi\"}, {\"credit_id\": \"54491d86c3a3680fa5001b2f\", \"department\": \"Editing\", \"gender\": 0, \"id\": 1376901, \"job\": \"Dialogue Editor\", \"name\": \"Marshall Winn\"}, {\"credit_id\": \"54491d9dc3a3680faa001bb0\", \"department\": \"Sound\", \"gender\": 0, \"id\": 1376902, \"job\": \"Supervising Sound Editor\", \"name\": \"Gwendolyn Yates Whittle\"}, {\"credit_id\": \"54491dc10e0a267486001bce\", \"department\": \"Sound\", \"gender\": 0, \"id\": 1376903, \"job\": \"Sound Re-Recording Mixer\", \"name\": \"William Stein\"}, {\"credit_id\": \"54491f500e0a26747c001c07\", \"department\": \"Crew\", \"gender\": 0, \"id\": 1376909, \"job\": \"Choreographer\", \"name\": \"Lula Washington\"}, {\"credit_id\": \"549599239251412c4e002a2e\", \"department\": \"Visual Effects\", \"gender\": 0, \"id\": 1391692, \"job\": \"Visual Effects Producer\", \"name\": \"Chris Del Conte\"}, {\"credit_id\": \"54959d54c3a36831b8001d9a\", \"department\": \"Visual Effects\", \"gender\": 2, \"id\": 1391695, \"job\": \"Visual Effects Supervisor\", \"name\": \"R. Christopher White\"}, {\"credit_id\": \"54959bdf9251412c4e002a66\", \"department\": \"Visual Effects\", \"gender\": 0, \"id\": 1394070, \"job\": \"Visual Effects Supervisor\", \"name\": \"Dan Lemmon\"}, {\"credit_id\": \"5495971d92514132ed002922\", \"department\": \"Sound\", \"gender\": 0, \"id\": 1394129, \"job\": \"Sound Effects Editor\", \"name\": \"Tim Nielsen\"}, {\"credit_id\": \"5592b25792514152cc0011aa\", \"department\": \"Crew\", \"gender\": 0, \"id\": 1394286, \"job\": \"CG Supervisor\", \"name\": \"Michael Mulholland\"}, {\"credit_id\": \"54959a329251416e2b004355\", \"department\": \"Crew\", \"gender\": 0, \"id\": 1394750, \"job\": \"Visual Effects Editor\", \"name\": \"Thomas Nittmann\"}, {\"credit_id\": \"54959d6dc3a3686ae9004401\", \"department\": \"Visual Effects\", \"gender\": 0, \"id\": 1394755, \"job\": \"Visual Effects Supervisor\", \"name\": \"Edson Williams\"}, {\"credit_id\": \"5495a08fc3a3686ae300441c\", \"department\": \"Editing\", \"gender\": 0, \"id\": 1394953, \"job\": \"Digital Intermediate\", \"name\": \"Christine Carr\"}, {\"credit_id\": \"55402d659251413d6d000249\", \"department\": \"Visual Effects\", \"gender\": 0, \"id\": 1395269, \"job\": \"Visual Effects Supervisor\", \"name\": \"John Bruno\"}, {\"credit_id\": \"54959e7b9251416e1e003f3e\", \"department\": \"Camera\", \"gender\": 0, \"id\": 1398970, \"job\": \"Steadicam Operator\", \"name\": \"David Emmerichs\"}, {\"credit_id\": \"54959734c3a3686ae10045e0\", \"department\": \"Sound\", \"gender\": 0, \"id\": 1400906, \"job\": \"Sound Effects Editor\", \"name\": \"Christopher Scarabosio\"}, {\"credit_id\": \"549595dd92514130fc002d79\", \"department\": \"Production\", \"gender\": 0, \"id\": 1401784, \"job\": \"Production Supervisor\", \"name\": \"Jennifer Teves\"}, {\"credit_id\": \"549596009251413af70028cc\", \"department\": \"Production\", \"gender\": 0, \"id\": 1401785, \"job\": \"Production Manager\", \"name\": \"Brigitte Yorke\"}, {\"credit_id\": \"549596e892514130fc002d99\", \"department\": \"Sound\", \"gender\": 0, \"id\": 1401786, \"job\": \"Sound Effects Editor\", \"name\": \"Ken Fischer\"}, {\"credit_id\": \"549598229251412c4e002a1c\", \"department\": \"Crew\", \"gender\": 0, \"id\": 1401787, \"job\": \"Special Effects Coordinator\", \"name\": \"Iain Hutton\"}, {\"credit_id\": \"549598349251416e2b00432b\", \"department\": \"Crew\", \"gender\": 0, \"id\": 1401788, \"job\": \"Special Effects Coordinator\", \"name\": \"Steve Ingram\"}, {\"credit_id\": \"54959905c3a3686ae3004324\", \"department\": \"Visual Effects\", \"gender\": 0, \"id\": 1401789, \"job\": \"Visual Effects Producer\", \"name\": \"Joyce Cox\"}, {\"credit_id\": \"5495994b92514132ed002951\", \"department\": \"Visual Effects\", \"gender\": 0, \"id\": 1401790, \"job\": \"Visual Effects Producer\", \"name\": \"Jenny Foster\"}, {\"credit_id\": \"549599cbc3a3686ae1004613\", \"department\": \"Crew\", \"gender\": 0, \"id\": 1401791, \"job\": \"Visual Effects Editor\", \"name\": \"Christopher Marino\"}, {\"credit_id\": \"549599f2c3a3686ae100461e\", \"department\": \"Crew\", \"gender\": 0, \"id\": 1401792, \"job\": \"Visual Effects Editor\", \"name\": \"Jim Milton\"}, {\"credit_id\": \"54959a51c3a3686af3003eb5\", \"department\": \"Visual Effects\", \"gender\": 0, \"id\": 1401793, \"job\": \"Visual Effects Producer\", \"name\": \"Cyndi Ochs\"}, {\"credit_id\": \"54959a7cc3a36811530026f4\", \"department\": \"Crew\", \"gender\": 0, \"id\": 1401794, \"job\": \"Visual Effects Editor\", \"name\": \"Lucas Putnam\"}, {\"credit_id\": \"54959b91c3a3680ff5002cb4\", \"department\": \"Visual Effects\", \"gender\": 0, \"id\": 1401795, \"job\": \"Visual Effects Supervisor\", \"name\": \"Anthony \\'Max\\' Ivins\"}, {\"credit_id\": \"54959bb69251412c4e002a5f\", \"department\": \"Visual Effects\", \"gender\": 0, \"id\": 1401796, \"job\": \"Visual Effects Supervisor\", \"name\": \"John Knoll\"}, {\"credit_id\": \"54959cbbc3a3686ae3004391\", \"department\": \"Visual Effects\", \"gender\": 2, \"id\": 1401799, \"job\": \"Visual Effects Supervisor\", \"name\": \"Eric Saindon\"}, {\"credit_id\": \"54959d06c3a3686ae90043f6\", \"department\": \"Visual Effects\", \"gender\": 0, \"id\": 1401800, \"job\": \"Visual Effects Supervisor\", \"name\": \"Wayne Stables\"}, {\"credit_id\": \"54959d259251416e1e003f11\", \"department\": \"Visual Effects\", \"gender\": 0, \"id\": 1401801, \"job\": \"Visual Effects Supervisor\", \"name\": \"David Stinnett\"}, {\"credit_id\": \"54959db49251413af7002975\", \"department\": \"Visual Effects\", \"gender\": 0, \"id\": 1401803, \"job\": \"Visual Effects Supervisor\", \"name\": \"Guy Williams\"}, {\"credit_id\": \"54959de4c3a3681153002750\", \"department\": \"Crew\", \"gender\": 0, \"id\": 1401804, \"job\": \"Stunt Coordinator\", \"name\": \"Stuart Thorp\"}, {\"credit_id\": \"54959ef2c3a3680fc60027f2\", \"department\": \"Lighting\", \"gender\": 0, \"id\": 1401805, \"job\": \"Best Boy Electric\", \"name\": \"Giles Coburn\"}, {\"credit_id\": \"54959f07c3a3680fc60027f9\", \"department\": \"Camera\", \"gender\": 2, \"id\": 1401806, \"job\": \"Still Photographer\", \"name\": \"Mark Fellman\"}, {\"credit_id\": \"54959f47c3a3681153002774\", \"department\": \"Lighting\", \"gender\": 0, \"id\": 1401807, \"job\": \"Lighting Technician\", \"name\": \"Scott Sprague\"}, {\"credit_id\": \"54959f8cc3a36831b8001df2\", \"department\": \"Visual Effects\", \"gender\": 0, \"id\": 1401808, \"job\": \"Animation Director\", \"name\": \"Jeremy Hollobon\"}, {\"credit_id\": \"54959fa0c3a36831b8001dfb\", \"department\": \"Visual Effects\", \"gender\": 0, \"id\": 1401809, \"job\": \"Animation Director\", \"name\": \"Orlando Meunier\"}, {\"credit_id\": \"54959fb6c3a3686af3003f54\", \"department\": \"Visual Effects\", \"gender\": 0, \"id\": 1401810, \"job\": \"Animation Director\", \"name\": \"Taisuke Tanimura\"}, {\"credit_id\": \"54959fd2c3a36831b8001e02\", \"department\": \"Costume & Make-Up\", \"gender\": 0, \"id\": 1401812, \"job\": \"Set Costumer\", \"name\": \"Lilia Mishel Acevedo\"}, {\"credit_id\": \"54959ff9c3a3686ae300440c\", \"department\": \"Costume & Make-Up\", \"gender\": 0, \"id\": 1401814, \"job\": \"Set Costumer\", \"name\": \"Alejandro M. Hernandez\"}, {\"credit_id\": \"5495a0ddc3a3686ae10046fe\", \"department\": \"Editing\", \"gender\": 0, \"id\": 1401815, \"job\": \"Digital Intermediate\", \"name\": \"Marvin Hall\"}, {\"credit_id\": \"5495a1f7c3a3686ae3004443\", \"department\": \"Production\", \"gender\": 0, \"id\": 1401816, \"job\": \"Publicist\", \"name\": \"Judy Alley\"}, {\"credit_id\": \"5592b29fc3a36869d100002f\", \"department\": \"Crew\", \"gender\": 0, \"id\": 1418381, \"job\": \"CG Supervisor\", \"name\": \"Mike Perry\"}, {\"credit_id\": \"5592b23a9251415df8001081\", \"department\": \"Crew\", \"gender\": 0, \"id\": 1426854, \"job\": \"CG Supervisor\", \"name\": \"Andrew Morley\"}, {\"credit_id\": \"55491e1192514104c40002d8\", \"department\": \"Art\", \"gender\": 0, \"id\": 1438901, \"job\": \"Conceptual Design\", \"name\": \"Seth Engstrom\"}, {\"credit_id\": \"5525d5809251417276002b06\", \"department\": \"Crew\", \"gender\": 0, \"id\": 1447362, \"job\": \"Visual Effects Art Director\", \"name\": \"Eric Oliver\"}, {\"credit_id\": \"554427ca925141586500312a\", \"department\": \"Visual Effects\", \"gender\": 0, \"id\": 1447503, \"job\": \"Modeling\", \"name\": \"Matsune Suzuki\"}, {\"credit_id\": \"551906889251415aab001c88\", \"department\": \"Art\", \"gender\": 0, \"id\": 1447524, \"job\": \"Art Department Manager\", \"name\": \"Paul Tobin\"}, {\"credit_id\": \"5592af8492514152cc0010de\", \"department\": \"Costume & Make-Up\", \"gender\": 0, \"id\": 1452643, \"job\": \"Hairstylist\", \"name\": \"Roxane Griffin\"}, {\"credit_id\": \"553d3c109251415852001318\", \"department\": \"Lighting\", \"gender\": 0, \"id\": 1453938, \"job\": \"Lighting Artist\", \"name\": \"Arun Ram-Mohan\"}, {\"credit_id\": \"5592af4692514152d5001355\", \"department\": \"Costume & Make-Up\", \"gender\": 0, \"id\": 1457305, \"job\": \"Makeup Artist\", \"name\": \"Georgia Lockhart-Adams\"}, {\"credit_id\": \"5592b2eac3a36877470012a5\", \"department\": \"Crew\", \"gender\": 0, \"id\": 1466035, \"job\": \"CG Supervisor\", \"name\": \"Thrain Shadbolt\"}, {\"credit_id\": \"5592b032c3a36877450015f1\", \"department\": \"Crew\", \"gender\": 0, \"id\": 1483220, \"job\": \"CG Supervisor\", \"name\": \"Brad Alexander\"}, {\"credit_id\": \"5592b05592514152d80012f6\", \"department\": \"Crew\", \"gender\": 0, \"id\": 1483221, \"job\": \"CG Supervisor\", \"name\": \"Shadi Almassizadeh\"}, {\"credit_id\": \"5592b090c3a36877570010b5\", \"department\": \"Crew\", \"gender\": 0, \"id\": 1483222, \"job\": \"CG Supervisor\", \"name\": \"Simon Clutterbuck\"}, {\"credit_id\": \"5592b0dbc3a368774b00112c\", \"department\": \"Crew\", \"gender\": 0, \"id\": 1483223, \"job\": \"CG Supervisor\", \"name\": \"Graeme Demmocks\"}, {\"credit_id\": \"5592b0fe92514152db0010c1\", \"department\": \"Crew\", \"gender\": 0, \"id\": 1483224, \"job\": \"CG Supervisor\", \"name\": \"Adrian Fernandes\"}, {\"credit_id\": \"5592b11f9251415df8001059\", \"department\": \"Crew\", \"gender\": 0, \"id\": 1483225, \"job\": \"CG Supervisor\", \"name\": \"Mitch Gates\"}, {\"credit_id\": \"5592b15dc3a3687745001645\", \"department\": \"Crew\", \"gender\": 0, \"id\": 1483226, \"job\": \"CG Supervisor\", \"name\": \"Jerry Kung\"}, {\"credit_id\": \"5592b18e925141645a0004ae\", \"department\": \"Crew\", \"gender\": 0, \"id\": 1483227, \"job\": \"CG Supervisor\", \"name\": \"Andy Lomas\"}, {\"credit_id\": \"5592b1bfc3a368775d0010e7\", \"department\": \"Crew\", \"gender\": 0, \"id\": 1483228, \"job\": \"CG Supervisor\", \"name\": \"Sebastian Marino\"}, {\"credit_id\": \"5592b2049251415df8001078\", \"department\": \"Crew\", \"gender\": 0, \"id\": 1483229, \"job\": \"CG Supervisor\", \"name\": \"Matthias Menz\"}, {\"credit_id\": \"5592b27b92514152d800136a\", \"department\": \"Crew\", \"gender\": 0, \"id\": 1483230, \"job\": \"CG Supervisor\", \"name\": \"Sergei Nevshupov\"}, {\"credit_id\": \"5592b2c3c3a36869e800003c\", \"department\": \"Crew\", \"gender\": 0, \"id\": 1483231, \"job\": \"CG Supervisor\", \"name\": \"Philippe Rebours\"}, {\"credit_id\": \"5592b317c3a36877470012af\", \"department\": \"Crew\", \"gender\": 0, \"id\": 1483232, \"job\": \"CG Supervisor\", \"name\": \"Michael Takarangi\"}, {\"credit_id\": \"5592b345c3a36877470012bb\", \"department\": \"Crew\", \"gender\": 0, \"id\": 1483233, \"job\": \"CG Supervisor\", \"name\": \"David Weitzberg\"}, {\"credit_id\": \"5592b37cc3a368775100113b\", \"department\": \"Crew\", \"gender\": 0, \"id\": 1483234, \"job\": \"CG Supervisor\", \"name\": \"Ben White\"}, {\"credit_id\": \"573c8e2f9251413f5d000094\", \"department\": \"Crew\", \"gender\": 1, \"id\": 1621932, \"job\": \"Stunts\", \"name\": \"Min Windle\"}]',\n",
       "       '[{\"credit_id\": \"52fe4232c3a36847f800b579\", \"department\": \"Camera\", \"gender\": 2, \"id\": 120, \"job\": \"Director of Photography\", \"name\": \"Dariusz Wolski\"}, {\"credit_id\": \"52fe4232c3a36847f800b4fd\", \"department\": \"Directing\", \"gender\": 2, \"id\": 1704, \"job\": \"Director\", \"name\": \"Gore Verbinski\"}, {\"credit_id\": \"52fe4232c3a36847f800b54f\", \"department\": \"Production\", \"gender\": 2, \"id\": 770, \"job\": \"Producer\", \"name\": \"Jerry Bruckheimer\"}, {\"credit_id\": \"52fe4232c3a36847f800b503\", \"department\": \"Writing\", \"gender\": 2, \"id\": 1705, \"job\": \"Screenplay\", \"name\": \"Ted Elliott\"}, {\"credit_id\": \"52fe4232c3a36847f800b509\", \"department\": \"Writing\", \"gender\": 2, \"id\": 1706, \"job\": \"Screenplay\", \"name\": \"Terry Rossio\"}, {\"credit_id\": \"52fe4232c3a36847f800b57f\", \"department\": \"Editing\", \"gender\": 0, \"id\": 1721, \"job\": \"Editor\", \"name\": \"Stephen E. Rivkin\"}, {\"credit_id\": \"52fe4232c3a36847f800b585\", \"department\": \"Editing\", \"gender\": 2, \"id\": 1722, \"job\": \"Editor\", \"name\": \"Craig Wood\"}, {\"credit_id\": \"52fe4232c3a36847f800b573\", \"department\": \"Sound\", \"gender\": 2, \"id\": 947, \"job\": \"Original Music Composer\", \"name\": \"Hans Zimmer\"}, {\"credit_id\": \"52fe4232c3a36847f800b555\", \"department\": \"Production\", \"gender\": 2, \"id\": 2444, \"job\": \"Executive Producer\", \"name\": \"Mike Stenson\"}, {\"credit_id\": \"52fe4232c3a36847f800b561\", \"department\": \"Production\", \"gender\": 2, \"id\": 2445, \"job\": \"Producer\", \"name\": \"Eric McLeod\"}, {\"credit_id\": \"52fe4232c3a36847f800b55b\", \"department\": \"Production\", \"gender\": 2, \"id\": 2446, \"job\": \"Producer\", \"name\": \"Chad Oman\"}, {\"credit_id\": \"52fe4232c3a36847f800b567\", \"department\": \"Production\", \"gender\": 0, \"id\": 2447, \"job\": \"Producer\", \"name\": \"Peter Kohn\"}, {\"credit_id\": \"52fe4232c3a36847f800b56d\", \"department\": \"Production\", \"gender\": 0, \"id\": 2448, \"job\": \"Producer\", \"name\": \"Pat Sandston\"}, {\"credit_id\": \"52fe4232c3a36847f800b58b\", \"department\": \"Production\", \"gender\": 1, \"id\": 2215, \"job\": \"Casting\", \"name\": \"Denise Chamian\"}, {\"credit_id\": \"52fe4232c3a36847f800b597\", \"department\": \"Art\", \"gender\": 2, \"id\": 1226, \"job\": \"Production Design\", \"name\": \"Rick Heinrichs\"}, {\"credit_id\": \"52fe4232c3a36847f800b59d\", \"department\": \"Art\", \"gender\": 2, \"id\": 553, \"job\": \"Art Direction\", \"name\": \"John Dexter\"}, {\"credit_id\": \"52fe4232c3a36847f800b591\", \"department\": \"Production\", \"gender\": 1, \"id\": 3311, \"job\": \"Casting\", \"name\": \"Priscilla John\"}, {\"credit_id\": \"52fe4232c3a36847f800b5a3\", \"department\": \"Art\", \"gender\": 1, \"id\": 4032, \"job\": \"Set Decoration\", \"name\": \"Cheryl Carasik\"}, {\"credit_id\": \"52fe4232c3a36847f800b5a9\", \"department\": \"Costume & Make-Up\", \"gender\": 0, \"id\": 4033, \"job\": \"Costume Design\", \"name\": \"Liz Dann\"}, {\"credit_id\": \"52fe4232c3a36847f800b5af\", \"department\": \"Costume & Make-Up\", \"gender\": 1, \"id\": 4034, \"job\": \"Costume Design\", \"name\": \"Penny Rose\"}, {\"credit_id\": \"56427ce8c3a3686a53000d8b\", \"department\": \"Sound\", \"gender\": 2, \"id\": 5132, \"job\": \"Music Supervisor\", \"name\": \"Bob Badami\"}, {\"credit_id\": \"55993c15c3a36855db002f33\", \"department\": \"Art\", \"gender\": 2, \"id\": 146439, \"job\": \"Conceptual Design\", \"name\": \"James Ward Byrkit\"}, {\"credit_id\": \"52fe4232c3a36847f800b5b9\", \"department\": \"Costume & Make-Up\", \"gender\": 1, \"id\": 406204, \"job\": \"Makeup Department Head\", \"name\": \"Ve Neill\"}, {\"credit_id\": \"56e47f7892514132690017bd\", \"department\": \"Crew\", \"gender\": 2, \"id\": 1259516, \"job\": \"Stunts\", \"name\": \"John Dixon\"}, {\"credit_id\": \"5740be639251416597000849\", \"department\": \"Crew\", \"gender\": 0, \"id\": 1336716, \"job\": \"CGI Supervisor\", \"name\": \"Dottie Starling\"}, {\"credit_id\": \"56427c639251412fc8000dc1\", \"department\": \"Directing\", \"gender\": 1, \"id\": 1344278, \"job\": \"Script Supervisor\", \"name\": \"Pamela Alch\"}, {\"credit_id\": \"57083101c3a3681d320004e6\", \"department\": \"Crew\", \"gender\": 0, \"id\": 1368867, \"job\": \"Special Effects Coordinator\", \"name\": \"Allen Hall\"}, {\"credit_id\": \"56427d5ec3a3686a62000d4a\", \"department\": \"Sound\", \"gender\": 0, \"id\": 1368884, \"job\": \"Music Editor\", \"name\": \"Melissa Muik\"}, {\"credit_id\": \"56427c7b9251412fd4000e07\", \"department\": \"Directing\", \"gender\": 1, \"id\": 1395290, \"job\": \"Script Supervisor\", \"name\": \"Sharron Reynolds\"}, {\"credit_id\": \"56427d2bc3a3686a53000d9b\", \"department\": \"Sound\", \"gender\": 0, \"id\": 1399327, \"job\": \"Music Editor\", \"name\": \"Barbara McDermott\"}, {\"credit_id\": \"56427cb4c3a3686a53000d87\", \"department\": \"Directing\", \"gender\": 1, \"id\": 1400738, \"job\": \"Script Supervisor\", \"name\": \"Karen Golden\"}, {\"credit_id\": \"56427d169251412fd4000e23\", \"department\": \"Sound\", \"gender\": 0, \"id\": 1534197, \"job\": \"Music Editor\", \"name\": \"Katie Greathouse\"}]',\n",
       "       '[{\"credit_id\": \"54805967c3a36829b5002c41\", \"department\": \"Sound\", \"gender\": 2, \"id\": 153, \"job\": \"Original Music Composer\", \"name\": \"Thomas Newman\"}, {\"credit_id\": \"52fe4d22c3a368484e1d8d77\", \"department\": \"Directing\", \"gender\": 2, \"id\": 39, \"job\": \"Director\", \"name\": \"Sam Mendes\"}, {\"credit_id\": \"5677cd99925141691a005333\", \"department\": \"Art\", \"gender\": 1, \"id\": 8384, \"job\": \"Set Decoration\", \"name\": \"Anna Pinnock\"}, {\"credit_id\": \"52fe4d22c3a368484e1d8d8d\", \"department\": \"Writing\", \"gender\": 2, \"id\": 932, \"job\": \"Screenplay\", \"name\": \"John Logan\"}, {\"credit_id\": \"562fc9bb92514129fe0006b4\", \"department\": \"Writing\", \"gender\": 2, \"id\": 932, \"job\": \"Story\", \"name\": \"John Logan\"}, {\"credit_id\": \"5654d41c92514145c3000373\", \"department\": \"Art\", \"gender\": 2, \"id\": 4248, \"job\": \"Production Design\", \"name\": \"Dennis Gassner\"}, {\"credit_id\": \"52fe4d22c3a368484e1d8d71\", \"department\": \"Writing\", \"gender\": 2, \"id\": 9856, \"job\": \"Characters\", \"name\": \"Ian Fleming\"}, {\"credit_id\": \"54805989c3a36829ae0022d8\", \"department\": \"Editing\", \"gender\": 0, \"id\": 3904, \"job\": \"Editor\", \"name\": \"Lee Smith\"}, {\"credit_id\": \"5677df82c3a3681683008748\", \"department\": \"Sound\", \"gender\": 2, \"id\": 7538, \"job\": \"Music Editor\", \"name\": \"Bill Bernstein\"}, {\"credit_id\": \"5720e370c3a368117e00045b\", \"department\": \"Production\", \"gender\": 2, \"id\": 8784, \"job\": \"Co-Producer\", \"name\": \"Daniel Craig\"}, {\"credit_id\": \"5522fdd09251416d4a0024b6\", \"department\": \"Costume & Make-Up\", \"gender\": 1, \"id\": 11227, \"job\": \"Costume Design\", \"name\": \"Jany Temime\"}, {\"credit_id\": \"5677cc9ac3a368167c0089b5\", \"department\": \"Production\", \"gender\": 1, \"id\": 10496, \"job\": \"Casting\", \"name\": \"Debbie McWilliams\"}, {\"credit_id\": \"52fe4d22c3a368484e1d8d7d\", \"department\": \"Production\", \"gender\": 1, \"id\": 10666, \"job\": \"Producer\", \"name\": \"Barbara Broccoli\"}, {\"credit_id\": \"5720e3afc3a368117e00046a\", \"department\": \"Production\", \"gender\": 0, \"id\": 11268, \"job\": \"Line Producer\", \"name\": \"Roberto Malerba\"}, {\"credit_id\": \"5677df58c3a368167c008c82\", \"department\": \"Sound\", \"gender\": 0, \"id\": 40827, \"job\": \"Music Editor\", \"name\": \"Peter Clarke\"}, {\"credit_id\": \"5677dd1ec3a36816890085d3\", \"department\": \"Sound\", \"gender\": 0, \"id\": 14764, \"job\": \"Sound Designer\", \"name\": \"Christopher Assells\"}, {\"credit_id\": \"566046b9c3a36875f400323a\", \"department\": \"Sound\", \"gender\": 0, \"id\": 14765, \"job\": \"Supervising Sound Editor\", \"name\": \"Per Hallberg\"}, {\"credit_id\": \"5677ccab925141691a00530f\", \"department\": \"Production\", \"gender\": 0, \"id\": 36108, \"job\": \"Casting\", \"name\": \"Nicole Schmied\"}, {\"credit_id\": \"5677cfe4c3a36816850087d2\", \"department\": \"Production\", \"gender\": 0, \"id\": 36108, \"job\": \"Casting Associate\", \"name\": \"Nicole Schmied\"}, {\"credit_id\": \"562fc984c3a3681b5400e16f\", \"department\": \"Writing\", \"gender\": 2, \"id\": 10783, \"job\": \"Screenplay\", \"name\": \"Robert Wade\"}, {\"credit_id\": \"562fc9cec3a3681b4b00d168\", \"department\": \"Writing\", \"gender\": 2, \"id\": 10783, \"job\": \"Story\", \"name\": \"Robert Wade\"}, {\"credit_id\": \"562fc976c3a3681b5c00dd64\", \"department\": \"Writing\", \"gender\": 0, \"id\": 10782, \"job\": \"Screenplay\", \"name\": \"Neal Purvis\"}, {\"credit_id\": \"562fc9d79251414ad800c103\", \"department\": \"Writing\", \"gender\": 0, \"id\": 10782, \"job\": \"Story\", \"name\": \"Neal Purvis\"}, {\"credit_id\": \"5720e61d9251414235000477\", \"department\": \"Production\", \"gender\": 2, \"id\": 10876, \"job\": \"Executive Producer\", \"name\": \"Callum McDougall\"}, {\"credit_id\": \"562fc9a89251414ad800c0fe\", \"department\": \"Writing\", \"gender\": 2, \"id\": 21339, \"job\": \"Screenplay\", \"name\": \"Jez Butterworth\"}, {\"credit_id\": \"570bd7f2c3a36802a9000412\", \"department\": \"Art\", \"gender\": 0, \"id\": 23425, \"job\": \"Supervising Art Director\", \"name\": \"Chris Lowe\"}, {\"credit_id\": \"5677e45ac3a368168b0084fd\", \"department\": \"Art\", \"gender\": 0, \"id\": 23491, \"job\": \"Assistant Art Director\", \"name\": \"Roxana Alexandru \"}, {\"credit_id\": \"5677e29c925141691a00561c\", \"department\": \"Crew\", \"gender\": 0, \"id\": 23774, \"job\": \"Makeup Effects\", \"name\": \"Jo Grover\"}, {\"credit_id\": \"5677cf8492514179d20088ae\", \"department\": \"Production\", \"gender\": 2, \"id\": 10907, \"job\": \"Casting\", \"name\": \"St\\\\u00e9phane Foenkinos\"}, {\"credit_id\": \"5677d7b192514179d20089c6\", \"department\": \"Camera\", \"gender\": 2, \"id\": 61851, \"job\": \"Camera Operator\", \"name\": \"Lorenzo Senatore\"}, {\"credit_id\": \"5720e6f7925141423000046b\", \"department\": \"Production\", \"gender\": 0, \"id\": 64000, \"job\": \"Line Producer\", \"name\": \"Wolfgang Ramml\"}, {\"credit_id\": \"5677dfabc3a368168000899f\", \"department\": \"Sound\", \"gender\": 2, \"id\": 66941, \"job\": \"Orchestrator\", \"name\": \"J.A.C. Redford\"}, {\"credit_id\": \"5720e72e92514142320007fc\", \"department\": \"Production\", \"gender\": 0, \"id\": 81517, \"job\": \"Associate Producer\", \"name\": \"Gregg Wilson\"}, {\"credit_id\": \"52fe4d22c3a368484e1d8d83\", \"department\": \"Production\", \"gender\": 2, \"id\": 69678, \"job\": \"Producer\", \"name\": \"Michael G. Wilson\"}, {\"credit_id\": \"5720e325c3a368118100043e\", \"department\": \"Production\", \"gender\": 0, \"id\": 77511, \"job\": \"Line Producer\", \"name\": \"Zakaria Alaoui\"}, {\"credit_id\": \"548059799251416e7e00265c\", \"department\": \"Camera\", \"gender\": 0, \"id\": 74401, \"job\": \"Director of Photography\", \"name\": \"Hoyte van Hoytema\"}, {\"credit_id\": \"5677cef792514179db00904d\", \"department\": \"Crew\", \"gender\": 0, \"id\": 239885, \"job\": \"Special Effects Coordinator\", \"name\": \"Franco Ragusa\"}, {\"credit_id\": \"5677d7e992514179e7008654\", \"department\": \"Camera\", \"gender\": 0, \"id\": 937946, \"job\": \"Camera Operator\", \"name\": \"Peter Field\"}, {\"credit_id\": \"5677cd21c3a3681680008700\", \"department\": \"Art\", \"gender\": 2, \"id\": 979698, \"job\": \"Art Direction\", \"name\": \"Neal Callow\"}, {\"credit_id\": \"5677cd5a92514179e30086fb\", \"department\": \"Art\", \"gender\": 2, \"id\": 986687, \"job\": \"Art Direction\", \"name\": \"Mark Harris\"}, {\"credit_id\": \"5678090392514179e1009958\", \"department\": \"Crew\", \"gender\": 0, \"id\": 1024842, \"job\": \"Visual Effects Editor\", \"name\": \"Billy A. Campbell\"}, {\"credit_id\": \"5720e6749251414240000470\", \"department\": \"Production\", \"gender\": 0, \"id\": 1026247, \"job\": \"Co-Producer\", \"name\": \"Stacy Perskie\"}, {\"credit_id\": \"56780a2292514179dd008d18\", \"department\": \"Visual Effects\", \"gender\": 0, \"id\": 1029804, \"job\": \"Visual Effects Producer\", \"name\": \"Laura Schultz\"}, {\"credit_id\": \"5677e174925141691a0055f1\", \"department\": \"Costume & Make-Up\", \"gender\": 0, \"id\": 1087452, \"job\": \"Key Hair Stylist\", \"name\": \"Mari Paz Robles\"}, {\"credit_id\": \"5677e0cf9251417845001631\", \"department\": \"Costume & Make-Up\", \"gender\": 0, \"id\": 1099281, \"job\": \"Hairstylist\", \"name\": \"Gerardo Perez Arreola\"}, {\"credit_id\": \"5677d73b92514179dd008471\", \"department\": \"Camera\", \"gender\": 0, \"id\": 1118711, \"job\": \"Camera Operator\", \"name\": \"Kenji Katori\"}, {\"credit_id\": \"5677cd3a92514179d2008852\", \"department\": \"Art\", \"gender\": 0, \"id\": 1296445, \"job\": \"Art Direction\", \"name\": \"Ben Collins\"}, {\"credit_id\": \"5677cfc3c3a3681680008755\", \"department\": \"Production\", \"gender\": 0, \"id\": 1305251, \"job\": \"Casting Associate\", \"name\": \"Tusse Lande\"}, {\"credit_id\": \"5677e24f92514179e70087da\", \"department\": \"Costume & Make-Up\", \"gender\": 0, \"id\": 1315700, \"job\": \"Makeup Artist\", \"name\": \"Donald Mowat\"}, {\"credit_id\": \"5677d622c3a368167c008b25\", \"department\": \"Costume & Make-Up\", \"gender\": 0, \"id\": 1319160, \"job\": \"Costume Supervisor\", \"name\": \"Ken Crouch\"}, {\"credit_id\": \"5677cd0ec3a368168e008f75\", \"department\": \"Art\", \"gender\": 0, \"id\": 1335539, \"job\": \"Art Direction\", \"name\": \"Andrew Bennett\"}, {\"credit_id\": \"56780833925141691a005c2f\", \"department\": \"Visual Effects\", \"gender\": 0, \"id\": 1338241, \"job\": \"Visual Effects Coordinator\", \"name\": \"Sean McGrath\"}, {\"credit_id\": \"5677dcc7c3a36816830086cc\", \"department\": \"Sound\", \"gender\": 0, \"id\": 1338372, \"job\": \"Foley\", \"name\": \"Dan O\\'Connell\"}, {\"credit_id\": \"56780ac692514179dd008d31\", \"department\": \"Visual Effects\", \"gender\": 0, \"id\": 1341741, \"job\": \"Visual Effects Supervisor\", \"name\": \"Mark Curtis\"}, {\"credit_id\": \"5677dd9fc3a368168b0083f0\", \"department\": \"Sound\", \"gender\": 2, \"id\": 1341858, \"job\": \"Sound Re-Recording Mixer\", \"name\": \"Gregg Rudloff\"}, {\"credit_id\": \"566047029251412204002337\", \"department\": \"Directing\", \"gender\": 0, \"id\": 1342669, \"job\": \"Script Supervisor\", \"name\": \"Jayne-Ann Tenggren\"}, {\"credit_id\": \"5720e713925141423000046d\", \"department\": \"Production\", \"gender\": 0, \"id\": 1342669, \"job\": \"Associate Producer\", \"name\": \"Jayne-Ann Tenggren\"}, {\"credit_id\": \"5677dd8792514179db009235\", \"department\": \"Sound\", \"gender\": 0, \"id\": 1345595, \"job\": \"Sound Re-Recording Mixer\", \"name\": \"Scott Millan\"}, {\"credit_id\": \"5677def192514179e700875b\", \"department\": \"Directing\", \"gender\": 0, \"id\": 1358025, \"job\": \"Script Supervisor\", \"name\": \"Nicoletta Mani\"}, {\"credit_id\": \"5677dcb0925141691a00552a\", \"department\": \"Sound\", \"gender\": 0, \"id\": 1367493, \"job\": \"Foley\", \"name\": \"John T. Cucci\"}, {\"credit_id\": \"5677d7ff92514179e300884b\", \"department\": \"Camera\", \"gender\": 0, \"id\": 1377503, \"job\": \"Camera Operator\", \"name\": \"Sebastian Meuschel\"}, {\"credit_id\": \"5677d94192514179d20089ff\", \"department\": \"Camera\", \"gender\": 2, \"id\": 1388897, \"job\": \"Steadicam Operator\", \"name\": \"Julian Morson\"}, {\"credit_id\": \"5677dce5c3a36816830086d3\", \"department\": \"Sound\", \"gender\": 0, \"id\": 1389614, \"job\": \"Foley\", \"name\": \"Peter Michael Sullivan\"}, {\"credit_id\": \"56780a5a92514179e300908d\", \"department\": \"Visual Effects\", \"gender\": 0, \"id\": 1391691, \"job\": \"Visual Effects Producer\", \"name\": \"Ken Dailey\"}, {\"credit_id\": \"5677dd38c3a368167c008c21\", \"department\": \"Sound\", \"gender\": 0, \"id\": 1392083, \"job\": \"Sound Designer\", \"name\": \"Ann Scibelli\"}, {\"credit_id\": \"5677d7cd92514179db009178\", \"department\": \"Camera\", \"gender\": 0, \"id\": 1392246, \"job\": \"Camera Operator\", \"name\": \"Clive Jackson\"}, {\"credit_id\": \"5677de6192514179dd008566\", \"department\": \"Directing\", \"gender\": 0, \"id\": 1392661, \"job\": \"Script Supervisor\", \"name\": \"Susie Jones\"}, {\"credit_id\": \"5677d98fc3a3681685008904\", \"department\": \"Camera\", \"gender\": 2, \"id\": 1392718, \"job\": \"Still Photographer\", \"name\": \"Jasin Boland\"}, {\"credit_id\": \"5677cdd8c3a368168b0081e1\", \"department\": \"Art\", \"gender\": 0, \"id\": 1394117, \"job\": \"Art Department Coordinator\", \"name\": \"Jennifer Lewicki\"}, {\"credit_id\": \"5677e58cc3a3681685008adb\", \"department\": \"Art\", \"gender\": 0, \"id\": 1398089, \"job\": \"Greensman\", \"name\": \"Ian Whiteford\"}, {\"credit_id\": \"56780a7592514179db0099c4\", \"department\": \"Visual Effects\", \"gender\": 0, \"id\": 1398100, \"job\": \"Visual Effects Producer\", \"name\": \"Kilou Picard\"}, {\"credit_id\": \"5677d8ba92514179d20089f0\", \"department\": \"Camera\", \"gender\": 0, \"id\": 1399071, \"job\": \"Helicopter Camera\", \"name\": \"Hans Bjerno\"}, {\"credit_id\": \"5677dd02c3a368167a0091a2\", \"department\": \"Editing\", \"gender\": 2, \"id\": 1399862, \"job\": \"Dialogue Editor\", \"name\": \"Daniel Saxlid\"}, {\"credit_id\": \"5677e2e1c3a368167c008d1a\", \"department\": \"Costume & Make-Up\", \"gender\": 0, \"id\": 1401126, \"job\": \"Wigmaker\", \"name\": \"Alex Rouse\"}, {\"credit_id\": \"5678096bc3a368167c0093d2\", \"department\": \"Crew\", \"gender\": 0, \"id\": 1401147, \"job\": \"Visual Effects Editor\", \"name\": \"Anik Seguin\"}, {\"credit_id\": \"5677dc90c3a368167a009190\", \"department\": \"Sound\", \"gender\": 0, \"id\": 1401631, \"job\": \"ADR & Dubbing\", \"name\": \"Michelle Pazer\"}, {\"credit_id\": \"5677d75ac3a368167a0090e9\", \"department\": \"Camera\", \"gender\": 2, \"id\": 1403411, \"job\": \"Camera Operator\", \"name\": \"Lucas Bielan\"}, {\"credit_id\": \"566046d7c3a36875e900359d\", \"department\": \"Sound\", \"gender\": 0, \"id\": 1404212, \"job\": \"Supervising Sound Editor\", \"name\": \"Karen Baker Landers\"}, {\"credit_id\": \"5677dd519251417845001588\", \"department\": \"Sound\", \"gender\": 0, \"id\": 1404217, \"job\": \"Sound Designer\", \"name\": \"Peter Staubli\"}, {\"credit_id\": \"5677d8d192514179e1009100\", \"department\": \"Camera\", \"gender\": 0, \"id\": 1404244, \"job\": \"Helicopter Camera\", \"name\": \"John Marzano\"}, {\"credit_id\": \"5677d927c3a36816850088f2\", \"department\": \"Camera\", \"gender\": 0, \"id\": 1405241, \"job\": \"Helicopter Camera\", \"name\": \"Adam Dale\"}, {\"credit_id\": \"5677dff292514179e100921a\", \"department\": \"Editing\", \"gender\": 0, \"id\": 1408363, \"job\": \"First Assistant Editor\", \"name\": \"Emma McCleave\"}, {\"credit_id\": \"5677e191925141784500164f\", \"department\": \"Costume & Make-Up\", \"gender\": 0, \"id\": 1409821, \"job\": \"Makeup Designer\", \"name\": \"Naomi Donne\"}, {\"credit_id\": \"5677e2b5c3a368168e0092aa\", \"department\": \"Crew\", \"gender\": 0, \"id\": 1411323, \"job\": \"Makeup Effects\", \"name\": \"Susan Howard\"}, {\"credit_id\": \"5677d869c3a36816850088e3\", \"department\": \"Lighting\", \"gender\": 0, \"id\": 1414096, \"job\": \"Gaffer\", \"name\": \"David Smith\"}, {\"credit_id\": \"56780712c3a368168b008ace\", \"department\": \"Crew\", \"gender\": 0, \"id\": 1415157, \"job\": \"CG Supervisor\", \"name\": \"Joel Green\"}, {\"credit_id\": \"567806ba92514179e10098ee\", \"department\": \"Crew\", \"gender\": 0, \"id\": 1425484, \"job\": \"CG Supervisor\", \"name\": \"Laurent Hugueniot\"}, {\"credit_id\": \"56780a92c3a36816850090af\", \"department\": \"Visual Effects\", \"gender\": 0, \"id\": 1425488, \"job\": \"Visual Effects Producer\", \"name\": \"Tim Keene\"}, {\"credit_id\": \"5677e087c3a368167a00922b\", \"department\": \"Costume & Make-Up\", \"gender\": 0, \"id\": 1425971, \"job\": \"Hair Designer\", \"name\": \"Zoe Tahir\"}, {\"credit_id\": \"567808eb92514179e300904a\", \"department\": \"Crew\", \"gender\": 0, \"id\": 1428902, \"job\": \"Visual Effects Editor\", \"name\": \"Conor Byrne\"}, {\"credit_id\": \"5677e22d925141691a00560d\", \"department\": \"Costume & Make-Up\", \"gender\": 0, \"id\": 1439128, \"job\": \"Makeup Artist\", \"name\": \"Charlotte Hayward\"}, {\"credit_id\": \"5677cf3fc3a36816850087c1\", \"department\": \"Visual Effects\", \"gender\": 0, \"id\": 1442137, \"job\": \"Animation Supervisor\", \"name\": \"Catherine Mullan\"}, {\"credit_id\": \"56780988c3a3681683008e99\", \"department\": \"Crew\", \"gender\": 0, \"id\": 1447617, \"job\": \"Visual Effects Editor\", \"name\": \"Crystal Hadcroft\"}, {\"credit_id\": \"5677e0ec925141691a0055d6\", \"department\": \"Costume & Make-Up\", \"gender\": 0, \"id\": 1458416, \"job\": \"Hairstylist\", \"name\": \"Francesca Crowder\"}, {\"credit_id\": \"5677cf2892514179dd008356\", \"department\": \"Visual Effects\", \"gender\": 0, \"id\": 1459878, \"job\": \"Animation Director\", \"name\": \"Marlene Chazot\"}, {\"credit_id\": \"5678091d92514179db009985\", \"department\": \"Crew\", \"gender\": 0, \"id\": 1459899, \"job\": \"Visual Effects Editor\", \"name\": \"Struan Farquhar\"}, {\"credit_id\": \"56780731c3a3681680009013\", \"department\": \"Crew\", \"gender\": 0, \"id\": 1459925, \"job\": \"CG Supervisor\", \"name\": \"Daniel Pastore\"}, {\"credit_id\": \"5677d969c3a368168b00834a\", \"department\": \"Camera\", \"gender\": 0, \"id\": 1470167, \"job\": \"Still Photographer\", \"name\": \"Jonathan Olley\"}, {\"credit_id\": \"5677e48dc3a368167a0092c8\", \"department\": \"Art\", \"gender\": 0, \"id\": 1472773, \"job\": \"Assistant Art Director\", \"name\": \"Sami Gaidi\"}, {\"credit_id\": \"5751eed59251416b60000637\", \"department\": \"Production\", \"gender\": 2, \"id\": 1477203, \"job\": \"Co-Producer\", \"name\": \"Luca Marco Paracels\"}, {\"credit_id\": \"5677e157c3a36816800089ee\", \"department\": \"Costume & Make-Up\", \"gender\": 0, \"id\": 1480629, \"job\": \"Key Hair Stylist\", \"name\": \"Luca Vannella\"}, {\"credit_id\": \"56780b0e925141691a005c8f\", \"department\": \"Visual Effects\", \"gender\": 0, \"id\": 1483141, \"job\": \"Visual Effects Supervisor\", \"name\": \"Stuart Bullen\"}, {\"credit_id\": \"582f29fa925141022e003a74\", \"department\": \"Sound\", \"gender\": 0, \"id\": 1494824, \"job\": \"Sound Effects Editor\", \"name\": \"Russell Edwards\"}, {\"credit_id\": \"5677d63dc3a368167a0090b4\", \"department\": \"Costume & Make-Up\", \"gender\": 0, \"id\": 1510431, \"job\": \"Costume Supervisor\", \"name\": \"Stefano De Nardis\"}, {\"credit_id\": \"5677d79992514179d20089c2\", \"department\": \"Camera\", \"gender\": 0, \"id\": 1512767, \"job\": \"Camera Operator\", \"name\": \"Luis David Sansans\"}, {\"credit_id\": \"5677d609c3a368168000881a\", \"department\": \"Costume & Make-Up\", \"gender\": 0, \"id\": 1545912, \"job\": \"Costume Supervisor\", \"name\": \"Abderrahim Benkhayi\"}, {\"credit_id\": \"5677d66cc3a368167a0090be\", \"department\": \"Costume & Make-Up\", \"gender\": 0, \"id\": 1545913, \"job\": \"Set Costumer\", \"name\": \"Rachid Aadassi\"}, {\"credit_id\": \"5677da26c3a368167a009139\", \"department\": \"Camera\", \"gender\": 0, \"id\": 1545995, \"job\": \"Additional Camera\", \"name\": \"Carlos De Carvalho\"}, {\"credit_id\": \"5677d5bec3a368167c008b13\", \"department\": \"Costume & Make-Up\", \"gender\": 0, \"id\": 1546747, \"job\": \"Assistant Costume Designer\", \"name\": \"Vivienne Jones\"}, {\"credit_id\": \"5677dfcac3a368168300875b\", \"department\": \"Editing\", \"gender\": 0, \"id\": 1548406, \"job\": \"Digital Intermediate\", \"name\": \"Kim Honeyman\"}, {\"credit_id\": \"5677e105c3a368168b00846d\", \"department\": \"Costume & Make-Up\", \"gender\": 0, \"id\": 1550637, \"job\": \"Hairstylist\", \"name\": \"Kathryn Fa\"}, {\"credit_id\": \"5677ce0c9251417845001384\", \"department\": \"Crew\", \"gender\": 0, \"id\": 1551770, \"job\": \"Carpenter\", \"name\": \"Paul Duff\"}, {\"credit_id\": \"5677ce5192514179e300871b\", \"department\": \"Crew\", \"gender\": 0, \"id\": 1551771, \"job\": \"Property Master\", \"name\": \"Ben Wilkinson\"}, {\"credit_id\": \"5677cec292514179dd00834d\", \"department\": \"Crew\", \"gender\": 0, \"id\": 1551772, \"job\": \"Special Effects Coordinator\", \"name\": \"Lynne Corbould\"}, {\"credit_id\": \"5677cf57c3a368168e008fcc\", \"department\": \"Production\", \"gender\": 0, \"id\": 1551773, \"job\": \"Casting\", \"name\": \"Amal El-Farfachi\"}, {\"credit_id\": \"5677cf99c3a368168b00821d\", \"department\": \"Production\", \"gender\": 0, \"id\": 1551774, \"job\": \"Casting Associate\", \"name\": \"Celebrity Booker\"}, {\"credit_id\": \"5677cfadc3a368167c008a30\", \"department\": \"Production\", \"gender\": 0, \"id\": 1551775, \"job\": \"Casting Associate\", \"name\": \"Lucy Hellier\"}, {\"credit_id\": \"5677d5a392514179db00911d\", \"department\": \"Costume & Make-Up\", \"gender\": 0, \"id\": 1551777, \"job\": \"Assistant Costume Designer\", \"name\": \"Richard Davies\"}, {\"credit_id\": \"5677dd6bc3a368168b0083e2\", \"department\": \"Sound\", \"gender\": 0, \"id\": 1551789, \"job\": \"Sound Effects Editor\", \"name\": \"Ando Johnson\"}, {\"credit_id\": \"5677de2dc3a3681683008713\", \"department\": \"Crew\", \"gender\": 0, \"id\": 1551791, \"job\": \"Armorer\", \"name\": \"Greg Corke\"}, {\"credit_id\": \"5677de8a92514179e10091d9\", \"department\": \"Production\", \"gender\": 0, \"id\": 1551796, \"job\": \"Researcher\", \"name\": \"Amin Rharda\"}, {\"credit_id\": \"5677dea9c3a368168e00921c\", \"department\": \"Crew\", \"gender\": 0, \"id\": 1551797, \"job\": \"Armorer\", \"name\": \"Joss Skottowe\"}, {\"credit_id\": \"5677e11c92514179dd0085e3\", \"department\": \"Costume & Make-Up\", \"gender\": 0, \"id\": 1551798, \"job\": \"Hairstylist\", \"name\": \"Joseph Koniak\"}, {\"credit_id\": \"5677e1b19251417845001657\", \"department\": \"Costume & Make-Up\", \"gender\": 0, \"id\": 1551800, \"job\": \"Makeup Artist\", \"name\": \"Thal\\\\u00eda Echeveste\"}, {\"credit_id\": \"5677e1c7c3a368167c008cd8\", \"department\": \"Costume & Make-Up\", \"gender\": 0, \"id\": 1551801, \"job\": \"Makeup Artist\", \"name\": \"Charlie Hounslow\"}, {\"credit_id\": \"5677e1e592514179d2008b7b\", \"department\": \"Costume & Make-Up\", \"gender\": 0, \"id\": 1551802, \"job\": \"Makeup Artist\", \"name\": \"Lucy Friend\"}, {\"credit_id\": \"5677e1fa92514179e1009265\", \"department\": \"Costume & Make-Up\", \"gender\": 0, \"id\": 1551803, \"job\": \"Makeup Artist\", \"name\": \"Yelska Labrada\"}, {\"credit_id\": \"5677e20fc3a36816830087d9\", \"department\": \"Costume & Make-Up\", \"gender\": 0, \"id\": 1551804, \"job\": \"Makeup Artist\", \"name\": \"Ana Gabriela Quinonez\"}, {\"credit_id\": \"5677e32d9251417845001683\", \"department\": \"Production\", \"gender\": 0, \"id\": 1551807, \"job\": \"Researcher\", \"name\": \"Gina De Ferrer\"}, {\"credit_id\": \"5677e47592514179e10092dd\", \"department\": \"Art\", \"gender\": 0, \"id\": 1551809, \"job\": \"Assistant Art Director\", \"name\": \"Lydia Fry\"}, {\"credit_id\": \"5677e4a492514179db009373\", \"department\": \"Art\", \"gender\": 0, \"id\": 1551810, \"job\": \"Assistant Art Director\", \"name\": \"Liam Georgensen\"}, {\"credit_id\": \"5677e4bb92514179dd00868a\", \"department\": \"Art\", \"gender\": 0, \"id\": 1551811, \"job\": \"Assistant Art Director\", \"name\": \"Hugh McClelland\"}, {\"credit_id\": \"5677e53092514179db00938e\", \"department\": \"Crew\", \"gender\": 0, \"id\": 1551812, \"job\": \"Carpenter\", \"name\": \"John Allen\"}, {\"credit_id\": \"5677e547c3a368167a0092ef\", \"department\": \"Crew\", \"gender\": 0, \"id\": 1551813, \"job\": \"Carpenter\", \"name\": \"Eddie Murphy\"}, {\"credit_id\": \"567806e092514179dd008c84\", \"department\": \"Crew\", \"gender\": 0, \"id\": 1551872, \"job\": \"CG Supervisor\", \"name\": \"Carlos-Christian Nickel\"}, {\"credit_id\": \"567806f7c3a368167a0098d7\", \"department\": \"Crew\", \"gender\": 0, \"id\": 1551874, \"job\": \"CG Supervisor\", \"name\": \"Chris Petts\"}, {\"credit_id\": \"567807b7c3a368167a0098f0\", \"department\": \"Visual Effects\", \"gender\": 0, \"id\": 1551892, \"job\": \"Visual Effects Coordinator\", \"name\": \"Hugh Brompton\"}, {\"credit_id\": \"567807d1c3a3681680009022\", \"department\": \"Visual Effects\", \"gender\": 0, \"id\": 1551893, \"job\": \"Visual Effects Coordinator\", \"name\": \"Jillian Brooks\"}, {\"credit_id\": \"567807eb92514179db00995e\", \"department\": \"Visual Effects\", \"gender\": 0, \"id\": 1551894, \"job\": \"Visual Effects Coordinator\", \"name\": \"Geraint Hixson\"}, {\"credit_id\": \"5678084f92514179d2009226\", \"department\": \"Visual Effects\", \"gender\": 0, \"id\": 1551896, \"job\": \"Visual Effects Coordinator\", \"name\": \"Shawn Smolensky\"}, {\"credit_id\": \"5678086992514179db00996d\", \"department\": \"Visual Effects\", \"gender\": 0, \"id\": 1551897, \"job\": \"Visual Effects Coordinator\", \"name\": \"Todd Whalen\"}, {\"credit_id\": \"56780884c3a3681689008d28\", \"department\": \"Visual Effects\", \"gender\": 0, \"id\": 1551898, \"job\": \"Visual Effects Coordinator\", \"name\": \"Alysia Wildman\"}, {\"credit_id\": \"567808a0c3a368167c0093a1\", \"department\": \"Visual Effects\", \"gender\": 0, \"id\": 1551899, \"job\": \"Visual Effects Coordinator\", \"name\": \"Sam Girdler\"}, {\"credit_id\": \"567808cdc3a3681685009073\", \"department\": \"Visual Effects\", \"gender\": 0, \"id\": 1551902, \"job\": \"Visual Effects Coordinator\", \"name\": \"Samantha Dark\"}, {\"credit_id\": \"567809519251417845001d1a\", \"department\": \"Crew\", \"gender\": 0, \"id\": 1551904, \"job\": \"Visual Effects Editor\", \"name\": \"Ty Gibson\"}, {\"credit_id\": \"567809bfc3a368167c0093e7\", \"department\": \"Crew\", \"gender\": 0, \"id\": 1551906, \"job\": \"Visual Effects Editor\", \"name\": \"James Mann\"}, {\"credit_id\": \"567809e392514179dd008d0c\", \"department\": \"Visual Effects\", \"gender\": 0, \"id\": 1551907, \"job\": \"Visual Effects Producer\", \"name\": \"Leslie Lerman\"}, {\"credit_id\": \"56780aef92514179d2009276\", \"department\": \"Visual Effects\", \"gender\": 0, \"id\": 1551908, \"job\": \"Visual Effects Supervisor\", \"name\": \"Steven Begg\"}, {\"credit_id\": \"56780b249251417845001d4a\", \"department\": \"Visual Effects\", \"gender\": 0, \"id\": 1551909, \"job\": \"Visual Effects Supervisor\", \"name\": \"Zave Jackson\"}, {\"credit_id\": \"56780b4e9251417845001d57\", \"department\": \"Visual Effects\", \"gender\": 2, \"id\": 1551910, \"job\": \"Visual Effects Supervisor\", \"name\": \"Jonathan Knight\"}, {\"credit_id\": \"56780bb692514179d2009291\", \"department\": \"Visual Effects\", \"gender\": 0, \"id\": 1551911, \"job\": \"Visual Effects Supervisor\", \"name\": \"Alex Wuttke\"}, {\"credit_id\": \"56780c5a92514179e7008f22\", \"department\": \"Visual Effects\", \"gender\": 0, \"id\": 1551913, \"job\": \"Visual Effects Supervisor\", \"name\": \"Mark Bakowski\"}, {\"credit_id\": \"56780c8292514179e30090d1\", \"department\": \"Visual Effects\", \"gender\": 0, \"id\": 1551914, \"job\": \"Visual Effects Supervisor\", \"name\": \"Paul Round\"}, {\"credit_id\": \"56cd782ac3a368275b001cae\", \"department\": \"Lighting\", \"gender\": 0, \"id\": 1553236, \"job\": \"Gaffer\", \"name\": \"Stefano Marino\"}, {\"credit_id\": \"56cd7899c3a3682759001bfd\", \"department\": \"Lighting\", \"gender\": 0, \"id\": 1582109, \"job\": \"Gaffer\", \"name\": \"Hanz Kawson\"}]',\n",
       "       ...,\n",
       "       '[{\"credit_id\": \"52fe4df3c3a36847f8275ecf\", \"department\": \"Costume & Make-Up\", \"gender\": 0, \"id\": 23816, \"job\": \"Costume Design\", \"name\": \"Carla Hetland\"}, {\"credit_id\": \"583328efc3a368675d0016e4\", \"department\": \"Production\", \"gender\": 2, \"id\": 32733, \"job\": \"Producer\", \"name\": \"Harvey Kahn\"}, {\"credit_id\": \"52fe4df3c3a36847f8275eb7\", \"department\": \"Camera\", \"gender\": 2, \"id\": 43925, \"job\": \"Director of Photography\", \"name\": \"Adam Sliwinski\"}, {\"credit_id\": \"52fe4df3c3a36847f8275eb1\", \"department\": \"Writing\", \"gender\": 1, \"id\": 166873, \"job\": \"Writer\", \"name\": \"Martha Williamson\"}, {\"credit_id\": \"58332c6ac3a3686753001dcf\", \"department\": \"Production\", \"gender\": 1, \"id\": 166873, \"job\": \"Executive Producer\", \"name\": \"Martha Williamson\"}, {\"credit_id\": \"554ea9ddc3a36879530001d9\", \"department\": \"Production\", \"gender\": 2, \"id\": 174065, \"job\": \"Executive Producer\", \"name\": \"Joel S. Rice\"}, {\"credit_id\": \"5833288e92514103450018f0\", \"department\": \"Production\", \"gender\": 1, \"id\": 435006, \"job\": \"Casting\", \"name\": \"Jackie Lind\"}, {\"credit_id\": \"5833289ac3a36867500019b1\", \"department\": \"Production\", \"gender\": 0, \"id\": 551521, \"job\": \"Casting\", \"name\": \"Shana Landsburg\"}, {\"credit_id\": \"52fe4df3c3a36847f8275ec9\", \"department\": \"Art\", \"gender\": 1, \"id\": 1012891, \"job\": \"Production Design\", \"name\": \"Renee Read\"}, {\"credit_id\": \"52fe4df3c3a36847f8275ec3\", \"department\": \"Sound\", \"gender\": 2, \"id\": 1099146, \"job\": \"Original Music Composer\", \"name\": \"Hal Beckett\"}, {\"credit_id\": \"52fe4df3c3a36847f8275eab\", \"department\": \"Directing\", \"gender\": 0, \"id\": 1219158, \"job\": \"Director\", \"name\": \"Scott Smith\"}, {\"credit_id\": \"58332c3f9251410348001bf2\", \"department\": \"Production\", \"gender\": 0, \"id\": 1219158, \"job\": \"Executive Producer\", \"name\": \"Scott Smith\"}, {\"credit_id\": \"52fe4df3c3a36847f8275ebd\", \"department\": \"Editing\", \"gender\": 0, \"id\": 1271268, \"job\": \"Editor\", \"name\": \"Lisa Binkley\"}]',\n",
       "       '[{\"credit_id\": \"52fe4ad9c3a368484e16a36b\", \"department\": \"Directing\", \"gender\": 2, \"id\": 208138, \"job\": \"Director\", \"name\": \"Daniel Hsia\"}, {\"credit_id\": \"52fe4ad9c3a368484e16a371\", \"department\": \"Writing\", \"gender\": 2, \"id\": 208138, \"job\": \"Writer\", \"name\": \"Daniel Hsia\"}]',\n",
       "       '[{\"credit_id\": \"58ce021b9251415a390165d9\", \"department\": \"Production\", \"gender\": 2, \"id\": 6888, \"job\": \"Executive Producer\", \"name\": \"Clark Peterson\"}, {\"credit_id\": \"58ce0232c3a36850e90157da\", \"department\": \"Production\", \"gender\": 2, \"id\": 61051, \"job\": \"Executive Producer\", \"name\": \"Andrew Reimer\"}, {\"credit_id\": \"52fe44e8c3a368484e03da8d\", \"department\": \"Directing\", \"gender\": 2, \"id\": 85563, \"job\": \"Director\", \"name\": \"Brian Herzlinger\"}, {\"credit_id\": \"52fe44e8c3a368484e03da87\", \"department\": \"Directing\", \"gender\": 2, \"id\": 94471, \"job\": \"Director\", \"name\": \"Jon Gunn\"}, {\"credit_id\": \"52fe44e8c3a368484e03da97\", \"department\": \"Directing\", \"gender\": 0, \"id\": 997560, \"job\": \"Director\", \"name\": \"Brett Winn\"}]'],\n",
       "      dtype=object)"
      ]
     },
     "execution_count": 27,
     "metadata": {},
     "output_type": "execute_result"
    }
   ],
   "source": [
    "movies[\"crew\"].values"
   ]
  },
  {
   "cell_type": "code",
   "execution_count": 28,
   "id": "fd20fcb1",
   "metadata": {
    "execution": {
     "iopub.execute_input": "2025-05-22T06:16:55.297734Z",
     "iopub.status.busy": "2025-05-22T06:16:55.297484Z",
     "iopub.status.idle": "2025-05-22T06:16:55.300929Z",
     "shell.execute_reply": "2025-05-22T06:16:55.300404Z"
    },
    "papermill": {
     "duration": 0.01446,
     "end_time": "2025-05-22T06:16:55.301932",
     "exception": false,
     "start_time": "2025-05-22T06:16:55.287472",
     "status": "completed"
    },
    "tags": []
   },
   "outputs": [],
   "source": [
    "def fetch_director(text):\n",
    "    L = []\n",
    "    for i in ast.literal_eval(text):\n",
    "        if i['job'] == 'Director':\n",
    "            L.append(i['name'])\n",
    "    return L "
   ]
  },
  {
   "cell_type": "code",
   "execution_count": 29,
   "id": "22f287ef",
   "metadata": {
    "execution": {
     "iopub.execute_input": "2025-05-22T06:16:55.322178Z",
     "iopub.status.busy": "2025-05-22T06:16:55.321994Z",
     "iopub.status.idle": "2025-05-22T06:16:58.408241Z",
     "shell.execute_reply": "2025-05-22T06:16:58.407648Z"
    },
    "papermill": {
     "duration": 3.098038,
     "end_time": "2025-05-22T06:16:58.409737",
     "exception": false,
     "start_time": "2025-05-22T06:16:55.311699",
     "status": "completed"
    },
    "tags": []
   },
   "outputs": [],
   "source": [
    "movies[\"crew\"]=movies[\"crew\"].apply(fetch_director)"
   ]
  },
  {
   "cell_type": "code",
   "execution_count": 30,
   "id": "7c315746",
   "metadata": {
    "execution": {
     "iopub.execute_input": "2025-05-22T06:16:58.432493Z",
     "iopub.status.busy": "2025-05-22T06:16:58.432041Z",
     "iopub.status.idle": "2025-05-22T06:16:58.461737Z",
     "shell.execute_reply": "2025-05-22T06:16:58.460948Z"
    },
    "papermill": {
     "duration": 0.04262,
     "end_time": "2025-05-22T06:16:58.462945",
     "exception": false,
     "start_time": "2025-05-22T06:16:58.420325",
     "status": "completed"
    },
    "tags": []
   },
   "outputs": [],
   "source": [
    "movies['overview'] = movies['overview'].apply(lambda x:x.split())"
   ]
  },
  {
   "cell_type": "code",
   "execution_count": 31,
   "id": "c4179ee4",
   "metadata": {
    "execution": {
     "iopub.execute_input": "2025-05-22T06:16:58.483554Z",
     "iopub.status.busy": "2025-05-22T06:16:58.483316Z",
     "iopub.status.idle": "2025-05-22T06:16:58.503503Z",
     "shell.execute_reply": "2025-05-22T06:16:58.502859Z"
    },
    "papermill": {
     "duration": 0.03172,
     "end_time": "2025-05-22T06:16:58.504727",
     "exception": false,
     "start_time": "2025-05-22T06:16:58.473007",
     "status": "completed"
    },
    "tags": []
   },
   "outputs": [
    {
     "data": {
      "text/html": [
       "<div>\n",
       "<style scoped>\n",
       "    .dataframe tbody tr th:only-of-type {\n",
       "        vertical-align: middle;\n",
       "    }\n",
       "\n",
       "    .dataframe tbody tr th {\n",
       "        vertical-align: top;\n",
       "    }\n",
       "\n",
       "    .dataframe thead th {\n",
       "        text-align: right;\n",
       "    }\n",
       "</style>\n",
       "<table border=\"1\" class=\"dataframe\">\n",
       "  <thead>\n",
       "    <tr style=\"text-align: right;\">\n",
       "      <th></th>\n",
       "      <th>movie_id</th>\n",
       "      <th>title</th>\n",
       "      <th>overview</th>\n",
       "      <th>genres</th>\n",
       "      <th>keywords</th>\n",
       "      <th>cast</th>\n",
       "      <th>crew</th>\n",
       "    </tr>\n",
       "  </thead>\n",
       "  <tbody>\n",
       "    <tr>\n",
       "      <th>3576</th>\n",
       "      <td>77</td>\n",
       "      <td>Memento</td>\n",
       "      <td>[Suffering, short-term, memory, loss, after, a...</td>\n",
       "      <td>[Mystery, Thriller]</td>\n",
       "      <td>[individual, insulin, tattoo, waitress, amnesi...</td>\n",
       "      <td>[Guy Pearce, Carrie-Anne Moss, Joe Pantoliano]</td>\n",
       "      <td>[Christopher Nolan]</td>\n",
       "    </tr>\n",
       "    <tr>\n",
       "      <th>1254</th>\n",
       "      <td>6071</td>\n",
       "      <td>Kiss of Death</td>\n",
       "      <td>[Jimmy, Kilmartin, is, an, ex-con, living, in,...</td>\n",
       "      <td>[Action, Crime, Drama, Thriller]</td>\n",
       "      <td>[hoodlum]</td>\n",
       "      <td>[David Caruso, Samuel L. Jackson, Nicolas Cage]</td>\n",
       "      <td>[Barbet Schroeder]</td>\n",
       "    </tr>\n",
       "    <tr>\n",
       "      <th>1585</th>\n",
       "      <td>172</td>\n",
       "      <td>Star Trek V: The Final Frontier</td>\n",
       "      <td>[Capt., Kirk, and, his, crew, must, deal, with...</td>\n",
       "      <td>[Science Fiction, Action, Adventure, Thriller]</td>\n",
       "      <td>[federation, starfleet, uss enterprise-a, sha-...</td>\n",
       "      <td>[William Shatner, Leonard Nimoy, DeForest Kelley]</td>\n",
       "      <td>[William Shatner]</td>\n",
       "    </tr>\n",
       "    <tr>\n",
       "      <th>182</th>\n",
       "      <td>102899</td>\n",
       "      <td>Ant-Man</td>\n",
       "      <td>[Armed, with, the, astonishing, ability, to, s...</td>\n",
       "      <td>[Science Fiction, Action, Adventure]</td>\n",
       "      <td>[marvel comic, superhero, based on comic book,...</td>\n",
       "      <td>[Paul Rudd, Michael Douglas, Evangeline Lilly]</td>\n",
       "      <td>[Peyton Reed]</td>\n",
       "    </tr>\n",
       "    <tr>\n",
       "      <th>1434</th>\n",
       "      <td>268920</td>\n",
       "      <td>Hot Pursuit</td>\n",
       "      <td>[An, uptight, by-the-book, cop, must, protect,...</td>\n",
       "      <td>[Action, Comedy, Crime]</td>\n",
       "      <td>[texas, prisoner, cop, drug cartel, on the run...</td>\n",
       "      <td>[Reese Witherspoon, Sofía Vergara, Michael Mos...</td>\n",
       "      <td>[Anne Fletcher]</td>\n",
       "    </tr>\n",
       "    <tr>\n",
       "      <th>4783</th>\n",
       "      <td>185465</td>\n",
       "      <td>Manito</td>\n",
       "      <td>[Fifteen, years, ago,, their, Washington, Heig...</td>\n",
       "      <td>[Drama]</td>\n",
       "      <td>[]</td>\n",
       "      <td>[Franky G, Leo Minaya, Manuel Cabral]</td>\n",
       "      <td>[Eric Eason]</td>\n",
       "    </tr>\n",
       "    <tr>\n",
       "      <th>2416</th>\n",
       "      <td>2752</td>\n",
       "      <td>40 Days and 40 Nights</td>\n",
       "      <td>[Matt, Sullivan's, last, big, relationship, en...</td>\n",
       "      <td>[Comedy, Romance]</td>\n",
       "      <td>[sex addiction, laundromat]</td>\n",
       "      <td>[Josh Hartnett, Shannyn Sossamon, Adam Trese]</td>\n",
       "      <td>[Michael Lehmann]</td>\n",
       "    </tr>\n",
       "    <tr>\n",
       "      <th>3530</th>\n",
       "      <td>9443</td>\n",
       "      <td>Chariots of Fire</td>\n",
       "      <td>[The, true, story, of, British, athletes, prep...</td>\n",
       "      <td>[Drama, History]</td>\n",
       "      <td>[underdog, scotland, jewry, patriotism, olympi...</td>\n",
       "      <td>[Ben Cross, Ian Charleson, Cheryl Campbell]</td>\n",
       "      <td>[Hugh Hudson]</td>\n",
       "    </tr>\n",
       "    <tr>\n",
       "      <th>2305</th>\n",
       "      <td>73191</td>\n",
       "      <td>The Nutcracker</td>\n",
       "      <td>[On, Christmas, Eve,, a, little, girl, named, ...</td>\n",
       "      <td>[Family, Fantasy, Music]</td>\n",
       "      <td>[ballet]</td>\n",
       "      <td>[Darci Kistler, Damian Woetzel, Bart Robinson ...</td>\n",
       "      <td>[Emile Ardolino]</td>\n",
       "    </tr>\n",
       "    <tr>\n",
       "      <th>931</th>\n",
       "      <td>13836</td>\n",
       "      <td>Race to Witch Mountain</td>\n",
       "      <td>[A, taxi, driver, gets, more, than, he, bargai...</td>\n",
       "      <td>[Adventure, Family, Fantasy, Science Fiction, ...</td>\n",
       "      <td>[spacecraft, laser, teleportation, telekinesis...</td>\n",
       "      <td>[Dwayne Johnson, AnnaSophia Robb, Alexander Lu...</td>\n",
       "      <td>[Andy Fickman]</td>\n",
       "    </tr>\n",
       "  </tbody>\n",
       "</table>\n",
       "</div>"
      ],
      "text/plain": [
       "      movie_id                            title  \\\n",
       "3576        77                          Memento   \n",
       "1254      6071                    Kiss of Death   \n",
       "1585       172  Star Trek V: The Final Frontier   \n",
       "182     102899                          Ant-Man   \n",
       "1434    268920                      Hot Pursuit   \n",
       "4783    185465                           Manito   \n",
       "2416      2752            40 Days and 40 Nights   \n",
       "3530      9443                 Chariots of Fire   \n",
       "2305     73191                   The Nutcracker   \n",
       "931      13836           Race to Witch Mountain   \n",
       "\n",
       "                                               overview  \\\n",
       "3576  [Suffering, short-term, memory, loss, after, a...   \n",
       "1254  [Jimmy, Kilmartin, is, an, ex-con, living, in,...   \n",
       "1585  [Capt., Kirk, and, his, crew, must, deal, with...   \n",
       "182   [Armed, with, the, astonishing, ability, to, s...   \n",
       "1434  [An, uptight, by-the-book, cop, must, protect,...   \n",
       "4783  [Fifteen, years, ago,, their, Washington, Heig...   \n",
       "2416  [Matt, Sullivan's, last, big, relationship, en...   \n",
       "3530  [The, true, story, of, British, athletes, prep...   \n",
       "2305  [On, Christmas, Eve,, a, little, girl, named, ...   \n",
       "931   [A, taxi, driver, gets, more, than, he, bargai...   \n",
       "\n",
       "                                                 genres  \\\n",
       "3576                                [Mystery, Thriller]   \n",
       "1254                   [Action, Crime, Drama, Thriller]   \n",
       "1585     [Science Fiction, Action, Adventure, Thriller]   \n",
       "182                [Science Fiction, Action, Adventure]   \n",
       "1434                            [Action, Comedy, Crime]   \n",
       "4783                                            [Drama]   \n",
       "2416                                  [Comedy, Romance]   \n",
       "3530                                   [Drama, History]   \n",
       "2305                           [Family, Fantasy, Music]   \n",
       "931   [Adventure, Family, Fantasy, Science Fiction, ...   \n",
       "\n",
       "                                               keywords  \\\n",
       "3576  [individual, insulin, tattoo, waitress, amnesi...   \n",
       "1254                                          [hoodlum]   \n",
       "1585  [federation, starfleet, uss enterprise-a, sha-...   \n",
       "182   [marvel comic, superhero, based on comic book,...   \n",
       "1434  [texas, prisoner, cop, drug cartel, on the run...   \n",
       "4783                                                 []   \n",
       "2416                        [sex addiction, laundromat]   \n",
       "3530  [underdog, scotland, jewry, patriotism, olympi...   \n",
       "2305                                           [ballet]   \n",
       "931   [spacecraft, laser, teleportation, telekinesis...   \n",
       "\n",
       "                                                   cast                 crew  \n",
       "3576     [Guy Pearce, Carrie-Anne Moss, Joe Pantoliano]  [Christopher Nolan]  \n",
       "1254    [David Caruso, Samuel L. Jackson, Nicolas Cage]   [Barbet Schroeder]  \n",
       "1585  [William Shatner, Leonard Nimoy, DeForest Kelley]    [William Shatner]  \n",
       "182      [Paul Rudd, Michael Douglas, Evangeline Lilly]        [Peyton Reed]  \n",
       "1434  [Reese Witherspoon, Sofía Vergara, Michael Mos...      [Anne Fletcher]  \n",
       "4783              [Franky G, Leo Minaya, Manuel Cabral]         [Eric Eason]  \n",
       "2416      [Josh Hartnett, Shannyn Sossamon, Adam Trese]    [Michael Lehmann]  \n",
       "3530        [Ben Cross, Ian Charleson, Cheryl Campbell]        [Hugh Hudson]  \n",
       "2305  [Darci Kistler, Damian Woetzel, Bart Robinson ...     [Emile Ardolino]  \n",
       "931   [Dwayne Johnson, AnnaSophia Robb, Alexander Lu...       [Andy Fickman]  "
      ]
     },
     "execution_count": 31,
     "metadata": {},
     "output_type": "execute_result"
    }
   ],
   "source": [
    "movies.sample(10)"
   ]
  },
  {
   "cell_type": "code",
   "execution_count": 32,
   "id": "9bcdd318",
   "metadata": {
    "execution": {
     "iopub.execute_input": "2025-05-22T06:16:58.526450Z",
     "iopub.status.busy": "2025-05-22T06:16:58.526259Z",
     "iopub.status.idle": "2025-05-22T06:16:58.529597Z",
     "shell.execute_reply": "2025-05-22T06:16:58.529072Z"
    },
    "papermill": {
     "duration": 0.014891,
     "end_time": "2025-05-22T06:16:58.530534",
     "exception": false,
     "start_time": "2025-05-22T06:16:58.515643",
     "status": "completed"
    },
    "tags": []
   },
   "outputs": [],
   "source": [
    "def collapse(L):\n",
    "    L1 = []\n",
    "    for i in L:\n",
    "        L1.append(i.replace(\" \",\"\"))\n",
    "    return L1"
   ]
  },
  {
   "cell_type": "code",
   "execution_count": 33,
   "id": "2cdfdd9f",
   "metadata": {
    "execution": {
     "iopub.execute_input": "2025-05-22T06:16:58.551924Z",
     "iopub.status.busy": "2025-05-22T06:16:58.551331Z",
     "iopub.status.idle": "2025-05-22T06:16:58.640287Z",
     "shell.execute_reply": "2025-05-22T06:16:58.639643Z"
    },
    "papermill": {
     "duration": 0.100729,
     "end_time": "2025-05-22T06:16:58.641469",
     "exception": false,
     "start_time": "2025-05-22T06:16:58.540740",
     "status": "completed"
    },
    "tags": []
   },
   "outputs": [],
   "source": [
    "movies['cast'] = movies['cast'].apply(collapse)\n",
    "movies['crew'] = movies['crew'].apply(collapse)\n",
    "movies['genres'] = movies['genres'].apply(collapse)\n",
    "movies['keywords'] = movies['keywords'].apply(collapse)"
   ]
  },
  {
   "cell_type": "code",
   "execution_count": 34,
   "id": "fa45c765",
   "metadata": {
    "execution": {
     "iopub.execute_input": "2025-05-22T06:16:58.664469Z",
     "iopub.status.busy": "2025-05-22T06:16:58.664044Z",
     "iopub.status.idle": "2025-05-22T06:16:58.670475Z",
     "shell.execute_reply": "2025-05-22T06:16:58.669684Z"
    },
    "papermill": {
     "duration": 0.019119,
     "end_time": "2025-05-22T06:16:58.671563",
     "exception": false,
     "start_time": "2025-05-22T06:16:58.652444",
     "status": "completed"
    },
    "tags": []
   },
   "outputs": [
    {
     "data": {
      "text/plain": [
       "0        [SamWorthington, ZoeSaldana, SigourneyWeaver]\n",
       "1           [JohnnyDepp, OrlandoBloom, KeiraKnightley]\n",
       "2            [DanielCraig, ChristophWaltz, LéaSeydoux]\n",
       "3            [ChristianBale, MichaelCaine, GaryOldman]\n",
       "4          [TaylorKitsch, LynnCollins, SamanthaMorton]\n",
       "                             ...                      \n",
       "4804    [CarlosGallardo, JaimedeHoyos, PeterMarquardt]\n",
       "4805         [EdwardBurns, KerryBishé, MarshaDietlein]\n",
       "4806           [EricMabius, KristinBooth, CrystalLowe]\n",
       "4807            [DanielHenney, ElizaCoupe, BillPaxton]\n",
       "4808    [DrewBarrymore, BrianHerzlinger, CoreyFeldman]\n",
       "Name: cast, Length: 4806, dtype: object"
      ]
     },
     "execution_count": 34,
     "metadata": {},
     "output_type": "execute_result"
    }
   ],
   "source": [
    "movies[\"cast\"]"
   ]
  },
  {
   "cell_type": "code",
   "execution_count": 35,
   "id": "76675b45",
   "metadata": {
    "execution": {
     "iopub.execute_input": "2025-05-22T06:16:58.692817Z",
     "iopub.status.busy": "2025-05-22T06:16:58.692409Z",
     "iopub.status.idle": "2025-05-22T06:16:58.706042Z",
     "shell.execute_reply": "2025-05-22T06:16:58.705313Z"
    },
    "papermill": {
     "duration": 0.025595,
     "end_time": "2025-05-22T06:16:58.707235",
     "exception": false,
     "start_time": "2025-05-22T06:16:58.681640",
     "status": "completed"
    },
    "tags": []
   },
   "outputs": [
    {
     "data": {
      "text/html": [
       "<div>\n",
       "<style scoped>\n",
       "    .dataframe tbody tr th:only-of-type {\n",
       "        vertical-align: middle;\n",
       "    }\n",
       "\n",
       "    .dataframe tbody tr th {\n",
       "        vertical-align: top;\n",
       "    }\n",
       "\n",
       "    .dataframe thead th {\n",
       "        text-align: right;\n",
       "    }\n",
       "</style>\n",
       "<table border=\"1\" class=\"dataframe\">\n",
       "  <thead>\n",
       "    <tr style=\"text-align: right;\">\n",
       "      <th></th>\n",
       "      <th>movie_id</th>\n",
       "      <th>title</th>\n",
       "      <th>overview</th>\n",
       "      <th>genres</th>\n",
       "      <th>keywords</th>\n",
       "      <th>cast</th>\n",
       "      <th>crew</th>\n",
       "    </tr>\n",
       "  </thead>\n",
       "  <tbody>\n",
       "    <tr>\n",
       "      <th>0</th>\n",
       "      <td>19995</td>\n",
       "      <td>Avatar</td>\n",
       "      <td>[In, the, 22nd, century,, a, paraplegic, Marin...</td>\n",
       "      <td>[Action, Adventure, Fantasy, ScienceFiction]</td>\n",
       "      <td>[cultureclash, future, spacewar, spacecolony, ...</td>\n",
       "      <td>[SamWorthington, ZoeSaldana, SigourneyWeaver]</td>\n",
       "      <td>[JamesCameron]</td>\n",
       "    </tr>\n",
       "    <tr>\n",
       "      <th>1</th>\n",
       "      <td>285</td>\n",
       "      <td>Pirates of the Caribbean: At World's End</td>\n",
       "      <td>[Captain, Barbossa,, long, believed, to, be, d...</td>\n",
       "      <td>[Adventure, Fantasy, Action]</td>\n",
       "      <td>[ocean, drugabuse, exoticisland, eastindiatrad...</td>\n",
       "      <td>[JohnnyDepp, OrlandoBloom, KeiraKnightley]</td>\n",
       "      <td>[GoreVerbinski]</td>\n",
       "    </tr>\n",
       "    <tr>\n",
       "      <th>2</th>\n",
       "      <td>206647</td>\n",
       "      <td>Spectre</td>\n",
       "      <td>[A, cryptic, message, from, Bond’s, past, send...</td>\n",
       "      <td>[Action, Adventure, Crime]</td>\n",
       "      <td>[spy, basedonnovel, secretagent, sequel, mi6, ...</td>\n",
       "      <td>[DanielCraig, ChristophWaltz, LéaSeydoux]</td>\n",
       "      <td>[SamMendes]</td>\n",
       "    </tr>\n",
       "    <tr>\n",
       "      <th>3</th>\n",
       "      <td>49026</td>\n",
       "      <td>The Dark Knight Rises</td>\n",
       "      <td>[Following, the, death, of, District, Attorney...</td>\n",
       "      <td>[Action, Crime, Drama, Thriller]</td>\n",
       "      <td>[dccomics, crimefighter, terrorist, secretiden...</td>\n",
       "      <td>[ChristianBale, MichaelCaine, GaryOldman]</td>\n",
       "      <td>[ChristopherNolan]</td>\n",
       "    </tr>\n",
       "    <tr>\n",
       "      <th>4</th>\n",
       "      <td>49529</td>\n",
       "      <td>John Carter</td>\n",
       "      <td>[John, Carter, is, a, war-weary,, former, mili...</td>\n",
       "      <td>[Action, Adventure, ScienceFiction]</td>\n",
       "      <td>[basedonnovel, mars, medallion, spacetravel, p...</td>\n",
       "      <td>[TaylorKitsch, LynnCollins, SamanthaMorton]</td>\n",
       "      <td>[AndrewStanton]</td>\n",
       "    </tr>\n",
       "  </tbody>\n",
       "</table>\n",
       "</div>"
      ],
      "text/plain": [
       "   movie_id                                     title  \\\n",
       "0     19995                                    Avatar   \n",
       "1       285  Pirates of the Caribbean: At World's End   \n",
       "2    206647                                   Spectre   \n",
       "3     49026                     The Dark Knight Rises   \n",
       "4     49529                               John Carter   \n",
       "\n",
       "                                            overview  \\\n",
       "0  [In, the, 22nd, century,, a, paraplegic, Marin...   \n",
       "1  [Captain, Barbossa,, long, believed, to, be, d...   \n",
       "2  [A, cryptic, message, from, Bond’s, past, send...   \n",
       "3  [Following, the, death, of, District, Attorney...   \n",
       "4  [John, Carter, is, a, war-weary,, former, mili...   \n",
       "\n",
       "                                         genres  \\\n",
       "0  [Action, Adventure, Fantasy, ScienceFiction]   \n",
       "1                  [Adventure, Fantasy, Action]   \n",
       "2                    [Action, Adventure, Crime]   \n",
       "3              [Action, Crime, Drama, Thriller]   \n",
       "4           [Action, Adventure, ScienceFiction]   \n",
       "\n",
       "                                            keywords  \\\n",
       "0  [cultureclash, future, spacewar, spacecolony, ...   \n",
       "1  [ocean, drugabuse, exoticisland, eastindiatrad...   \n",
       "2  [spy, basedonnovel, secretagent, sequel, mi6, ...   \n",
       "3  [dccomics, crimefighter, terrorist, secretiden...   \n",
       "4  [basedonnovel, mars, medallion, spacetravel, p...   \n",
       "\n",
       "                                            cast                crew  \n",
       "0  [SamWorthington, ZoeSaldana, SigourneyWeaver]      [JamesCameron]  \n",
       "1     [JohnnyDepp, OrlandoBloom, KeiraKnightley]     [GoreVerbinski]  \n",
       "2      [DanielCraig, ChristophWaltz, LéaSeydoux]         [SamMendes]  \n",
       "3      [ChristianBale, MichaelCaine, GaryOldman]  [ChristopherNolan]  \n",
       "4    [TaylorKitsch, LynnCollins, SamanthaMorton]     [AndrewStanton]  "
      ]
     },
     "execution_count": 35,
     "metadata": {},
     "output_type": "execute_result"
    }
   ],
   "source": [
    "movies.head()"
   ]
  },
  {
   "cell_type": "code",
   "execution_count": 36,
   "id": "502534fd",
   "metadata": {
    "execution": {
     "iopub.execute_input": "2025-05-22T06:16:58.729295Z",
     "iopub.status.busy": "2025-05-22T06:16:58.729102Z",
     "iopub.status.idle": "2025-05-22T06:16:58.769091Z",
     "shell.execute_reply": "2025-05-22T06:16:58.768325Z"
    },
    "papermill": {
     "duration": 0.051935,
     "end_time": "2025-05-22T06:16:58.770327",
     "exception": false,
     "start_time": "2025-05-22T06:16:58.718392",
     "status": "completed"
    },
    "tags": []
   },
   "outputs": [],
   "source": [
    "movies['tags'] = movies['overview'] + movies['genres'] + movies['keywords'] + movies['cast'] + movies['crew']"
   ]
  },
  {
   "cell_type": "code",
   "execution_count": 37,
   "id": "e89ead17",
   "metadata": {
    "execution": {
     "iopub.execute_input": "2025-05-22T06:16:58.793590Z",
     "iopub.status.busy": "2025-05-22T06:16:58.793301Z",
     "iopub.status.idle": "2025-05-22T06:16:58.810591Z",
     "shell.execute_reply": "2025-05-22T06:16:58.809820Z"
    },
    "papermill": {
     "duration": 0.030079,
     "end_time": "2025-05-22T06:16:58.811899",
     "exception": false,
     "start_time": "2025-05-22T06:16:58.781820",
     "status": "completed"
    },
    "tags": []
   },
   "outputs": [
    {
     "data": {
      "text/html": [
       "<div>\n",
       "<style scoped>\n",
       "    .dataframe tbody tr th:only-of-type {\n",
       "        vertical-align: middle;\n",
       "    }\n",
       "\n",
       "    .dataframe tbody tr th {\n",
       "        vertical-align: top;\n",
       "    }\n",
       "\n",
       "    .dataframe thead th {\n",
       "        text-align: right;\n",
       "    }\n",
       "</style>\n",
       "<table border=\"1\" class=\"dataframe\">\n",
       "  <thead>\n",
       "    <tr style=\"text-align: right;\">\n",
       "      <th></th>\n",
       "      <th>movie_id</th>\n",
       "      <th>title</th>\n",
       "      <th>overview</th>\n",
       "      <th>genres</th>\n",
       "      <th>keywords</th>\n",
       "      <th>cast</th>\n",
       "      <th>crew</th>\n",
       "      <th>tags</th>\n",
       "    </tr>\n",
       "  </thead>\n",
       "  <tbody>\n",
       "    <tr>\n",
       "      <th>0</th>\n",
       "      <td>19995</td>\n",
       "      <td>Avatar</td>\n",
       "      <td>[In, the, 22nd, century,, a, paraplegic, Marin...</td>\n",
       "      <td>[Action, Adventure, Fantasy, ScienceFiction]</td>\n",
       "      <td>[cultureclash, future, spacewar, spacecolony, ...</td>\n",
       "      <td>[SamWorthington, ZoeSaldana, SigourneyWeaver]</td>\n",
       "      <td>[JamesCameron]</td>\n",
       "      <td>[In, the, 22nd, century,, a, paraplegic, Marin...</td>\n",
       "    </tr>\n",
       "    <tr>\n",
       "      <th>1</th>\n",
       "      <td>285</td>\n",
       "      <td>Pirates of the Caribbean: At World's End</td>\n",
       "      <td>[Captain, Barbossa,, long, believed, to, be, d...</td>\n",
       "      <td>[Adventure, Fantasy, Action]</td>\n",
       "      <td>[ocean, drugabuse, exoticisland, eastindiatrad...</td>\n",
       "      <td>[JohnnyDepp, OrlandoBloom, KeiraKnightley]</td>\n",
       "      <td>[GoreVerbinski]</td>\n",
       "      <td>[Captain, Barbossa,, long, believed, to, be, d...</td>\n",
       "    </tr>\n",
       "    <tr>\n",
       "      <th>2</th>\n",
       "      <td>206647</td>\n",
       "      <td>Spectre</td>\n",
       "      <td>[A, cryptic, message, from, Bond’s, past, send...</td>\n",
       "      <td>[Action, Adventure, Crime]</td>\n",
       "      <td>[spy, basedonnovel, secretagent, sequel, mi6, ...</td>\n",
       "      <td>[DanielCraig, ChristophWaltz, LéaSeydoux]</td>\n",
       "      <td>[SamMendes]</td>\n",
       "      <td>[A, cryptic, message, from, Bond’s, past, send...</td>\n",
       "    </tr>\n",
       "    <tr>\n",
       "      <th>3</th>\n",
       "      <td>49026</td>\n",
       "      <td>The Dark Knight Rises</td>\n",
       "      <td>[Following, the, death, of, District, Attorney...</td>\n",
       "      <td>[Action, Crime, Drama, Thriller]</td>\n",
       "      <td>[dccomics, crimefighter, terrorist, secretiden...</td>\n",
       "      <td>[ChristianBale, MichaelCaine, GaryOldman]</td>\n",
       "      <td>[ChristopherNolan]</td>\n",
       "      <td>[Following, the, death, of, District, Attorney...</td>\n",
       "    </tr>\n",
       "    <tr>\n",
       "      <th>4</th>\n",
       "      <td>49529</td>\n",
       "      <td>John Carter</td>\n",
       "      <td>[John, Carter, is, a, war-weary,, former, mili...</td>\n",
       "      <td>[Action, Adventure, ScienceFiction]</td>\n",
       "      <td>[basedonnovel, mars, medallion, spacetravel, p...</td>\n",
       "      <td>[TaylorKitsch, LynnCollins, SamanthaMorton]</td>\n",
       "      <td>[AndrewStanton]</td>\n",
       "      <td>[John, Carter, is, a, war-weary,, former, mili...</td>\n",
       "    </tr>\n",
       "  </tbody>\n",
       "</table>\n",
       "</div>"
      ],
      "text/plain": [
       "   movie_id                                     title  \\\n",
       "0     19995                                    Avatar   \n",
       "1       285  Pirates of the Caribbean: At World's End   \n",
       "2    206647                                   Spectre   \n",
       "3     49026                     The Dark Knight Rises   \n",
       "4     49529                               John Carter   \n",
       "\n",
       "                                            overview  \\\n",
       "0  [In, the, 22nd, century,, a, paraplegic, Marin...   \n",
       "1  [Captain, Barbossa,, long, believed, to, be, d...   \n",
       "2  [A, cryptic, message, from, Bond’s, past, send...   \n",
       "3  [Following, the, death, of, District, Attorney...   \n",
       "4  [John, Carter, is, a, war-weary,, former, mili...   \n",
       "\n",
       "                                         genres  \\\n",
       "0  [Action, Adventure, Fantasy, ScienceFiction]   \n",
       "1                  [Adventure, Fantasy, Action]   \n",
       "2                    [Action, Adventure, Crime]   \n",
       "3              [Action, Crime, Drama, Thriller]   \n",
       "4           [Action, Adventure, ScienceFiction]   \n",
       "\n",
       "                                            keywords  \\\n",
       "0  [cultureclash, future, spacewar, spacecolony, ...   \n",
       "1  [ocean, drugabuse, exoticisland, eastindiatrad...   \n",
       "2  [spy, basedonnovel, secretagent, sequel, mi6, ...   \n",
       "3  [dccomics, crimefighter, terrorist, secretiden...   \n",
       "4  [basedonnovel, mars, medallion, spacetravel, p...   \n",
       "\n",
       "                                            cast                crew  \\\n",
       "0  [SamWorthington, ZoeSaldana, SigourneyWeaver]      [JamesCameron]   \n",
       "1     [JohnnyDepp, OrlandoBloom, KeiraKnightley]     [GoreVerbinski]   \n",
       "2      [DanielCraig, ChristophWaltz, LéaSeydoux]         [SamMendes]   \n",
       "3      [ChristianBale, MichaelCaine, GaryOldman]  [ChristopherNolan]   \n",
       "4    [TaylorKitsch, LynnCollins, SamanthaMorton]     [AndrewStanton]   \n",
       "\n",
       "                                                tags  \n",
       "0  [In, the, 22nd, century,, a, paraplegic, Marin...  \n",
       "1  [Captain, Barbossa,, long, believed, to, be, d...  \n",
       "2  [A, cryptic, message, from, Bond’s, past, send...  \n",
       "3  [Following, the, death, of, District, Attorney...  \n",
       "4  [John, Carter, is, a, war-weary,, former, mili...  "
      ]
     },
     "execution_count": 37,
     "metadata": {},
     "output_type": "execute_result"
    }
   ],
   "source": [
    "movies.head(5)"
   ]
  },
  {
   "cell_type": "code",
   "execution_count": 38,
   "id": "3b49d690",
   "metadata": {
    "execution": {
     "iopub.execute_input": "2025-05-22T06:16:58.835773Z",
     "iopub.status.busy": "2025-05-22T06:16:58.835544Z",
     "iopub.status.idle": "2025-05-22T06:16:58.840029Z",
     "shell.execute_reply": "2025-05-22T06:16:58.839404Z"
    },
    "papermill": {
     "duration": 0.017823,
     "end_time": "2025-05-22T06:16:58.841221",
     "exception": false,
     "start_time": "2025-05-22T06:16:58.823398",
     "status": "completed"
    },
    "tags": []
   },
   "outputs": [],
   "source": [
    "new_df = movies[['movie_id','title','tags']]"
   ]
  },
  {
   "cell_type": "code",
   "execution_count": 39,
   "id": "4d488958",
   "metadata": {
    "execution": {
     "iopub.execute_input": "2025-05-22T06:16:58.865361Z",
     "iopub.status.busy": "2025-05-22T06:16:58.865190Z",
     "iopub.status.idle": "2025-05-22T06:16:58.875805Z",
     "shell.execute_reply": "2025-05-22T06:16:58.875112Z"
    },
    "papermill": {
     "duration": 0.023247,
     "end_time": "2025-05-22T06:16:58.876921",
     "exception": false,
     "start_time": "2025-05-22T06:16:58.853674",
     "status": "completed"
    },
    "tags": []
   },
   "outputs": [
    {
     "data": {
      "text/html": [
       "<div>\n",
       "<style scoped>\n",
       "    .dataframe tbody tr th:only-of-type {\n",
       "        vertical-align: middle;\n",
       "    }\n",
       "\n",
       "    .dataframe tbody tr th {\n",
       "        vertical-align: top;\n",
       "    }\n",
       "\n",
       "    .dataframe thead th {\n",
       "        text-align: right;\n",
       "    }\n",
       "</style>\n",
       "<table border=\"1\" class=\"dataframe\">\n",
       "  <thead>\n",
       "    <tr style=\"text-align: right;\">\n",
       "      <th></th>\n",
       "      <th>movie_id</th>\n",
       "      <th>title</th>\n",
       "      <th>tags</th>\n",
       "    </tr>\n",
       "  </thead>\n",
       "  <tbody>\n",
       "    <tr>\n",
       "      <th>0</th>\n",
       "      <td>19995</td>\n",
       "      <td>Avatar</td>\n",
       "      <td>[In, the, 22nd, century,, a, paraplegic, Marin...</td>\n",
       "    </tr>\n",
       "    <tr>\n",
       "      <th>1</th>\n",
       "      <td>285</td>\n",
       "      <td>Pirates of the Caribbean: At World's End</td>\n",
       "      <td>[Captain, Barbossa,, long, believed, to, be, d...</td>\n",
       "    </tr>\n",
       "    <tr>\n",
       "      <th>2</th>\n",
       "      <td>206647</td>\n",
       "      <td>Spectre</td>\n",
       "      <td>[A, cryptic, message, from, Bond’s, past, send...</td>\n",
       "    </tr>\n",
       "    <tr>\n",
       "      <th>3</th>\n",
       "      <td>49026</td>\n",
       "      <td>The Dark Knight Rises</td>\n",
       "      <td>[Following, the, death, of, District, Attorney...</td>\n",
       "    </tr>\n",
       "    <tr>\n",
       "      <th>4</th>\n",
       "      <td>49529</td>\n",
       "      <td>John Carter</td>\n",
       "      <td>[John, Carter, is, a, war-weary,, former, mili...</td>\n",
       "    </tr>\n",
       "    <tr>\n",
       "      <th>...</th>\n",
       "      <td>...</td>\n",
       "      <td>...</td>\n",
       "      <td>...</td>\n",
       "    </tr>\n",
       "    <tr>\n",
       "      <th>4804</th>\n",
       "      <td>9367</td>\n",
       "      <td>El Mariachi</td>\n",
       "      <td>[El, Mariachi, just, wants, to, play, his, gui...</td>\n",
       "    </tr>\n",
       "    <tr>\n",
       "      <th>4805</th>\n",
       "      <td>72766</td>\n",
       "      <td>Newlyweds</td>\n",
       "      <td>[A, newlywed, couple's, honeymoon, is, upended...</td>\n",
       "    </tr>\n",
       "    <tr>\n",
       "      <th>4806</th>\n",
       "      <td>231617</td>\n",
       "      <td>Signed, Sealed, Delivered</td>\n",
       "      <td>[\"Signed,, Sealed,, Delivered\", introduces, a,...</td>\n",
       "    </tr>\n",
       "    <tr>\n",
       "      <th>4807</th>\n",
       "      <td>126186</td>\n",
       "      <td>Shanghai Calling</td>\n",
       "      <td>[When, ambitious, New, York, attorney, Sam, is...</td>\n",
       "    </tr>\n",
       "    <tr>\n",
       "      <th>4808</th>\n",
       "      <td>25975</td>\n",
       "      <td>My Date with Drew</td>\n",
       "      <td>[Ever, since, the, second, grade, when, he, fi...</td>\n",
       "    </tr>\n",
       "  </tbody>\n",
       "</table>\n",
       "<p>4806 rows × 3 columns</p>\n",
       "</div>"
      ],
      "text/plain": [
       "      movie_id                                     title  \\\n",
       "0        19995                                    Avatar   \n",
       "1          285  Pirates of the Caribbean: At World's End   \n",
       "2       206647                                   Spectre   \n",
       "3        49026                     The Dark Knight Rises   \n",
       "4        49529                               John Carter   \n",
       "...        ...                                       ...   \n",
       "4804      9367                               El Mariachi   \n",
       "4805     72766                                 Newlyweds   \n",
       "4806    231617                 Signed, Sealed, Delivered   \n",
       "4807    126186                          Shanghai Calling   \n",
       "4808     25975                         My Date with Drew   \n",
       "\n",
       "                                                   tags  \n",
       "0     [In, the, 22nd, century,, a, paraplegic, Marin...  \n",
       "1     [Captain, Barbossa,, long, believed, to, be, d...  \n",
       "2     [A, cryptic, message, from, Bond’s, past, send...  \n",
       "3     [Following, the, death, of, District, Attorney...  \n",
       "4     [John, Carter, is, a, war-weary,, former, mili...  \n",
       "...                                                 ...  \n",
       "4804  [El, Mariachi, just, wants, to, play, his, gui...  \n",
       "4805  [A, newlywed, couple's, honeymoon, is, upended...  \n",
       "4806  [\"Signed,, Sealed,, Delivered\", introduces, a,...  \n",
       "4807  [When, ambitious, New, York, attorney, Sam, is...  \n",
       "4808  [Ever, since, the, second, grade, when, he, fi...  \n",
       "\n",
       "[4806 rows x 3 columns]"
      ]
     },
     "execution_count": 39,
     "metadata": {},
     "output_type": "execute_result"
    }
   ],
   "source": [
    "new_df"
   ]
  },
  {
   "cell_type": "code",
   "execution_count": 40,
   "id": "1b3b6319",
   "metadata": {
    "execution": {
     "iopub.execute_input": "2025-05-22T06:16:58.899916Z",
     "iopub.status.busy": "2025-05-22T06:16:58.899740Z",
     "iopub.status.idle": "2025-05-22T06:16:58.913099Z",
     "shell.execute_reply": "2025-05-22T06:16:58.912251Z"
    },
    "papermill": {
     "duration": 0.026038,
     "end_time": "2025-05-22T06:16:58.914195",
     "exception": false,
     "start_time": "2025-05-22T06:16:58.888157",
     "status": "completed"
    },
    "tags": []
   },
   "outputs": [
    {
     "name": "stderr",
     "output_type": "stream",
     "text": [
      "/tmp/ipykernel_19/2266685390.py:1: SettingWithCopyWarning: \n",
      "A value is trying to be set on a copy of a slice from a DataFrame.\n",
      "Try using .loc[row_indexer,col_indexer] = value instead\n",
      "\n",
      "See the caveats in the documentation: https://pandas.pydata.org/pandas-docs/stable/user_guide/indexing.html#returning-a-view-versus-a-copy\n",
      "  new_df[\"tags\"]=new_df['tags'].apply(lambda x: \" \".join(x))\n"
     ]
    }
   ],
   "source": [
    "new_df[\"tags\"]=new_df['tags'].apply(lambda x: \" \".join(x))"
   ]
  },
  {
   "cell_type": "code",
   "execution_count": 41,
   "id": "e135a2a2",
   "metadata": {
    "execution": {
     "iopub.execute_input": "2025-05-22T06:16:58.937484Z",
     "iopub.status.busy": "2025-05-22T06:16:58.937313Z",
     "iopub.status.idle": "2025-05-22T06:16:58.942461Z",
     "shell.execute_reply": "2025-05-22T06:16:58.941865Z"
    },
    "papermill": {
     "duration": 0.018,
     "end_time": "2025-05-22T06:16:58.943529",
     "exception": false,
     "start_time": "2025-05-22T06:16:58.925529",
     "status": "completed"
    },
    "tags": []
   },
   "outputs": [
    {
     "data": {
      "text/plain": [
       "0    In the 22nd century, a paraplegic Marine is di...\n",
       "1    Captain Barbossa, long believed to be dead, ha...\n",
       "2    A cryptic message from Bond’s past sends him o...\n",
       "3    Following the death of District Attorney Harve...\n",
       "4    John Carter is a war-weary, former military ca...\n",
       "Name: tags, dtype: object"
      ]
     },
     "execution_count": 41,
     "metadata": {},
     "output_type": "execute_result"
    }
   ],
   "source": [
    "new_df.head()[\"tags\"]"
   ]
  },
  {
   "cell_type": "code",
   "execution_count": 42,
   "id": "1b406a1d",
   "metadata": {
    "execution": {
     "iopub.execute_input": "2025-05-22T06:16:58.966762Z",
     "iopub.status.busy": "2025-05-22T06:16:58.966575Z",
     "iopub.status.idle": "2025-05-22T06:16:58.978693Z",
     "shell.execute_reply": "2025-05-22T06:16:58.977877Z"
    },
    "papermill": {
     "duration": 0.025112,
     "end_time": "2025-05-22T06:16:58.979779",
     "exception": false,
     "start_time": "2025-05-22T06:16:58.954667",
     "status": "completed"
    },
    "tags": []
   },
   "outputs": [
    {
     "name": "stderr",
     "output_type": "stream",
     "text": [
      "/tmp/ipykernel_19/4024514323.py:1: SettingWithCopyWarning: \n",
      "A value is trying to be set on a copy of a slice from a DataFrame.\n",
      "Try using .loc[row_indexer,col_indexer] = value instead\n",
      "\n",
      "See the caveats in the documentation: https://pandas.pydata.org/pandas-docs/stable/user_guide/indexing.html#returning-a-view-versus-a-copy\n",
      "  new_df[\"tags\"]=new_df[\"tags\"].apply(lambda x:x.lower())\n"
     ]
    }
   ],
   "source": [
    "new_df[\"tags\"]=new_df[\"tags\"].apply(lambda x:x.lower())"
   ]
  },
  {
   "cell_type": "code",
   "execution_count": 43,
   "id": "da794694",
   "metadata": {
    "execution": {
     "iopub.execute_input": "2025-05-22T06:16:59.002773Z",
     "iopub.status.busy": "2025-05-22T06:16:59.002553Z",
     "iopub.status.idle": "2025-05-22T06:17:00.864487Z",
     "shell.execute_reply": "2025-05-22T06:17:00.863810Z"
    },
    "papermill": {
     "duration": 1.874871,
     "end_time": "2025-05-22T06:17:00.865888",
     "exception": false,
     "start_time": "2025-05-22T06:16:58.991017",
     "status": "completed"
    },
    "tags": []
   },
   "outputs": [],
   "source": [
    "from nltk.stem.porter import PorterStemmer\n",
    "ps=PorterStemmer()"
   ]
  },
  {
   "cell_type": "code",
   "execution_count": 44,
   "id": "af1fff5e",
   "metadata": {
    "execution": {
     "iopub.execute_input": "2025-05-22T06:17:00.893144Z",
     "iopub.status.busy": "2025-05-22T06:17:00.892472Z",
     "iopub.status.idle": "2025-05-22T06:17:00.897252Z",
     "shell.execute_reply": "2025-05-22T06:17:00.896555Z"
    },
    "papermill": {
     "duration": 0.01937,
     "end_time": "2025-05-22T06:17:00.898564",
     "exception": false,
     "start_time": "2025-05-22T06:17:00.879194",
     "status": "completed"
    },
    "tags": []
   },
   "outputs": [],
   "source": [
    "def stem(text):\n",
    "    y=[]\n",
    "    for i in text.split():\n",
    "        y.append(ps.stem(i))\n",
    "    return \" \".join(y)    "
   ]
  },
  {
   "cell_type": "code",
   "execution_count": 45,
   "id": "1663b72b",
   "metadata": {
    "execution": {
     "iopub.execute_input": "2025-05-22T06:17:00.931859Z",
     "iopub.status.busy": "2025-05-22T06:17:00.931013Z",
     "iopub.status.idle": "2025-05-22T06:17:04.678664Z",
     "shell.execute_reply": "2025-05-22T06:17:04.677746Z"
    },
    "papermill": {
     "duration": 3.760876,
     "end_time": "2025-05-22T06:17:04.679924",
     "exception": false,
     "start_time": "2025-05-22T06:17:00.919048",
     "status": "completed"
    },
    "tags": []
   },
   "outputs": [
    {
     "name": "stderr",
     "output_type": "stream",
     "text": [
      "/tmp/ipykernel_19/1027202188.py:1: SettingWithCopyWarning: \n",
      "A value is trying to be set on a copy of a slice from a DataFrame.\n",
      "Try using .loc[row_indexer,col_indexer] = value instead\n",
      "\n",
      "See the caveats in the documentation: https://pandas.pydata.org/pandas-docs/stable/user_guide/indexing.html#returning-a-view-versus-a-copy\n",
      "  new_df[\"tags\"]=new_df[\"tags\"].apply(stem)\n"
     ]
    }
   ],
   "source": [
    "new_df[\"tags\"]=new_df[\"tags\"].apply(stem)"
   ]
  },
  {
   "cell_type": "code",
   "execution_count": 46,
   "id": "a5ca91a5",
   "metadata": {
    "execution": {
     "iopub.execute_input": "2025-05-22T06:17:04.704923Z",
     "iopub.status.busy": "2025-05-22T06:17:04.704692Z",
     "iopub.status.idle": "2025-05-22T06:17:04.708208Z",
     "shell.execute_reply": "2025-05-22T06:17:04.707456Z"
    },
    "papermill": {
     "duration": 0.017281,
     "end_time": "2025-05-22T06:17:04.709335",
     "exception": false,
     "start_time": "2025-05-22T06:17:04.692054",
     "status": "completed"
    },
    "tags": []
   },
   "outputs": [],
   "source": [
    "from sklearn.feature_extraction.text import CountVectorizer\n",
    "cv = CountVectorizer(max_features=5000,stop_words='english')"
   ]
  },
  {
   "cell_type": "code",
   "execution_count": 47,
   "id": "e7d867db",
   "metadata": {
    "execution": {
     "iopub.execute_input": "2025-05-22T06:17:04.733253Z",
     "iopub.status.busy": "2025-05-22T06:17:04.733046Z",
     "iopub.status.idle": "2025-05-22T06:17:05.120959Z",
     "shell.execute_reply": "2025-05-22T06:17:05.120345Z"
    },
    "papermill": {
     "duration": 0.401379,
     "end_time": "2025-05-22T06:17:05.122371",
     "exception": false,
     "start_time": "2025-05-22T06:17:04.720992",
     "status": "completed"
    },
    "tags": []
   },
   "outputs": [],
   "source": [
    "vector = cv.fit_transform(new_df['tags']).toarray()"
   ]
  },
  {
   "cell_type": "code",
   "execution_count": 48,
   "id": "5060707b",
   "metadata": {
    "execution": {
     "iopub.execute_input": "2025-05-22T06:17:05.148087Z",
     "iopub.status.busy": "2025-05-22T06:17:05.147860Z",
     "iopub.status.idle": "2025-05-22T06:17:05.152956Z",
     "shell.execute_reply": "2025-05-22T06:17:05.152198Z"
    },
    "papermill": {
     "duration": 0.019043,
     "end_time": "2025-05-22T06:17:05.154139",
     "exception": false,
     "start_time": "2025-05-22T06:17:05.135096",
     "status": "completed"
    },
    "tags": []
   },
   "outputs": [
    {
     "data": {
      "text/plain": [
       "array([[0, 0, 0, ..., 0, 0, 0],\n",
       "       [0, 0, 0, ..., 0, 0, 0],\n",
       "       [0, 0, 0, ..., 0, 0, 0],\n",
       "       ...,\n",
       "       [0, 0, 0, ..., 0, 0, 0],\n",
       "       [0, 0, 0, ..., 0, 0, 0],\n",
       "       [0, 0, 0, ..., 0, 0, 0]])"
      ]
     },
     "execution_count": 48,
     "metadata": {},
     "output_type": "execute_result"
    }
   ],
   "source": [
    "vector"
   ]
  },
  {
   "cell_type": "code",
   "execution_count": 49,
   "id": "054ce9d0",
   "metadata": {
    "execution": {
     "iopub.execute_input": "2025-05-22T06:17:05.179590Z",
     "iopub.status.busy": "2025-05-22T06:17:05.179358Z",
     "iopub.status.idle": "2025-05-22T06:17:05.183673Z",
     "shell.execute_reply": "2025-05-22T06:17:05.183081Z"
    },
    "papermill": {
     "duration": 0.017777,
     "end_time": "2025-05-22T06:17:05.184753",
     "exception": false,
     "start_time": "2025-05-22T06:17:05.166976",
     "status": "completed"
    },
    "tags": []
   },
   "outputs": [
    {
     "data": {
      "text/plain": [
       "(4806, 5000)"
      ]
     },
     "execution_count": 49,
     "metadata": {},
     "output_type": "execute_result"
    }
   ],
   "source": [
    "vector.shape"
   ]
  },
  {
   "cell_type": "code",
   "execution_count": 50,
   "id": "269c8f4d",
   "metadata": {
    "execution": {
     "iopub.execute_input": "2025-05-22T06:17:05.209590Z",
     "iopub.status.busy": "2025-05-22T06:17:05.209338Z",
     "iopub.status.idle": "2025-05-22T06:17:05.214449Z",
     "shell.execute_reply": "2025-05-22T06:17:05.213833Z"
    },
    "papermill": {
     "duration": 0.018628,
     "end_time": "2025-05-22T06:17:05.215515",
     "exception": false,
     "start_time": "2025-05-22T06:17:05.196887",
     "status": "completed"
    },
    "tags": []
   },
   "outputs": [
    {
     "data": {
      "text/plain": [
       "array([0, 0, 0, ..., 0, 0, 0])"
      ]
     },
     "execution_count": 50,
     "metadata": {},
     "output_type": "execute_result"
    }
   ],
   "source": [
    "vector[0]"
   ]
  },
  {
   "cell_type": "code",
   "execution_count": 51,
   "id": "8b0a94ab",
   "metadata": {
    "execution": {
     "iopub.execute_input": "2025-05-22T06:17:05.239880Z",
     "iopub.status.busy": "2025-05-22T06:17:05.239673Z",
     "iopub.status.idle": "2025-05-22T06:17:05.246810Z",
     "shell.execute_reply": "2025-05-22T06:17:05.246062Z"
    },
    "papermill": {
     "duration": 0.02002,
     "end_time": "2025-05-22T06:17:05.247852",
     "exception": false,
     "start_time": "2025-05-22T06:17:05.227832",
     "status": "completed"
    },
    "tags": []
   },
   "outputs": [
    {
     "data": {
      "text/plain": [
       "array(['000', '007', '10', ..., 'zone', 'zoo', 'zooeydeschanel'],\n",
       "      dtype=object)"
      ]
     },
     "execution_count": 51,
     "metadata": {},
     "output_type": "execute_result"
    }
   ],
   "source": [
    "cv.get_feature_names_out()"
   ]
  },
  {
   "cell_type": "code",
   "execution_count": 52,
   "id": "339bc488",
   "metadata": {
    "execution": {
     "iopub.execute_input": "2025-05-22T06:17:05.270714Z",
     "iopub.status.busy": "2025-05-22T06:17:05.270468Z",
     "iopub.status.idle": "2025-05-22T06:17:05.273700Z",
     "shell.execute_reply": "2025-05-22T06:17:05.272978Z"
    },
    "papermill": {
     "duration": 0.016056,
     "end_time": "2025-05-22T06:17:05.274859",
     "exception": false,
     "start_time": "2025-05-22T06:17:05.258803",
     "status": "completed"
    },
    "tags": []
   },
   "outputs": [],
   "source": [
    "from sklearn.metrics.pairwise import cosine_similarity"
   ]
  },
  {
   "cell_type": "code",
   "execution_count": 53,
   "id": "858f3b4e",
   "metadata": {
    "execution": {
     "iopub.execute_input": "2025-05-22T06:17:05.298242Z",
     "iopub.status.busy": "2025-05-22T06:17:05.298038Z",
     "iopub.status.idle": "2025-05-22T06:17:06.592151Z",
     "shell.execute_reply": "2025-05-22T06:17:06.591470Z"
    },
    "papermill": {
     "duration": 1.306838,
     "end_time": "2025-05-22T06:17:06.593215",
     "exception": false,
     "start_time": "2025-05-22T06:17:05.286377",
     "status": "completed"
    },
    "tags": []
   },
   "outputs": [
    {
     "data": {
      "text/plain": [
       "array([[1.        , 0.08458258, 0.08718573, ..., 0.04559608, 0.        ,\n",
       "        0.        ],\n",
       "       [0.08458258, 1.        , 0.06063391, ..., 0.02378257, 0.        ,\n",
       "        0.02615329],\n",
       "       [0.08718573, 0.06063391, 1.        , ..., 0.02451452, 0.        ,\n",
       "        0.        ],\n",
       "       ...,\n",
       "       [0.04559608, 0.02378257, 0.02451452, ..., 1.        , 0.03962144,\n",
       "        0.04229549],\n",
       "       [0.        , 0.        , 0.        , ..., 0.03962144, 1.        ,\n",
       "        0.08714204],\n",
       "       [0.        , 0.02615329, 0.        , ..., 0.04229549, 0.08714204,\n",
       "        1.        ]])"
      ]
     },
     "execution_count": 53,
     "metadata": {},
     "output_type": "execute_result"
    }
   ],
   "source": [
    "similarity = cosine_similarity(vector)\n",
    "similarity"
   ]
  },
  {
   "cell_type": "code",
   "execution_count": 54,
   "id": "3cdd77ca",
   "metadata": {
    "execution": {
     "iopub.execute_input": "2025-05-22T06:17:06.617326Z",
     "iopub.status.busy": "2025-05-22T06:17:06.617129Z",
     "iopub.status.idle": "2025-05-22T06:17:06.623277Z",
     "shell.execute_reply": "2025-05-22T06:17:06.622545Z"
    },
    "papermill": {
     "duration": 0.019204,
     "end_time": "2025-05-22T06:17:06.624287",
     "exception": false,
     "start_time": "2025-05-22T06:17:06.605083",
     "status": "completed"
    },
    "tags": []
   },
   "outputs": [
    {
     "data": {
      "text/plain": [
       "119"
      ]
     },
     "execution_count": 54,
     "metadata": {},
     "output_type": "execute_result"
    }
   ],
   "source": [
    "new_df[new_df['title'] == 'Batman Begins'].index[0]"
   ]
  },
  {
   "cell_type": "code",
   "execution_count": 55,
   "id": "1c13817f",
   "metadata": {
    "execution": {
     "iopub.execute_input": "2025-05-22T06:17:06.647784Z",
     "iopub.status.busy": "2025-05-22T06:17:06.647494Z",
     "iopub.status.idle": "2025-05-22T06:17:06.651981Z",
     "shell.execute_reply": "2025-05-22T06:17:06.651193Z"
    },
    "papermill": {
     "duration": 0.017455,
     "end_time": "2025-05-22T06:17:06.653026",
     "exception": false,
     "start_time": "2025-05-22T06:17:06.635571",
     "status": "completed"
    },
    "tags": []
   },
   "outputs": [],
   "source": [
    "def recommend(movie):\n",
    "    index = new_df[new_df['title'] == movie].index[0]\n",
    "    distances = sorted(list(enumerate(similarity[index])),reverse=True,key = lambda x: x[1])\n",
    "    for i in distances[1:6]:\n",
    "        print(new_df.iloc[i[0]].title)"
   ]
  },
  {
   "cell_type": "code",
   "execution_count": 56,
   "id": "83904101",
   "metadata": {
    "execution": {
     "iopub.execute_input": "2025-05-22T06:17:06.677241Z",
     "iopub.status.busy": "2025-05-22T06:17:06.677021Z",
     "iopub.status.idle": "2025-05-22T06:17:06.682145Z",
     "shell.execute_reply": "2025-05-22T06:17:06.681405Z"
    },
    "papermill": {
     "duration": 0.018163,
     "end_time": "2025-05-22T06:17:06.683297",
     "exception": false,
     "start_time": "2025-05-22T06:17:06.665134",
     "status": "completed"
    },
    "tags": []
   },
   "outputs": [
    {
     "data": {
      "text/plain": [
       "array(['Avatar', \"Pirates of the Caribbean: At World's End\", 'Spectre',\n",
       "       ..., 'Signed, Sealed, Delivered', 'Shanghai Calling',\n",
       "       'My Date with Drew'], dtype=object)"
      ]
     },
     "execution_count": 56,
     "metadata": {},
     "output_type": "execute_result"
    }
   ],
   "source": [
    "new_df['title'].unique()"
   ]
  },
  {
   "cell_type": "code",
   "execution_count": 57,
   "id": "b78033c8",
   "metadata": {
    "execution": {
     "iopub.execute_input": "2025-05-22T06:17:06.706919Z",
     "iopub.status.busy": "2025-05-22T06:17:06.706713Z",
     "iopub.status.idle": "2025-05-22T06:17:06.715201Z",
     "shell.execute_reply": "2025-05-22T06:17:06.714621Z"
    },
    "papermill": {
     "duration": 0.021418,
     "end_time": "2025-05-22T06:17:06.716306",
     "exception": false,
     "start_time": "2025-05-22T06:17:06.694888",
     "status": "completed"
    },
    "tags": []
   },
   "outputs": [
    {
     "name": "stdout",
     "output_type": "stream",
     "text": [
      "The Dark Knight\n",
      "Batman\n",
      "Batman\n",
      "The Dark Knight Rises\n",
      "10th & Wolf\n"
     ]
    }
   ],
   "source": [
    "recommend(\"Batman Begins\")"
   ]
  },
  {
   "cell_type": "code",
   "execution_count": 58,
   "id": "b3c90df2",
   "metadata": {
    "execution": {
     "iopub.execute_input": "2025-05-22T06:17:06.740355Z",
     "iopub.status.busy": "2025-05-22T06:17:06.739879Z",
     "iopub.status.idle": "2025-05-22T06:17:06.742816Z",
     "shell.execute_reply": "2025-05-22T06:17:06.742262Z"
    },
    "papermill": {
     "duration": 0.015974,
     "end_time": "2025-05-22T06:17:06.743918",
     "exception": false,
     "start_time": "2025-05-22T06:17:06.727944",
     "status": "completed"
    },
    "tags": []
   },
   "outputs": [],
   "source": [
    "import pickle"
   ]
  },
  {
   "cell_type": "code",
   "execution_count": 59,
   "id": "50df3456",
   "metadata": {
    "execution": {
     "iopub.execute_input": "2025-05-22T06:17:06.769631Z",
     "iopub.status.busy": "2025-05-22T06:17:06.769398Z",
     "iopub.status.idle": "2025-05-22T06:17:06.787455Z",
     "shell.execute_reply": "2025-05-22T06:17:06.786923Z"
    },
    "papermill": {
     "duration": 0.031785,
     "end_time": "2025-05-22T06:17:06.788539",
     "exception": false,
     "start_time": "2025-05-22T06:17:06.756754",
     "status": "completed"
    },
    "tags": []
   },
   "outputs": [],
   "source": [
    "pickle.dump(new_df.to_dict(),open(\"movie_dict.pkl\",\"wb\"))"
   ]
  },
  {
   "cell_type": "code",
   "execution_count": 60,
   "id": "2a404cfc",
   "metadata": {
    "execution": {
     "iopub.execute_input": "2025-05-22T06:17:06.813810Z",
     "iopub.status.busy": "2025-05-22T06:17:06.813593Z",
     "iopub.status.idle": "2025-05-22T06:17:07.122872Z",
     "shell.execute_reply": "2025-05-22T06:17:07.122223Z"
    },
    "papermill": {
     "duration": 0.323544,
     "end_time": "2025-05-22T06:17:07.124254",
     "exception": false,
     "start_time": "2025-05-22T06:17:06.800710",
     "status": "completed"
    },
    "tags": []
   },
   "outputs": [],
   "source": [
    "pickle.dump(similarity,open(\"similarity.pkl\",\"wb\"))"
   ]
  },
  {
   "cell_type": "code",
   "execution_count": null,
   "id": "067056a6",
   "metadata": {
    "papermill": {
     "duration": 0.011357,
     "end_time": "2025-05-22T06:17:07.147986",
     "exception": false,
     "start_time": "2025-05-22T06:17:07.136629",
     "status": "completed"
    },
    "tags": []
   },
   "outputs": [],
   "source": []
  }
 ],
 "metadata": {
  "kaggle": {
   "accelerator": "gpu",
   "dataSources": [
    {
     "datasetId": 138,
     "sourceId": 4508,
     "sourceType": "datasetVersion"
    },
    {
     "datasetId": 3405,
     "sourceId": 6663,
     "sourceType": "datasetVersion"
    }
   ],
   "dockerImageVersionId": 31041,
   "isGpuEnabled": true,
   "isInternetEnabled": true,
   "language": "python",
   "sourceType": "notebook"
  },
  "kernelspec": {
   "display_name": "Python 3",
   "language": "python",
   "name": "python3"
  },
  "language_info": {
   "codemirror_mode": {
    "name": "ipython",
    "version": 3
   },
   "file_extension": ".py",
   "mimetype": "text/x-python",
   "name": "python",
   "nbconvert_exporter": "python",
   "pygments_lexer": "ipython3",
   "version": "3.11.11"
  },
  "papermill": {
   "default_parameters": {},
   "duration": 22.956246,
   "end_time": "2025-05-22T06:17:07.676501",
   "environment_variables": {},
   "exception": null,
   "input_path": "__notebook__.ipynb",
   "output_path": "__notebook__.ipynb",
   "parameters": {},
   "start_time": "2025-05-22T06:16:44.720255",
   "version": "2.6.0"
  }
 },
 "nbformat": 4,
 "nbformat_minor": 5
}
